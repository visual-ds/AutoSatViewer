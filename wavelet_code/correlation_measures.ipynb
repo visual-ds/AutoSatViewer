{
 "cells": [
  {
   "cell_type": "code",
   "execution_count": 1,
   "metadata": {},
   "outputs": [
    {
     "name": "stderr",
     "output_type": "stream",
     "text": [
      "/tmp/ipykernel_711275/3346051274.py:2: DeprecationWarning: \n",
      "Pyarrow will become a required dependency of pandas in the next major release of pandas (pandas 3.0),\n",
      "(to allow more performant data types, such as the Arrow string type, and better interoperability with other libraries)\n",
      "but was not found to be installed on your system.\n",
      "If this would cause problems for you,\n",
      "please provide us feedback at https://github.com/pandas-dev/pandas/issues/54466\n",
      "        \n",
      "  import pandas as pd\n",
      "/home/giovani/anaconda3/envs/wavelet_code/lib/python3.10/site-packages/tslearn/bases/bases.py:15: UserWarning: h5py not installed, hdf5 features will not be supported.\n",
      "Install h5py to use hdf5 features: http://docs.h5py.org/\n",
      "  warn(h5py_msg)\n"
     ]
    }
   ],
   "source": [
    "import numpy as np\n",
    "import pandas as pd\n",
    "from tqdm import tqdm\n",
    "import matplotlib.pyplot as plt\n",
    "from tslearn.metrics import cdist_dtw, dtw\n",
    "from scipy.signal import correlate"
   ]
  },
  {
   "cell_type": "code",
   "execution_count": 2,
   "metadata": {},
   "outputs": [],
   "source": [
    "def dtw_similarity(multi_ts, r = 1):\n",
    "    assert multi_ts.ndim == 2\n",
    "    k = multi_ts.shape[1]\n",
    "    out = np.zeros((k, k))\n",
    "    for i in range(k):\n",
    "        for j in range(i, k):\n",
    "            d = dtw(multi_ts[:, i], multi_ts[:, j], global_constraint=\"sakoe_chiba\", sakoe_chiba_radius=r)\n",
    "            out[i, j] = d\n",
    "            out[j, i] = out[i, j]\t\n",
    "    return out"
   ]
  },
  {
   "cell_type": "code",
   "execution_count": 3,
   "metadata": {},
   "outputs": [],
   "source": [
    "def save_dtw_dist_matrix(poly_division, time_interval):\n",
    "    # load and normalize signals\n",
    "\n",
    "    df = pd.read_csv(f\"data/polygon_data/{poly_division}_{time_interval}.csv\")\n",
    "    features = df.columns[2:]\n",
    "    signal_multi = np.stack(df.groupby(\"id_poly\").apply(lambda x: x.sort_values(\"date\").drop(columns=[\"id_poly\", \"date\"]).values).values)\n",
    "    for i in range(signal_multi.shape[2]):\n",
    "        mu = np.mean(signal_multi[:, :, i])\n",
    "        sigma = np.std(signal_multi[:, :, i])\n",
    "\n",
    "        if sigma == 0:\n",
    "            sigma = 1\n",
    "        signal_multi[:, :, i] = (signal_multi[:, :, i] - mu) / sigma\n",
    "\n",
    "    # calculate dtw distance matrix\n",
    "    geral_dist = np.zeros((signal_multi.shape[2], signal_multi.shape[2]))\n",
    "    for i in tqdm(range(signal_multi.shape[0])):\n",
    "        sample_dist = dtw_similarity(signal_multi[i], r = 5)\n",
    "        geral_dist += sample_dist   \n",
    "\n",
    "    geral_dist /= signal_multi.shape[0] \n",
    "\n",
    "    df = []\n",
    "    for i in range(geral_dist.shape[0]):\n",
    "        for j in range(i, geral_dist.shape[1]):\n",
    "            df.append({\n",
    "                \"row\": features[i],\n",
    "                \"column\": features[j],\n",
    "                \"value\": geral_dist[i, j]\n",
    "            })\n",
    "    df = pd.DataFrame(df)\n",
    "\n",
    "    df.to_csv(f\"data/similarity_matrix/{poly_division}_{time_interval}.csv\", index=False)"
   ]
  },
  {
   "cell_type": "code",
   "execution_count": 4,
   "metadata": {},
   "outputs": [
    {
     "name": "stderr",
     "output_type": "stream",
     "text": [
      "/tmp/ipykernel_673051/3312879201.py:6: DeprecationWarning: DataFrameGroupBy.apply operated on the grouping columns. This behavior is deprecated, and in a future version of pandas the grouping columns will be excluded from the operation. Either pass `include_groups=False` to exclude the groupings or explicitly select the grouping columns after groupby to silence this warning.\n",
      "  signal_multi = np.stack(df.groupby(\"id_poly\").apply(lambda x: x.sort_values(\"date\").drop(columns=[\"id_poly\", \"date\"]).values).values)\n",
      "100%|██████████| 5000/5000 [00:16<00:00, 299.52it/s]\n"
     ]
    }
   ],
   "source": [
    "save_dtw_dist_matrix(\"SpCenterCensus5k\", \"Period1\")\n",
    "save_dtw_dist_matrix(\"SpCenterCensus5k\", \"Period2\")"
   ]
  },
  {
   "cell_type": "code",
   "execution_count": 4,
   "metadata": {},
   "outputs": [
    {
     "name": "stderr",
     "output_type": "stream",
     "text": [
      "/tmp/ipykernel_711275/3312879201.py:6: DeprecationWarning: DataFrameGroupBy.apply operated on the grouping columns. This behavior is deprecated, and in a future version of pandas the grouping columns will be excluded from the operation. Either pass `include_groups=False` to exclude the groupings or explicitly select the grouping columns after groupby to silence this warning.\n",
      "  signal_multi = np.stack(df.groupby(\"id_poly\").apply(lambda x: x.sort_values(\"date\").drop(columns=[\"id_poly\", \"date\"]).values).values)\n",
      "100%|██████████| 2000/2000 [00:06<00:00, 296.64it/s]\n",
      "/tmp/ipykernel_711275/3312879201.py:6: DeprecationWarning: DataFrameGroupBy.apply operated on the grouping columns. This behavior is deprecated, and in a future version of pandas the grouping columns will be excluded from the operation. Either pass `include_groups=False` to exclude the groupings or explicitly select the grouping columns after groupby to silence this warning.\n",
      "  signal_multi = np.stack(df.groupby(\"id_poly\").apply(lambda x: x.sort_values(\"date\").drop(columns=[\"id_poly\", \"date\"]).values).values)\n",
      "100%|██████████| 2000/2000 [00:03<00:00, 598.08it/s]\n"
     ]
    }
   ],
   "source": [
    "save_dtw_dist_matrix(\"SpCenterCensus2k\", \"Period1\")\n",
    "save_dtw_dist_matrix(\"SpCenterCensus2k\", \"Period2\")"
   ]
  },
  {
   "cell_type": "code",
   "execution_count": 4,
   "metadata": {},
   "outputs": [
    {
     "name": "stderr",
     "output_type": "stream",
     "text": [
      "/tmp/ipykernel_532745/3312879201.py:6: DeprecationWarning: DataFrameGroupBy.apply operated on the grouping columns. This behavior is deprecated, and in a future version of pandas the grouping columns will be excluded from the operation. Either pass `include_groups=False` to exclude the groupings or explicitly select the grouping columns after groupby to silence this warning.\n",
      "  signal_multi = np.stack(df.groupby(\"id_poly\").apply(lambda x: x.sort_values(\"date\").drop(columns=[\"id_poly\", \"date\"]).values).values)\n",
      "100%|██████████| 773/773 [00:03<00:00, 245.36it/s]\n"
     ]
    }
   ],
   "source": [
    "save_dtw_dist_matrix(\"BLACities\", \"Year\")"
   ]
  }
 ],
 "metadata": {
  "kernelspec": {
   "display_name": "wavelet_code",
   "language": "python",
   "name": "python3"
  },
  "language_info": {
   "codemirror_mode": {
    "name": "ipython",
    "version": 3
   },
   "file_extension": ".py",
   "mimetype": "text/x-python",
   "name": "python",
   "nbconvert_exporter": "python",
   "pygments_lexer": "ipython3",
   "version": "3.10.13"
  }
 },
 "nbformat": 4,
 "nbformat_minor": 2
}
