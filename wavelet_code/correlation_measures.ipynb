{
 "cells": [
  {
   "cell_type": "code",
   "execution_count": 1,
   "metadata": {},
   "outputs": [
    {
     "name": "stderr",
     "output_type": "stream",
     "text": [
      "/tmp/ipykernel_119219/1785983841.py:2: DeprecationWarning: \n",
      "Pyarrow will become a required dependency of pandas in the next major release of pandas (pandas 3.0),\n",
      "(to allow more performant data types, such as the Arrow string type, and better interoperability with other libraries)\n",
      "but was not found to be installed on your system.\n",
      "If this would cause problems for you,\n",
      "please provide us feedback at https://github.com/pandas-dev/pandas/issues/54466\n",
      "        \n",
      "  import pandas as pd\n",
      "/home/giovani/anaconda3/envs/wavelet_code/lib/python3.10/site-packages/tslearn/bases/bases.py:15: UserWarning: h5py not installed, hdf5 features will not be supported.\n",
      "Install h5py to use hdf5 features: http://docs.h5py.org/\n",
      "  warn(h5py_msg)\n"
     ]
    }
   ],
   "source": [
    "import numpy as np\n",
    "import pandas as pd\n",
    "import matplotlib.pyplot as plt\n",
    "from tslearn.metrics import cdist_dtw, dtw\n",
    "from scipy.signal import correlate"
   ]
  },
  {
   "cell_type": "markdown",
   "metadata": {},
   "source": [
    "# (n, t, k)"
   ]
  },
  {
   "cell_type": "markdown",
   "metadata": {},
   "source": [
    "# (t, k)"
   ]
  },
  {
   "cell_type": "code",
   "execution_count": null,
   "metadata": {},
   "outputs": [],
   "source": []
  },
  {
   "cell_type": "code",
   "execution_count": 28,
   "metadata": {},
   "outputs": [],
   "source": [
    "def save_dtw_dist_matrix(poly_division, time_interval):\n",
    "    # load and normalize signals\n",
    "\n",
    "    df = pd.read_csv(f\"data/polygon_data/{poly_division}_{time_interval}.csv\")\n",
    "    features = df.columns[2:]\n",
    "    signal_multi = np.stack(df.groupby(\"id_poly\").apply(lambda x: x.sort_values(\"date\").drop(columns=[\"id_poly\", \"date\"]).values).values)\n",
    "    for i in range(signal_multi.shape[2]):\n",
    "        mu = np.mean(signal_multi[:, :, i])\n",
    "        sigma = np.std(signal_multi[:, :, i])\n",
    "\n",
    "        if sigma == 0:\n",
    "            sigma = 1\n",
    "        signal_multi[:, :, i] = (signal_multi[:, :, i] - mu) / sigma\n",
    "\n",
    "    # calculate dtw distance matrix\n",
    "    geral_dist = np.zeros((signal_multi.shape[2], signal_multi.shape[2]))\n",
    "    for i in tqdm(range(signal_multi.shape[0])):\n",
    "        sample_dist = dtw_similarity(signal_multi[i], r = 5)\n",
    "        geral_dist += sample_dist   \n",
    "\n",
    "    geral_dist /= signal_multi.shape[0] \n",
    "\n",
    "    df = []\n",
    "    for i in range(geral_dist.shape[0]):\n",
    "        for j in range(i, geral_dist.shape[1]):\n",
    "            df.append({\n",
    "                \"row\": features[i],\n",
    "                \"column\": features[j],\n",
    "                \"value\": geral_dist[i, j]\n",
    "            })\n",
    "    df = pd.DataFrame(df)\n",
    "\n",
    "    df.to_csv(f\"data/similarity_matrix/{poly_division}_{time_interval}.csv\", index=False)"
   ]
  },
  {
   "cell_type": "code",
   "execution_count": 29,
   "metadata": {},
   "outputs": [
    {
     "name": "stderr",
     "output_type": "stream",
     "text": [
      "/tmp/ipykernel_119219/3312879201.py:6: DeprecationWarning: DataFrameGroupBy.apply operated on the grouping columns. This behavior is deprecated, and in a future version of pandas the grouping columns will be excluded from the operation. Either pass `include_groups=False` to exclude the groupings or explicitly select the grouping columns after groupby to silence this warning.\n",
      "  signal_multi = np.stack(df.groupby(\"id_poly\").apply(lambda x: x.sort_values(\"date\").drop(columns=[\"id_poly\", \"date\"]).values).values)\n",
      "100%|██████████| 4900/4900 [00:12<00:00, 385.56it/s]\n",
      "/tmp/ipykernel_119219/3312879201.py:6: DeprecationWarning: DataFrameGroupBy.apply operated on the grouping columns. This behavior is deprecated, and in a future version of pandas the grouping columns will be excluded from the operation. Either pass `include_groups=False` to exclude the groupings or explicitly select the grouping columns after groupby to silence this warning.\n",
      "  signal_multi = np.stack(df.groupby(\"id_poly\").apply(lambda x: x.sort_values(\"date\").drop(columns=[\"id_poly\", \"date\"]).values).values)\n",
      "100%|██████████| 96/96 [00:00<00:00, 383.89it/s]\n",
      "/tmp/ipykernel_119219/3312879201.py:6: DeprecationWarning: DataFrameGroupBy.apply operated on the grouping columns. This behavior is deprecated, and in a future version of pandas the grouping columns will be excluded from the operation. Either pass `include_groups=False` to exclude the groupings or explicitly select the grouping columns after groupby to silence this warning.\n",
      "  signal_multi = np.stack(df.groupby(\"id_poly\").apply(lambda x: x.sort_values(\"date\").drop(columns=[\"id_poly\", \"date\"]).values).values)\n",
      "100%|██████████| 5000/5000 [00:12<00:00, 386.08it/s]\n",
      "/tmp/ipykernel_119219/3312879201.py:6: DeprecationWarning: DataFrameGroupBy.apply operated on the grouping columns. This behavior is deprecated, and in a future version of pandas the grouping columns will be excluded from the operation. Either pass `include_groups=False` to exclude the groupings or explicitly select the grouping columns after groupby to silence this warning.\n",
      "  signal_multi = np.stack(df.groupby(\"id_poly\").apply(lambda x: x.sort_values(\"date\").drop(columns=[\"id_poly\", \"date\"]).values).values)\n",
      "100%|██████████| 4900/4900 [00:33<00:00, 146.80it/s]\n",
      "/tmp/ipykernel_119219/3312879201.py:6: DeprecationWarning: DataFrameGroupBy.apply operated on the grouping columns. This behavior is deprecated, and in a future version of pandas the grouping columns will be excluded from the operation. Either pass `include_groups=False` to exclude the groupings or explicitly select the grouping columns after groupby to silence this warning.\n",
      "  signal_multi = np.stack(df.groupby(\"id_poly\").apply(lambda x: x.sort_values(\"date\").drop(columns=[\"id_poly\", \"date\"]).values).values)\n",
      "100%|██████████| 96/96 [00:00<00:00, 146.91it/s]\n",
      "/tmp/ipykernel_119219/3312879201.py:6: DeprecationWarning: DataFrameGroupBy.apply operated on the grouping columns. This behavior is deprecated, and in a future version of pandas the grouping columns will be excluded from the operation. Either pass `include_groups=False` to exclude the groupings or explicitly select the grouping columns after groupby to silence this warning.\n",
      "  signal_multi = np.stack(df.groupby(\"id_poly\").apply(lambda x: x.sort_values(\"date\").drop(columns=[\"id_poly\", \"date\"]).values).values)\n",
      "100%|██████████| 5000/5000 [00:34<00:00, 146.63it/s]\n"
     ]
    }
   ],
   "source": [
    "for time_interval in [\"Month\", \"Day\"]:\n",
    "    for poly_division in [\"SpGrid\", \"SpDistricts\", \"SpCenterCensus5k\"]:\n",
    "        save_dtw_dist_matrix(poly_division, time_interval)"
   ]
  },
  {
   "cell_type": "code",
   "execution_count": null,
   "metadata": {},
   "outputs": [],
   "source": [
    "poly_division = \"SpCenterCensus5k\"\n",
    "time_interval = \"Month\""
   ]
  },
  {
   "cell_type": "code",
   "execution_count": 4,
   "metadata": {},
   "outputs": [
    {
     "name": "stderr",
     "output_type": "stream",
     "text": [
      "/tmp/ipykernel_119219/3919161764.py:3: DeprecationWarning: DataFrameGroupBy.apply operated on the grouping columns. This behavior is deprecated, and in a future version of pandas the grouping columns will be excluded from the operation. Either pass `include_groups=False` to exclude the groupings or explicitly select the grouping columns after groupby to silence this warning.\n",
      "  signal_multi = np.stack(df.groupby(\"id_poly\").apply(lambda x: x.sort_values(\"date\").drop(columns=[\"id_poly\", \"date\"]).values).values)\n"
     ]
    }
   ],
   "source": [
    "df = pd.read_csv(f\"data/polygon_data/{poly_division}_{time_interval}.csv\")\n",
    "features = df.columns[2:]\n",
    "signal_multi = np.stack(df.groupby(\"id_poly\").apply(lambda x: x.sort_values(\"date\").drop(columns=[\"id_poly\", \"date\"]).values).values)\n",
    "for i in range(signal_multi.shape[2]):\n",
    "    mu = np.mean(signal_multi[:, :, i])\n",
    "    sigma = np.std(signal_multi[:, :, i])\n",
    "\n",
    "    if sigma == 0:\n",
    "        sigma = 1\n",
    "    signal_multi[:, :, i] = (signal_multi[:, :, i] - mu) / sigma\n",
    "\n",
    "    "
   ]
  },
  {
   "cell_type": "code",
   "execution_count": 26,
   "metadata": {},
   "outputs": [],
   "source": [
    "def euclidean_similarity(multi_ts):\n",
    "    assert multi_ts.ndim == 2\n",
    "    k = multi_ts.shape[1]\n",
    "    out = np.zeros((k, k))\n",
    "    for i in range(k):\n",
    "        for j in range(i, k):\n",
    "            d = ((multi_ts[:, i] - multi_ts[:, j])**2).sum()\n",
    "            out[i, j] = 1 if d == 0 else 1 / d\n",
    "            out[j, i] = out[i, j]\t\n",
    "    return out\n",
    "\n",
    "def time_series_corr(multi_ts):\n",
    "    assert multi_ts.ndim == 2\n",
    "    return np.abs(np.corrcoef(multi_ts, rowvar=False))\n",
    "\n",
    "def dtw_similarity(multi_ts, r = 1):\n",
    "    assert multi_ts.ndim == 2\n",
    "    k = multi_ts.shape[1]\n",
    "    out = np.zeros((k, k))\n",
    "    for i in range(k):\n",
    "        for j in range(i, k):\n",
    "            d = dtw(multi_ts[:, i], multi_ts[:, j], global_constraint=\"sakoe_chiba\", sakoe_chiba_radius=r)\n",
    "            out[i, j] = d\n",
    "            out[j, i] = out[i, j]\t\n",
    "    return out\n",
    "\n",
    "def cross_correlation_similarity(multi_ts):\n",
    "    assert multi_ts.ndim == 2\n",
    "    k = multi_ts.shape[1]\n",
    "    out = np.zeros((k, k))\n",
    "    for i in range(k):\n",
    "        for j in range(k):\n",
    "            out[i, j] = correlate(multi_ts[:, i], multi_ts[:, j]).max()\n",
    "    return out"
   ]
  },
  {
   "cell_type": "code",
   "execution_count": 7,
   "metadata": {},
   "outputs": [],
   "source": [
    "mean_signal = np.mean(signal_multi, axis=0)[:, :7]"
   ]
  },
  {
   "cell_type": "code",
   "execution_count": 61,
   "metadata": {},
   "outputs": [
    {
     "data": {
      "text/plain": [
       "<matplotlib.colorbar.Colorbar at 0x7f3316fe5d80>"
      ]
     },
     "execution_count": 61,
     "metadata": {},
     "output_type": "execute_result"
    },
    {
     "data": {
      "image/png": "[encoded data removed]",
      "text/plain": [
       "<Figure size 640x480 with 2 Axes>"
      ]
     },
     "metadata": {},
     "output_type": "display_data"
    }
   ],
   "source": [
    "plt.imshow(euclidean_similarity(mean_signal), cmap = \"PuBu\")\n",
    "plt.colorbar()"
   ]
  },
  {
   "cell_type": "code",
   "execution_count": 62,
   "metadata": {},
   "outputs": [
    {
     "data": {
      "text/plain": [
       "<matplotlib.colorbar.Colorbar at 0x7f3316ea25c0>"
      ]
     },
     "execution_count": 62,
     "metadata": {},
     "output_type": "execute_result"
    },
    {
     "data": {
      "image/png": "[encoded data removed]",
      "text/plain": [
       "<Figure size 640x480 with 2 Axes>"
      ]
     },
     "metadata": {},
     "output_type": "display_data"
    }
   ],
   "source": [
    "plt.imshow(time_series_corr(mean_signal), cmap = \"PuBu\")\n",
    "plt.colorbar()"
   ]
  },
  {
   "cell_type": "code",
   "execution_count": 63,
   "metadata": {},
   "outputs": [
    {
     "data": {
      "text/plain": [
       "<matplotlib.colorbar.Colorbar at 0x7f3316d86b60>"
      ]
     },
     "execution_count": 63,
     "metadata": {},
     "output_type": "execute_result"
    },
    {
     "data": {
      "image/png": "[encoded data removed]",
      "text/plain": [
       "<Figure size 640x480 with 2 Axes>"
      ]
     },
     "metadata": {},
     "output_type": "display_data"
    }
   ],
   "source": [
    "plt.imshow(cross_correlation_similarity(mean_signal), cmap = \"PuBu\")\n",
    "plt.colorbar()"
   ]
  },
  {
   "cell_type": "code",
   "execution_count": 64,
   "metadata": {},
   "outputs": [
    {
     "data": {
      "text/plain": [
       "<matplotlib.colorbar.Colorbar at 0x7f3316c5efb0>"
      ]
     },
     "execution_count": 64,
     "metadata": {},
     "output_type": "execute_result"
    },
    {
     "data": {
      "image/png": "[encoded data removed]",
      "text/plain": [
       "<Figure size 640x480 with 2 Axes>"
      ]
     },
     "metadata": {},
     "output_type": "display_data"
    }
   ],
   "source": [
    "plt.imshow(dtw_similarity(mean_signal), cmap = \"PuBu\")\n",
    "plt.colorbar()"
   ]
  },
  {
   "cell_type": "code",
   "execution_count": 13,
   "metadata": {},
   "outputs": [],
   "source": [
    "from tqdm import tqdm"
   ]
  },
  {
   "cell_type": "code",
   "execution_count": 14,
   "metadata": {},
   "outputs": [
    {
     "name": "stderr",
     "output_type": "stream",
     "text": [
      "100%|██████████| 5000/5000 [00:13<00:00, 372.24it/s]\n"
     ]
    }
   ],
   "source": [
    "geral_dist = np.zeros((signal_multi.shape[2], signal_multi.shape[2]))\n",
    "for i in tqdm(range(signal_multi.shape[0])):\n",
    "    sample_dist = dtw_similarity(signal_multi[i])\n",
    "    geral_dist += sample_dist"
   ]
  },
  {
   "cell_type": "code",
   "execution_count": 20,
   "metadata": {},
   "outputs": [
    {
     "data": {
      "text/plain": [
       "<matplotlib.colorbar.Colorbar at 0x7ff80f76dfc0>"
      ]
     },
     "execution_count": 20,
     "metadata": {},
     "output_type": "execute_result"
    },
    {
     "data": {
      "image/png": "[encoded data removed]",
      "text/plain": [
       "<Figure size 640x480 with 2 Axes>"
      ]
     },
     "metadata": {},
     "output_type": "display_data"
    }
   ],
   "source": [
    "plt.imshow(geral_dist, cmap = \"PuBu\", vmax = 10000)\n",
    "plt.colorbar()"
   ]
  },
  {
   "cell_type": "code",
   "execution_count": 21,
   "metadata": {},
   "outputs": [],
   "source": [
    "# convert geral_dist to dataframe\n",
    "\n",
    "df = []\n",
    "for i in range(geral_dist.shape[0]):\n",
    "    for j in range(i, geral_dist.shape[1]):\n",
    "        df.append({\n",
    "            \"row\": features[i],\n",
    "            \"column\": features[j],\n",
    "            \"value\": geral_dist[i, j]\n",
    "        })\n",
    "df = pd.DataFrame(df)"
   ]
  },
  {
   "cell_type": "code",
   "execution_count": 22,
   "metadata": {},
   "outputs": [
    {
     "data": {
      "text/html": [
       "<div>\n",
       "<style scoped>\n",
       "    .dataframe tbody tr th:only-of-type {\n",
       "        vertical-align: middle;\n",
       "    }\n",
       "\n",
       "    .dataframe tbody tr th {\n",
       "        vertical-align: top;\n",
       "    }\n",
       "\n",
       "    .dataframe thead th {\n",
       "        text-align: right;\n",
       "    }\n",
       "</style>\n",
       "<table border=\"1\" class=\"dataframe\">\n",
       "  <thead>\n",
       "    <tr style=\"text-align: right;\">\n",
       "      <th></th>\n",
       "      <th>row</th>\n",
       "      <th>column</th>\n",
       "      <th>value</th>\n",
       "    </tr>\n",
       "  </thead>\n",
       "  <tbody>\n",
       "    <tr>\n",
       "      <th>0</th>\n",
       "      <td>Accident</td>\n",
       "      <td>Accident</td>\n",
       "      <td>5000.000000</td>\n",
       "    </tr>\n",
       "    <tr>\n",
       "      <th>1</th>\n",
       "      <td>Accident</td>\n",
       "      <td>Hazard</td>\n",
       "      <td>3307.126310</td>\n",
       "    </tr>\n",
       "    <tr>\n",
       "      <th>2</th>\n",
       "      <td>Accident</td>\n",
       "      <td>Jam</td>\n",
       "      <td>2547.684252</td>\n",
       "    </tr>\n",
       "    <tr>\n",
       "      <th>3</th>\n",
       "      <td>Accident</td>\n",
       "      <td>Road Closed</td>\n",
       "      <td>4491.314945</td>\n",
       "    </tr>\n",
       "    <tr>\n",
       "      <th>4</th>\n",
       "      <td>Accident</td>\n",
       "      <td>Weather Hazard</td>\n",
       "      <td>3645.585997</td>\n",
       "    </tr>\n",
       "    <tr>\n",
       "      <th>5</th>\n",
       "      <td>Accident</td>\n",
       "      <td>Phone Theft</td>\n",
       "      <td>10476.894049</td>\n",
       "    </tr>\n",
       "    <tr>\n",
       "      <th>6</th>\n",
       "      <td>Accident</td>\n",
       "      <td>Phone Robbery</td>\n",
       "      <td>111361.801105</td>\n",
       "    </tr>\n",
       "    <tr>\n",
       "      <th>7</th>\n",
       "      <td>Accident</td>\n",
       "      <td>Temperature</td>\n",
       "      <td>689.600727</td>\n",
       "    </tr>\n",
       "    <tr>\n",
       "      <th>8</th>\n",
       "      <td>Accident</td>\n",
       "      <td>Precipitation</td>\n",
       "      <td>692.370532</td>\n",
       "    </tr>\n",
       "    <tr>\n",
       "      <th>9</th>\n",
       "      <td>Hazard</td>\n",
       "      <td>Hazard</td>\n",
       "      <td>5000.000000</td>\n",
       "    </tr>\n",
       "    <tr>\n",
       "      <th>10</th>\n",
       "      <td>Hazard</td>\n",
       "      <td>Jam</td>\n",
       "      <td>2008.796180</td>\n",
       "    </tr>\n",
       "    <tr>\n",
       "      <th>11</th>\n",
       "      <td>Hazard</td>\n",
       "      <td>Road Closed</td>\n",
       "      <td>8960.748186</td>\n",
       "    </tr>\n",
       "    <tr>\n",
       "      <th>12</th>\n",
       "      <td>Hazard</td>\n",
       "      <td>Weather Hazard</td>\n",
       "      <td>2424.640431</td>\n",
       "    </tr>\n",
       "    <tr>\n",
       "      <th>13</th>\n",
       "      <td>Hazard</td>\n",
       "      <td>Phone Theft</td>\n",
       "      <td>3400.347066</td>\n",
       "    </tr>\n",
       "    <tr>\n",
       "      <th>14</th>\n",
       "      <td>Hazard</td>\n",
       "      <td>Phone Robbery</td>\n",
       "      <td>3319.837370</td>\n",
       "    </tr>\n",
       "    <tr>\n",
       "      <th>15</th>\n",
       "      <td>Hazard</td>\n",
       "      <td>Temperature</td>\n",
       "      <td>745.359435</td>\n",
       "    </tr>\n",
       "    <tr>\n",
       "      <th>16</th>\n",
       "      <td>Hazard</td>\n",
       "      <td>Precipitation</td>\n",
       "      <td>746.053361</td>\n",
       "    </tr>\n",
       "    <tr>\n",
       "      <th>17</th>\n",
       "      <td>Jam</td>\n",
       "      <td>Jam</td>\n",
       "      <td>5000.000000</td>\n",
       "    </tr>\n",
       "    <tr>\n",
       "      <th>18</th>\n",
       "      <td>Jam</td>\n",
       "      <td>Road Closed</td>\n",
       "      <td>2149.337465</td>\n",
       "    </tr>\n",
       "    <tr>\n",
       "      <th>19</th>\n",
       "      <td>Jam</td>\n",
       "      <td>Weather Hazard</td>\n",
       "      <td>3706.548211</td>\n",
       "    </tr>\n",
       "    <tr>\n",
       "      <th>20</th>\n",
       "      <td>Jam</td>\n",
       "      <td>Phone Theft</td>\n",
       "      <td>2638.032797</td>\n",
       "    </tr>\n",
       "    <tr>\n",
       "      <th>21</th>\n",
       "      <td>Jam</td>\n",
       "      <td>Phone Robbery</td>\n",
       "      <td>2270.954168</td>\n",
       "    </tr>\n",
       "    <tr>\n",
       "      <th>22</th>\n",
       "      <td>Jam</td>\n",
       "      <td>Temperature</td>\n",
       "      <td>686.094764</td>\n",
       "    </tr>\n",
       "    <tr>\n",
       "      <th>23</th>\n",
       "      <td>Jam</td>\n",
       "      <td>Precipitation</td>\n",
       "      <td>685.223882</td>\n",
       "    </tr>\n",
       "    <tr>\n",
       "      <th>24</th>\n",
       "      <td>Road Closed</td>\n",
       "      <td>Road Closed</td>\n",
       "      <td>5000.000000</td>\n",
       "    </tr>\n",
       "    <tr>\n",
       "      <th>25</th>\n",
       "      <td>Road Closed</td>\n",
       "      <td>Weather Hazard</td>\n",
       "      <td>2728.985869</td>\n",
       "    </tr>\n",
       "    <tr>\n",
       "      <th>26</th>\n",
       "      <td>Road Closed</td>\n",
       "      <td>Phone Theft</td>\n",
       "      <td>4122.239579</td>\n",
       "    </tr>\n",
       "    <tr>\n",
       "      <th>27</th>\n",
       "      <td>Road Closed</td>\n",
       "      <td>Phone Robbery</td>\n",
       "      <td>4160.586655</td>\n",
       "    </tr>\n",
       "    <tr>\n",
       "      <th>28</th>\n",
       "      <td>Road Closed</td>\n",
       "      <td>Temperature</td>\n",
       "      <td>718.801761</td>\n",
       "    </tr>\n",
       "    <tr>\n",
       "      <th>29</th>\n",
       "      <td>Road Closed</td>\n",
       "      <td>Precipitation</td>\n",
       "      <td>720.318591</td>\n",
       "    </tr>\n",
       "    <tr>\n",
       "      <th>30</th>\n",
       "      <td>Weather Hazard</td>\n",
       "      <td>Weather Hazard</td>\n",
       "      <td>5000.000000</td>\n",
       "    </tr>\n",
       "    <tr>\n",
       "      <th>31</th>\n",
       "      <td>Weather Hazard</td>\n",
       "      <td>Phone Theft</td>\n",
       "      <td>3842.727225</td>\n",
       "    </tr>\n",
       "    <tr>\n",
       "      <th>32</th>\n",
       "      <td>Weather Hazard</td>\n",
       "      <td>Phone Robbery</td>\n",
       "      <td>3133.159713</td>\n",
       "    </tr>\n",
       "    <tr>\n",
       "      <th>33</th>\n",
       "      <td>Weather Hazard</td>\n",
       "      <td>Temperature</td>\n",
       "      <td>684.705128</td>\n",
       "    </tr>\n",
       "    <tr>\n",
       "      <th>34</th>\n",
       "      <td>Weather Hazard</td>\n",
       "      <td>Precipitation</td>\n",
       "      <td>687.598879</td>\n",
       "    </tr>\n",
       "    <tr>\n",
       "      <th>35</th>\n",
       "      <td>Phone Theft</td>\n",
       "      <td>Phone Theft</td>\n",
       "      <td>5000.000000</td>\n",
       "    </tr>\n",
       "    <tr>\n",
       "      <th>36</th>\n",
       "      <td>Phone Theft</td>\n",
       "      <td>Phone Robbery</td>\n",
       "      <td>9403.033877</td>\n",
       "    </tr>\n",
       "    <tr>\n",
       "      <th>37</th>\n",
       "      <td>Phone Theft</td>\n",
       "      <td>Temperature</td>\n",
       "      <td>706.935028</td>\n",
       "    </tr>\n",
       "    <tr>\n",
       "      <th>38</th>\n",
       "      <td>Phone Theft</td>\n",
       "      <td>Precipitation</td>\n",
       "      <td>711.238642</td>\n",
       "    </tr>\n",
       "    <tr>\n",
       "      <th>39</th>\n",
       "      <td>Phone Robbery</td>\n",
       "      <td>Phone Robbery</td>\n",
       "      <td>5000.000000</td>\n",
       "    </tr>\n",
       "    <tr>\n",
       "      <th>40</th>\n",
       "      <td>Phone Robbery</td>\n",
       "      <td>Temperature</td>\n",
       "      <td>700.649686</td>\n",
       "    </tr>\n",
       "    <tr>\n",
       "      <th>41</th>\n",
       "      <td>Phone Robbery</td>\n",
       "      <td>Precipitation</td>\n",
       "      <td>705.525700</td>\n",
       "    </tr>\n",
       "    <tr>\n",
       "      <th>42</th>\n",
       "      <td>Temperature</td>\n",
       "      <td>Temperature</td>\n",
       "      <td>5000.000000</td>\n",
       "    </tr>\n",
       "    <tr>\n",
       "      <th>43</th>\n",
       "      <td>Temperature</td>\n",
       "      <td>Precipitation</td>\n",
       "      <td>924.869273</td>\n",
       "    </tr>\n",
       "    <tr>\n",
       "      <th>44</th>\n",
       "      <td>Precipitation</td>\n",
       "      <td>Precipitation</td>\n",
       "      <td>5000.000000</td>\n",
       "    </tr>\n",
       "  </tbody>\n",
       "</table>\n",
       "</div>"
      ],
      "text/plain": [
       "               row          column          value\n",
       "0         Accident        Accident    5000.000000\n",
       "1         Accident          Hazard    3307.126310\n",
       "2         Accident             Jam    2547.684252\n",
       "3         Accident     Road Closed    4491.314945\n",
       "4         Accident  Weather Hazard    3645.585997\n",
       "5         Accident     Phone Theft   10476.894049\n",
       "6         Accident   Phone Robbery  111361.801105\n",
       "7         Accident     Temperature     689.600727\n",
       "8         Accident   Precipitation     692.370532\n",
       "9           Hazard          Hazard    5000.000000\n",
       "10          Hazard             Jam    2008.796180\n",
       "11          Hazard     Road Closed    8960.748186\n",
       "12          Hazard  Weather Hazard    2424.640431\n",
       "13          Hazard     Phone Theft    3400.347066\n",
       "14          Hazard   Phone Robbery    3319.837370\n",
       "15          Hazard     Temperature     745.359435\n",
       "16          Hazard   Precipitation     746.053361\n",
       "17             Jam             Jam    5000.000000\n",
       "18             Jam     Road Closed    2149.337465\n",
       "19             Jam  Weather Hazard    3706.548211\n",
       "20             Jam     Phone Theft    2638.032797\n",
       "21             Jam   Phone Robbery    2270.954168\n",
       "22             Jam     Temperature     686.094764\n",
       "23             Jam   Precipitation     685.223882\n",
       "24     Road Closed     Road Closed    5000.000000\n",
       "25     Road Closed  Weather Hazard    2728.985869\n",
       "26     Road Closed     Phone Theft    4122.239579\n",
       "27     Road Closed   Phone Robbery    4160.586655\n",
       "28     Road Closed     Temperature     718.801761\n",
       "29     Road Closed   Precipitation     720.318591\n",
       "30  Weather Hazard  Weather Hazard    5000.000000\n",
       "31  Weather Hazard     Phone Theft    3842.727225\n",
       "32  Weather Hazard   Phone Robbery    3133.159713\n",
       "33  Weather Hazard     Temperature     684.705128\n",
       "34  Weather Hazard   Precipitation     687.598879\n",
       "35     Phone Theft     Phone Theft    5000.000000\n",
       "36     Phone Theft   Phone Robbery    9403.033877\n",
       "37     Phone Theft     Temperature     706.935028\n",
       "38     Phone Theft   Precipitation     711.238642\n",
       "39   Phone Robbery   Phone Robbery    5000.000000\n",
       "40   Phone Robbery     Temperature     700.649686\n",
       "41   Phone Robbery   Precipitation     705.525700\n",
       "42     Temperature     Temperature    5000.000000\n",
       "43     Temperature   Precipitation     924.869273\n",
       "44   Precipitation   Precipitation    5000.000000"
      ]
     },
     "execution_count": 22,
     "metadata": {},
     "output_type": "execute_result"
    }
   ],
   "source": [
    "df"
   ]
  }
 ],
 "metadata": {
  "kernelspec": {
   "display_name": "wavelet_code",
   "language": "python",
   "name": "python3"
  },
  "language_info": {
   "codemirror_mode": {
    "name": "ipython",
    "version": 3
   },
   "file_extension": ".py",
   "mimetype": "text/x-python",
   "name": "python",
   "nbconvert_exporter": "python",
   "pygments_lexer": "ipython3",
   "version": "3.10.13"
  }
 },
 "nbformat": 4,
 "nbformat_minor": 2
}
