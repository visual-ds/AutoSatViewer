{
 "cells": [
  {
   "cell_type": "code",
   "execution_count": 14,
   "metadata": {},
   "outputs": [
    {
     "name": "stdout",
     "output_type": "stream",
     "text": [
      "The autoreload extension is already loaded. To reload it, use:\n",
      "  %reload_ext autoreload\n"
     ]
    }
   ],
   "source": [
    "import numpy as np\n",
    "import shapefile\n",
    "import shapely\n",
    "import shapely.geometry\n",
    "from shapely.geometry import Polygon\n",
    "from tqdm import tqdm\n",
    "import pyproj\n",
    "import scipy.sparse\n",
    "from create_graph import create_graph\n",
    "import geopandas as gpd\n",
    "\n",
    "%load_ext autoreload    \n",
    "%autoreload 2"
   ]
  },
  {
   "cell_type": "markdown",
   "metadata": {},
   "source": [
    "## SP Metropolis 10k Census Regions "
   ]
  },
  {
   "cell_type": "code",
   "execution_count": 3,
   "metadata": {},
   "outputs": [],
   "source": [
    "file = gpd.read_file(\"data/SP_Setores_2021/SP_Setores_2021.shp\")\n",
    "selected_row = 355030866000295\n",
    "selected_row = file[file[\"CD_SETOR\"].astype(int) == selected_row]\n",
    "file[\"distance\"] = file[\"geometry\"].apply(lambda x: x.distance(selected_row.iloc[0][\"geometry\"]))\n",
    "file = file.sort_values(by = \"distance\")\n",
    "file = file.reset_index(drop = True)\n",
    "file = file.head(10000)"
   ]
  },
  {
   "cell_type": "code",
   "execution_count": 4,
   "metadata": {},
   "outputs": [
    {
     "data": {
      "text/plain": [
       "NM_MUN\n",
       "São Paulo             9969\n",
       "São Caetano do Sul      30\n",
       "Guarulhos                1\n",
       "Name: count, dtype: int64"
      ]
     },
     "execution_count": 4,
     "metadata": {},
     "output_type": "execute_result"
    }
   ],
   "source": [
    "file.NM_MUN.value_counts()"
   ]
  },
  {
   "cell_type": "code",
   "execution_count": 5,
   "metadata": {},
   "outputs": [],
   "source": [
    "file = file.drop(columns = [\"distance\"])\n",
    "file.to_file(\"data/shapefiles/SpCenterCensus10k.shp\")"
   ]
  },
  {
   "cell_type": "code",
   "execution_count": 6,
   "metadata": {},
   "outputs": [
    {
     "name": "stderr",
     "output_type": "stream",
     "text": [
      "100%|██████████| 10000/10000 [00:06<00:00, 1445.87it/s]\n"
     ]
    }
   ],
   "source": [
    "file = gpd.read_file(\"data/shapefiles/SpCenterCensus10k.shp\")\n",
    "adj_matrix = create_graph(file)\n",
    "adj_matrix = scipy.sparse.csr_matrix(adj_matrix)\n",
    "scipy.sparse.save_npz(\"data/adj_matrix/SpCenterCensus10k.npz\", adj_matrix)"
   ]
  },
  {
   "cell_type": "markdown",
   "metadata": {},
   "source": [
    "## SP Metropolis 20k Census Regions "
   ]
  },
  {
   "cell_type": "code",
   "execution_count": 7,
   "metadata": {},
   "outputs": [],
   "source": [
    "file = gpd.read_file(\"data/SP_Setores_2021/SP_Setores_2021.shp\")\n",
    "selected_row = 355030866000295\n",
    "selected_row = file[file[\"CD_SETOR\"].astype(int) == selected_row]\n",
    "file[\"distance\"] = file[\"geometry\"].apply(lambda x: x.distance(selected_row.iloc[0][\"geometry\"]))\n",
    "file = file.sort_values(by = \"distance\")\n",
    "file = file.reset_index(drop = True)\n",
    "file = file.head(20000)"
   ]
  },
  {
   "cell_type": "code",
   "execution_count": 8,
   "metadata": {},
   "outputs": [
    {
     "data": {
      "text/plain": [
       "(NM_MUN\n",
       " São Paulo                17355\n",
       " Guarulhos                  604\n",
       " Osasco                     559\n",
       " São Caetano do Sul         433\n",
       " Diadema                    348\n",
       " Santo André                294\n",
       " São Bernardo do Campo      217\n",
       " Taboão da Serra            160\n",
       " Mairiporã                   22\n",
       " Caieiras                     8\n",
       " Name: count, dtype: int64,\n",
       " array(['São Paulo', 'São Caetano do Sul', 'Guarulhos', 'Osasco',\n",
       "        'São Bernardo do Campo', 'Santo André', 'Diadema', 'Mairiporã',\n",
       "        'Taboão da Serra', 'Caieiras'], dtype=object))"
      ]
     },
     "execution_count": 8,
     "metadata": {},
     "output_type": "execute_result"
    }
   ],
   "source": [
    "file.NM_MUN.value_counts(), file.NM_MUN.unique()"
   ]
  },
  {
   "cell_type": "code",
   "execution_count": 9,
   "metadata": {},
   "outputs": [],
   "source": [
    "file = file.drop(columns = [\"distance\"])\n",
    "file.to_file(\"data/shapefiles/SpCenterCensus20k.shp\")"
   ]
  },
  {
   "cell_type": "code",
   "execution_count": 10,
   "metadata": {},
   "outputs": [
    {
     "name": "stderr",
     "output_type": "stream",
     "text": [
      "100%|██████████| 20000/20000 [00:14<00:00, 1388.08it/s]\n"
     ]
    }
   ],
   "source": [
    "file = gpd.read_file(\"data/shapefiles/SpCenterCensus20k.shp\")\n",
    "adj_matrix = create_graph(file)\n",
    "adj_matrix = scipy.sparse.csr_matrix(adj_matrix)\n",
    "scipy.sparse.save_npz(\"data/adj_matrix/SpCenterCensus20k.npz\", adj_matrix)"
   ]
  },
  {
   "cell_type": "code",
   "execution_count": 11,
   "metadata": {},
   "outputs": [],
   "source": [
    "region = file.geometry.unary_union\n",
    "region = region.simplify(0.01)\n",
    "gdf = gpd.GeoDataFrame(geometry=[region])\n",
    "gdf.to_file(\"data/shapefiles/SpCenterCensus20k_countour.geojson\", driver=\"GeoJSON\")"
   ]
  },
  {
   "cell_type": "markdown",
   "metadata": {},
   "source": [
    "## Districts"
   ]
  },
  {
   "cell_type": "code",
   "execution_count": 19,
   "metadata": {},
   "outputs": [],
   "source": [
    "file = gpd.read_file(\"data/LAYER_DISTRITO/DEINFO_DISTRITO.shp\")\n",
    "file = file.to_crs(\"EPSG:4326\")\n",
    "file.to_file(\"data/shapefiles/SpDistricts.shp\")"
   ]
  },
  {
   "cell_type": "code",
   "execution_count": 21,
   "metadata": {},
   "outputs": [
    {
     "name": "stderr",
     "output_type": "stream",
     "text": [
      "100%|██████████| 96/96 [00:00<00:00, 238.77it/s]\n"
     ]
    }
   ],
   "source": [
    "shapefile = gpd.read_file(\"data/shapefiles/SpDistricts.shp\")\n",
    "adj_matrix = create_graph(shapefile)\n",
    "np.save(\"data/adj_matrix/SpDistricts.npy\", adj_matrix)"
   ]
  }
 ],
 "metadata": {
  "kernelspec": {
   "display_name": "wavelet_code",
   "language": "python",
   "name": "python3"
  },
  "language_info": {
   "codemirror_mode": {
    "name": "ipython",
    "version": 3
   },
   "file_extension": ".py",
   "mimetype": "text/x-python",
   "name": "python",
   "nbconvert_exporter": "python",
   "pygments_lexer": "ipython3",
   "version": "3.10.13"
  }
 },
 "nbformat": 4,
 "nbformat_minor": 2
}
