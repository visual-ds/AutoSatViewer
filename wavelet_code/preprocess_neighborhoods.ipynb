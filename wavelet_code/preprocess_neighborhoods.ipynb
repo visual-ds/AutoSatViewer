{
 "cells": [
  {
   "cell_type": "code",
   "execution_count": 1,
   "metadata": {},
   "outputs": [],
   "source": [
    "import shapefile"
   ]
  },
  {
   "cell_type": "code",
   "execution_count": 9,
   "metadata": {},
   "outputs": [],
   "source": [
    "file = shapefile.Reader(\"data/SP_Setores_2021/SP_Setores_2021.shp\")\n",
    "new_file = shapefile.Writer(\"data/SP_Setores_2021/sp.shp\")\n",
    "new_file.fields = file.fields[1:]"
   ]
  },
  {
   "cell_type": "code",
   "execution_count": 12,
   "metadata": {},
   "outputs": [],
   "source": [
    "for shape in file.shapeRecords():\n",
    "    fields = dict(zip([field[0] for field in file.fields[1:]], shape.record))\n",
    "    if fields[\"NM_MUN\"] == \"São Paulo\":\n",
    "        new_file.record(*shape.record)\n",
    "        new_file.shape(shape.shape)"
   ]
  },
  {
   "cell_type": "code",
   "execution_count": 14,
   "metadata": {},
   "outputs": [],
   "source": [
    "new_file.close()"
   ]
  },
  {
   "cell_type": "code",
   "execution_count": 15,
   "metadata": {},
   "outputs": [
    {
     "name": "stdout",
     "output_type": "stream",
     "text": [
      "55184\n"
     ]
    }
   ],
   "source": [
    "file = shapefile.Reader(\"data/SP_Setores_2021/sp.shp\")\n",
    "print(file.numRecords)"
   ]
  }
 ],
 "metadata": {
  "kernelspec": {
   "display_name": "wavelet_code",
   "language": "python",
   "name": "python3"
  },
  "language_info": {
   "codemirror_mode": {
    "name": "ipython",
    "version": 3
   },
   "file_extension": ".py",
   "mimetype": "text/x-python",
   "name": "python",
   "nbconvert_exporter": "python",
   "pygments_lexer": "ipython3",
   "version": "3.10.13"
  }
 },
 "nbformat": 4,
 "nbformat_minor": 2
}
