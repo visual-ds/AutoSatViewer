{
 "cells": [
  {
   "cell_type": "code",
   "execution_count": 72,
   "metadata": {},
   "outputs": [],
   "source": [
    "from PIL import Image\n",
    "from matplotlib.colors import rgb2hex\n",
    "import pandas as pd\n",
    "import geopandas as gpd\n",
    "from sklearn.manifold import TSNE\n",
    "from tslearn.metrics import dtw, cdist_dtw, cdist_soft_dtw, cdist_soft_dtw_normalized, soft_dtw\n",
    "import glob\n",
    "from tqdm import tqdm\n",
    "import numpy as np"
   ]
  },
  {
   "cell_type": "code",
   "execution_count": 80,
   "metadata": {},
   "outputs": [],
   "source": [
    "def get_colors_polygons(poly_division):\n",
    "    file = gpd.read_file(f\"data/shapefiles/{poly_division}.geojson\").to_crs(\"EPSG:6933\")\n",
    "    centroids = file.centroid.apply(lambda x: (x.x, x.y)).to_list()\n",
    "    centroids = np.array(centroids)\n",
    "    for i in range(2):\n",
    "        centroids[:, i] -= centroids[:, i].min()\n",
    "        centroids[:, i] /= centroids[:, i].max()\n",
    "        centroids[:, i] *= 511\n",
    "    centroids = centroids.astype(int)\n",
    "\n",
    "    img = Image.open(\"data/misc/bremm.png\")\n",
    "    # transform to array\n",
    "    img = np.array(img)\n",
    "\n",
    "    colors = []\n",
    "    for i in centroids:\n",
    "        colors.append(rgb2hex(img[i[1], i[0]] / 255))\n",
    "    return colors"
   ]
  },
  {
   "cell_type": "code",
   "execution_count": 7,
   "metadata": {},
   "outputs": [],
   "source": [
    "def get_dtw_matrix(ts, dtw_args={}):\n",
    "    n = len(ts)\n",
    "    dtw_matrix = np.zeros((n, n))\n",
    "    for i in tqdm(range(n)):\n",
    "        for j in range(i, n):\n",
    "            dtw_matrix[i, j] = dtw(ts[i], ts[j], **dtw_args)\n",
    "            dtw_matrix[j, i] = dtw_matrix[i, j]\n",
    "    return dtw_matrix"
   ]
  },
  {
   "cell_type": "code",
   "execution_count": 86,
   "metadata": {},
   "outputs": [],
   "source": [
    "def projection_coeffs(poly_division, time_interval):\n",
    "    coeffs = pd.read_csv(f\"data/coeffs/{poly_division}_{time_interval}.csv\")\n",
    "    columns_to_keep = [\"id_poly\", \"date\", \"type\"] + [col for col in coeffs.columns if \"3\" in col]\n",
    "    feature_names = coeffs[\"type\"].unique()\n",
    "    coeffs = coeffs[columns_to_keep]\n",
    "\n",
    "    colors = get_colors_polygons(poly_division)\n",
    "    \n",
    "    projections = []\n",
    "    for i, feat in enumerate(feature_names):\n",
    "        coeffs_ = coeffs[coeffs[\"type\"] == feat].copy()\n",
    "        coeffs_ = coeffs_.pivot(index = \"id_poly\", columns = \"date\", values = [\"mean_freq_3\"]).values\n",
    "        \n",
    "        #tsne = TSNE(n_components=2, random_state=0, metric = lambda x, y: soft_dtw(x, y, gamma=1.))\n",
    "        tsne = TSNE(n_components=2, random_state=0)\n",
    "        #dtw_matrix = get_dtw_matrix(coeffs_, dtw_args={\"global_constraint\": \"sakoe_chiba\", \"sakoe_chiba_radius\": 5})\n",
    "        #dtw_matrix = cdist_dtw(coeffs_, global_constraint=\"sakoe_chiba\", sakoe_chiba_radius=5)\n",
    "        proj = tsne.fit_transform(coeffs_)\n",
    "        #proj = tsne.fit_transform(dtw_matrix)\n",
    "        # make projection be inside [0.025, 0.975]\n",
    "        proj = (proj - proj.min(axis=0)) / (proj.max(axis=0) - proj.min(axis=0))\n",
    "        proj = proj * 0.95 + 0.025\n",
    "        df = pd.DataFrame(proj, columns=[f\"{feat}_x\", f\"{feat}_y\"])\n",
    "        projections.append(df)\n",
    "    projections = pd.concat(projections, axis=1)\n",
    "    projections[\"id_poly\"] = np.arange(len(projections))\n",
    "    projections[\"color\"] = colors\n",
    "    projections.to_csv(f\"data/projections/{poly_division}_{time_interval}.csv\", index=False)"
   ]
  },
  {
   "cell_type": "code",
   "execution_count": 87,
   "metadata": {},
   "outputs": [],
   "source": [
    "for time_interval in [\"Month\", \"Day\", \"3days\", \"5days\"]:\n",
    "    for poly_division in [\"SpGrid\", \"SpDistricts\", \"SpCenterCensus2k\", \"SpCenterCensus5k\"]:\n",
    "        projection_coeffs(poly_division, time_interval)"
   ]
  }
 ],
 "metadata": {
  "kernelspec": {
   "display_name": "wavelet_code",
   "language": "python",
   "name": "python3"
  },
  "language_info": {
   "codemirror_mode": {
    "name": "ipython",
    "version": 3
   },
   "file_extension": ".py",
   "mimetype": "text/x-python",
   "name": "python",
   "nbconvert_exporter": "python",
   "pygments_lexer": "ipython3",
   "version": "3.10.13"
  }
 },
 "nbformat": 4,
 "nbformat_minor": 2
}
