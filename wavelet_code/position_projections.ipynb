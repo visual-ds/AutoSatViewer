{
 "cells": [
  {
   "cell_type": "code",
   "execution_count": 1,
   "metadata": {},
   "outputs": [
    {
     "name": "stderr",
     "output_type": "stream",
     "text": [
      "/tmp/ipykernel_658774/1408247792.py:3: DeprecationWarning: \n",
      "Pyarrow will become a required dependency of pandas in the next major release of pandas (pandas 3.0),\n",
      "(to allow more performant data types, such as the Arrow string type, and better interoperability with other libraries)\n",
      "but was not found to be installed on your system.\n",
      "If this would cause problems for you,\n",
      "please provide us feedback at https://github.com/pandas-dev/pandas/issues/54466\n",
      "        \n",
      "  import pandas as pd\n",
      "/home/giovani/anaconda3/envs/wavelet_code/lib/python3.10/site-packages/tslearn/bases/bases.py:15: UserWarning: h5py not installed, hdf5 features will not be supported.\n",
      "Install h5py to use hdf5 features: http://docs.h5py.org/\n",
      "  warn(h5py_msg)\n"
     ]
    }
   ],
   "source": [
    "from PIL import Image\n",
    "from matplotlib.colors import rgb2hex\n",
    "import pandas as pd\n",
    "import geopandas as gpd\n",
    "from sklearn.manifold import TSNE\n",
    "from tslearn.metrics import dtw, cdist_dtw, cdist_soft_dtw, cdist_soft_dtw_normalized, soft_dtw\n",
    "import glob\n",
    "from tqdm import tqdm\n",
    "import numpy as np\n",
    "\n",
    "import torch\n",
    "from torch.utils.data import DataLoader\n",
    "import argparse\n",
    "\n",
    "from ae import *"
   ]
  },
  {
   "cell_type": "code",
   "execution_count": 2,
   "metadata": {},
   "outputs": [],
   "source": [
    "def get_colors_polygons(poly_division):\n",
    "    file = gpd.read_file(f\"data/shapefiles/{poly_division}.geojson\").to_crs(\"EPSG:6933\")\n",
    "    centroids = file.centroid.apply(lambda x: (x.x, x.y)).to_list()\n",
    "    centroids = np.array(centroids)\n",
    "    for i in range(2):\n",
    "        centroids[:, i] -= centroids[:, i].min()\n",
    "        centroids[:, i] /= centroids[:, i].max()\n",
    "        centroids[:, i] *= 511\n",
    "    centroids = centroids.astype(int)\n",
    "\n",
    "    img = Image.open(\"data/misc/bremm.png\")\n",
    "    # transform to array\n",
    "    img = np.array(img)\n",
    "\n",
    "    colors = []\n",
    "    for i in centroids:\n",
    "        colors.append(rgb2hex(img[i[1], i[0]] / 255))\n",
    "    return colors"
   ]
  },
  {
   "cell_type": "code",
   "execution_count": 3,
   "metadata": {},
   "outputs": [],
   "source": [
    "def get_dtw_matrix(ts, dtw_args={}):\n",
    "    n = len(ts)\n",
    "    dtw_matrix = np.zeros((n, n))\n",
    "    for i in tqdm(range(n)):\n",
    "        for j in range(i, n):\n",
    "            dtw_matrix[i, j] = dtw(ts[i], ts[j], **dtw_args)\n",
    "            dtw_matrix[j, i] = dtw_matrix[i, j]\n",
    "    return dtw_matrix"
   ]
  },
  {
   "cell_type": "code",
   "execution_count": 4,
   "metadata": {},
   "outputs": [],
   "source": [
    "parser = argparse.ArgumentParser()\n",
    "args = parser.parse_args('')\n",
    "args.batch_size = 32\n",
    "args.embedding_dim = 32\n",
    "args.n_layers = 1\n",
    "args.device = \"cuda\" if torch.cuda.is_available() else \"cpu\"\n",
    "args.dropout = False\n",
    "args.use_bn = False\n",
    "args.lr = 0.001\n",
    "args.epoch = 200\n",
    "\n",
    "\n",
    "def projection_coeffs_deep(poly_division, time_interval, spatial = False):\n",
    "    if spatial:\n",
    "        coeffs = pd.read_csv(f\"data/coeffs_spatial/{poly_division}_{time_interval}.csv\")\n",
    "    else:\n",
    "        coeffs = pd.read_csv(f\"data/coeffs/{poly_division}_{time_interval}.csv\")\n",
    "\n",
    "    colors = get_colors_polygons(poly_division)\n",
    "    ts = []\n",
    "    for v in coeffs.type.unique():\n",
    "        ts.append(coeffs[coeffs.type == v].pivot(index = \"id_poly\", columns = \"date\", values = [\"mean_freq_3\"]).values)\n",
    "    ts = np.array(ts)\n",
    "    ts = ts.transpose(1, 0, 2)\n",
    "    ts = [t for t in ts]\n",
    "\n",
    "\n",
    "    train_idx = np.random.choice(len(ts), int(0.8 * len(ts)), replace = False)\n",
    "    val_idx = np.array([i for i in range(len(ts)) if i not in train_idx])\n",
    "    ts_train = [torch.tensor(ts[i], dtype = torch.float32) for i in train_idx]\n",
    "    ts_val = [torch.tensor(ts[i], dtype = torch.float32) for i in val_idx]\n",
    "    ts_train = DataLoader(ts_train, batch_size = args.batch_size, shuffle = False)\n",
    "    ts_val = DataLoader(ts_val, batch_size = args.batch_size, shuffle = False)\n",
    "    \n",
    "    model = AutoencoderConv(\n",
    "        input_dim = ts[0].shape[0],\n",
    "        encoding_dim = 32,\n",
    "        seq_len = ts[0].shape[1],\n",
    "        h_dims = [16, 64],\n",
    "        h_activ = nn.ReLU(),\n",
    "        out_activ = nn.Identity()\n",
    "    )\n",
    "\n",
    "    train_loss, val_loss = train_model(\n",
    "        model,\n",
    "        ts_train,\n",
    "        ts_val,\n",
    "        args,\n",
    "        verbose = False\n",
    "    )\n",
    "\n",
    "    ts_train = [torch.tensor(t, dtype = torch.float32) for t in ts]\n",
    "    ts_train = DataLoader(ts_train, batch_size = args.batch_size, shuffle = False)\n",
    "\n",
    "    encodings = get_encodings(model, ts_train, args)\n",
    "        \n",
    "    tsne = TSNE(n_components=2, random_state=0)\n",
    "    proj = tsne.fit_transform(encodings)\n",
    "    proj = (proj - proj.min(axis=0)) / (proj.max(axis=0) - proj.min(axis=0))\n",
    "    proj = proj * 0.95 + 0.025\n",
    "    projections = pd.DataFrame(proj, columns = [\"x\", \"y\"])\n",
    "    projections[\"id_poly\"] = np.arange(len(ts))\n",
    "    projections[\"color\"] = colors\n",
    "\n",
    "    ts = np.array(ts) # (n, n_f, t)\n",
    "    # for each n and n_f, compute the mean of the time series\n",
    "    mean_ts = ts.mean(axis = 2)\n",
    "    for i, v in enumerate(coeffs.type.unique()):\n",
    "        projections[v] = mean_ts[:, i]\n",
    "\n",
    "    if spatial:\n",
    "        projections.to_csv(f\"data/projections_spatial/{poly_division}_{time_interval}.csv\", index=False)\n",
    "    else:\n",
    "        projections.to_csv(f\"data/projections/{poly_division}_{time_interval}.csv\", index=False)"
   ]
  },
  {
   "cell_type": "code",
   "execution_count": 5,
   "metadata": {},
   "outputs": [],
   "source": [
    "def projection_coeffs(poly_division, time_interval, spatial = False):\n",
    "    if spatial:\n",
    "        coeffs = pd.read_csv(f\"data/coeffs_spatial/{poly_division}_{time_interval}.csv\")\n",
    "    else:\n",
    "        coeffs = pd.read_csv(f\"data/coeffs/{poly_division}_{time_interval}.csv\")\n",
    "\n",
    "    \n",
    "\n",
    "    columns_to_keep = [\"id_poly\", \"date\", \"type\"] + [col for col in coeffs.columns if \"3\" in col]\n",
    "    feature_names = coeffs[\"type\"].unique()\n",
    "    coeffs = coeffs[columns_to_keep]\n",
    "\n",
    "    colors = get_colors_polygons(poly_division)\n",
    "    \n",
    "    projections = []\n",
    "    for i, feat in enumerate(feature_names):\n",
    "        coeffs_ = coeffs[coeffs[\"type\"] == feat].copy()\n",
    "        coeffs_ = coeffs_.pivot(index = \"id_poly\", columns = \"date\", values = [\"mean_freq_3\"]).values\n",
    "        \n",
    "        #tsne = TSNE(n_components=2, random_state=0, metric = lambda x, y: soft_dtw(x, y, gamma=1.))\n",
    "        tsne = TSNE(n_components=2, random_state=0, metric=\"cosine\")\n",
    "        #dtw_matrix = get_dtw_matrix(coeffs_, dtw_args={\"global_constraint\": \"sakoe_chiba\", \"sakoe_chiba_radius\": 5})\n",
    "        #dtw_matrix = cdist_dtw(coeffs_, global_constraint=\"sakoe_chiba\", sakoe_chiba_radius=5)\n",
    "\n",
    "        proj = tsne.fit_transform(coeffs_)\n",
    "\n",
    "        #proj = tsne.fit_transform(dtw_matrix)\n",
    "        # make projection be inside [0.025, 0.975]\n",
    "        proj = (proj - proj.min(axis=0)) / (proj.max(axis=0) - proj.min(axis=0))\n",
    "        proj = proj * 0.95 + 0.025\n",
    "        df = pd.DataFrame(proj, columns=[f\"{feat}_x\", f\"{feat}_y\"])\n",
    "        df[\"mean_coeff\"] = coeffs_.mean(axis=1)\n",
    "        projections.append(df)\n",
    "\n",
    "    projections = pd.concat(projections, axis=1)\n",
    "    projections[\"id_poly\"] = np.arange(len(projections))\n",
    "    projections[\"color\"] = colors\n",
    "    if spatial:\n",
    "        projections.to_csv(f\"data/projections_spatial/{poly_division}_{time_interval}.csv\", index=False)\n",
    "    else:\n",
    "        projections.to_csv(f\"data/projections/{poly_division}_{time_interval}.csv\", index=False)"
   ]
  },
  {
   "cell_type": "code",
   "execution_count": 5,
   "metadata": {},
   "outputs": [],
   "source": [
    "for time_interval in [\"Month\", \"Day\", \"3days\", \"5days\"]:\n",
    "    for poly_division in [\"SpGrid\", \"SpDistricts\", \"SpCenterCensus2k\", \"SpCenterCensus5k\"]:\n",
    "        projection_coeffs(poly_division, time_interval)\n",
    "        projection_coeffs(poly_division, time_interval, True)"
   ]
  },
  {
   "cell_type": "code",
   "execution_count": 5,
   "metadata": {},
   "outputs": [],
   "source": [
    "for time_interval in [\"Day\", \"3days\", \"5days\"]:\n",
    "    for poly_division in [\"NYBlocks\"]:\n",
    "        projection_coeffs(poly_division, time_interval)\n",
    "        projection_coeffs(poly_division, time_interval, True)"
   ]
  },
  {
   "cell_type": "code",
   "execution_count": 13,
   "metadata": {},
   "outputs": [],
   "source": [
    "projection_coeffs(\"BLACities\", \"Year\")\n",
    "projection_coeffs(\"BLACities\", \"Year\", True)"
   ]
  },
  {
   "cell_type": "code",
   "execution_count": 28,
   "metadata": {},
   "outputs": [],
   "source": [
    "projection_coeffs_deep(\"SpCenterCensus5k\", \"Period1\")"
   ]
  },
  {
   "cell_type": "code",
   "execution_count": 6,
   "metadata": {},
   "outputs": [],
   "source": [
    "projection_coeffs_deep(\"SpCenterCensus5k\", \"Period2\")\n",
    "projection_coeffs_deep(\"SpCenterCensus5k\", \"Period2\", True)"
   ]
  },
  {
   "cell_type": "code",
   "execution_count": null,
   "metadata": {},
   "outputs": [],
   "source": [
    "projection_coeffs_deep(\"BLACities\", \"Year\")\n",
    "projection_coeffs_deep(\"BLACities\", \"Year\", True)"
   ]
  }
 ],
 "metadata": {
  "kernelspec": {
   "display_name": "wavelet_code",
   "language": "python",
   "name": "python3"
  },
  "language_info": {
   "codemirror_mode": {
    "name": "ipython",
    "version": 3
   },
   "file_extension": ".py",
   "mimetype": "text/x-python",
   "name": "python",
   "nbconvert_exporter": "python",
   "pygments_lexer": "ipython3",
   "version": "3.10.13"
  }
 },
 "nbformat": 4,
 "nbformat_minor": 2
}
