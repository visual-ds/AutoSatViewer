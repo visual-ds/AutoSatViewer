{
 "cells": [
  {
   "cell_type": "code",
   "execution_count": 16,
   "metadata": {},
   "outputs": [],
   "source": [
    "import pandas as pd\n",
    "from sklearn.manifold import TSNE\n",
    "import glob\n",
    "import numpy as np"
   ]
  },
  {
   "cell_type": "code",
   "execution_count": 31,
   "metadata": {},
   "outputs": [],
   "source": [
    "def projection_coeffs(poly_division, time_interval):\n",
    "    coeffs = pd.read_csv(f\"data/coeffs/{poly_division}_{time_interval}.csv\")\n",
    "    columns_to_keep = [\"id_poly\", \"date\"] + [col for col in coeffs.columns if \"3\" in col]\n",
    "    feature_names = [col.split(\"_\")[0] for col in coeffs.columns if \"3\" in col]\n",
    "    coeffs = coeffs[columns_to_keep]\n",
    "\n",
    "    coeffs = np.stack(coeffs.groupby(\"id_poly\").apply(lambda x : x.values[:, 2:]))\n",
    "    \n",
    "    projections = []\n",
    "    for i, feat in enumerate(feature_names):\n",
    "        coeffs_ = coeffs[:, :, i]\n",
    "        tsne = TSNE(n_components=2, random_state=0)\n",
    "        proj = tsne.fit_transform(coeffs_)\n",
    "        # make projection be inside [0.025, 0.975]\n",
    "        proj = (proj - proj.min(axis=0)) / (proj.max(axis=0) - proj.min(axis=0))\n",
    "        proj = proj * 0.95 + 0.025\n",
    "        df = pd.DataFrame(proj, columns=[f\"{feat}_x\", f\"{feat}_y\"])\n",
    "        projections.append(df)\n",
    "    projections = pd.concat(projections, axis=1)\n",
    "    projections[\"id_poly\"] = np.arange(len(projections))\n",
    "    projections.to_csv(f\"data/projections/{poly_division}_{time_interval}.csv\", index=False)"
   ]
  },
  {
   "cell_type": "code",
   "execution_count": 32,
   "metadata": {},
   "outputs": [
    {
     "name": "stderr",
     "output_type": "stream",
     "text": [
      "/tmp/ipykernel_201416/2544156277.py:7: DeprecationWarning: DataFrameGroupBy.apply operated on the grouping columns. This behavior is deprecated, and in a future version of pandas the grouping columns will be excluded from the operation. Either pass `include_groups=False` to exclude the groupings or explicitly select the grouping columns after groupby to silence this warning.\n",
      "  coeffs = np.stack(coeffs.groupby(\"id_poly\").apply(lambda x : x.values[:, 2:]))\n",
      "/tmp/ipykernel_201416/2544156277.py:7: DeprecationWarning: DataFrameGroupBy.apply operated on the grouping columns. This behavior is deprecated, and in a future version of pandas the grouping columns will be excluded from the operation. Either pass `include_groups=False` to exclude the groupings or explicitly select the grouping columns after groupby to silence this warning.\n",
      "  coeffs = np.stack(coeffs.groupby(\"id_poly\").apply(lambda x : x.values[:, 2:]))\n",
      "/tmp/ipykernel_201416/2544156277.py:7: DeprecationWarning: DataFrameGroupBy.apply operated on the grouping columns. This behavior is deprecated, and in a future version of pandas the grouping columns will be excluded from the operation. Either pass `include_groups=False` to exclude the groupings or explicitly select the grouping columns after groupby to silence this warning.\n",
      "  coeffs = np.stack(coeffs.groupby(\"id_poly\").apply(lambda x : x.values[:, 2:]))\n",
      "/tmp/ipykernel_201416/2544156277.py:7: DeprecationWarning: DataFrameGroupBy.apply operated on the grouping columns. This behavior is deprecated, and in a future version of pandas the grouping columns will be excluded from the operation. Either pass `include_groups=False` to exclude the groupings or explicitly select the grouping columns after groupby to silence this warning.\n",
      "  coeffs = np.stack(coeffs.groupby(\"id_poly\").apply(lambda x : x.values[:, 2:]))\n",
      "/tmp/ipykernel_201416/2544156277.py:7: DeprecationWarning: DataFrameGroupBy.apply operated on the grouping columns. This behavior is deprecated, and in a future version of pandas the grouping columns will be excluded from the operation. Either pass `include_groups=False` to exclude the groupings or explicitly select the grouping columns after groupby to silence this warning.\n",
      "  coeffs = np.stack(coeffs.groupby(\"id_poly\").apply(lambda x : x.values[:, 2:]))\n",
      "/tmp/ipykernel_201416/2544156277.py:7: DeprecationWarning: DataFrameGroupBy.apply operated on the grouping columns. This behavior is deprecated, and in a future version of pandas the grouping columns will be excluded from the operation. Either pass `include_groups=False` to exclude the groupings or explicitly select the grouping columns after groupby to silence this warning.\n",
      "  coeffs = np.stack(coeffs.groupby(\"id_poly\").apply(lambda x : x.values[:, 2:]))\n",
      "/tmp/ipykernel_201416/2544156277.py:7: DeprecationWarning: DataFrameGroupBy.apply operated on the grouping columns. This behavior is deprecated, and in a future version of pandas the grouping columns will be excluded from the operation. Either pass `include_groups=False` to exclude the groupings or explicitly select the grouping columns after groupby to silence this warning.\n",
      "  coeffs = np.stack(coeffs.groupby(\"id_poly\").apply(lambda x : x.values[:, 2:]))\n",
      "/tmp/ipykernel_201416/2544156277.py:7: DeprecationWarning: DataFrameGroupBy.apply operated on the grouping columns. This behavior is deprecated, and in a future version of pandas the grouping columns will be excluded from the operation. Either pass `include_groups=False` to exclude the groupings or explicitly select the grouping columns after groupby to silence this warning.\n",
      "  coeffs = np.stack(coeffs.groupby(\"id_poly\").apply(lambda x : x.values[:, 2:]))\n"
     ]
    }
   ],
   "source": [
    "for time_interval in [\"Month\", \"Day\"]:\n",
    "    for poly_division in [\"SpGrid\", \"SpDistricts\", \"SpCenterCensus2k\", \"SpCenterCensus5k\"]:\n",
    "        projection_coeffs(poly_division, time_interval)"
   ]
  }
 ],
 "metadata": {
  "kernelspec": {
   "display_name": "wavelet_code",
   "language": "python",
   "name": "python3"
  },
  "language_info": {
   "codemirror_mode": {
    "name": "ipython",
    "version": 3
   },
   "file_extension": ".py",
   "mimetype": "text/x-python",
   "name": "python",
   "nbconvert_exporter": "python",
   "pygments_lexer": "ipython3",
   "version": "3.10.13"
  }
 },
 "nbformat": 4,
 "nbformat_minor": 2
}
