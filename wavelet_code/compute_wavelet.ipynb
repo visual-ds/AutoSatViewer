{
 "cells": [
  {
   "cell_type": "code",
   "execution_count": 1,
   "metadata": {},
   "outputs": [
    {
     "name": "stderr",
     "output_type": "stream",
     "text": [
      "/tmp/ipykernel_530350/4102537558.py:2: DeprecationWarning: \n",
      "Pyarrow will become a required dependency of pandas in the next major release of pandas (pandas 3.0),\n",
      "(to allow more performant data types, such as the Arrow string type, and better interoperability with other libraries)\n",
      "but was not found to be installed on your system.\n",
      "If this would cause problems for you,\n",
      "please provide us feedback at https://github.com/pandas-dev/pandas/issues/54466\n",
      "        \n",
      "  import pandas as pd\n"
     ]
    }
   ],
   "source": [
    "import numpy as np\n",
    "import pandas as pd\n",
    "import matplotlib.pyplot as plt\n",
    "import geopandas as gpd\n",
    "import wavelet_transform as wt\n",
    "import signal_processing as sp\n",
    "from create_graph import create_graph\n",
    "import scipy.sparse\n"
   ]
  },
  {
   "cell_type": "code",
   "execution_count": 2,
   "metadata": {},
   "outputs": [],
   "source": [
    "%matplotlib inline"
   ]
  },
  {
   "cell_type": "code",
   "execution_count": 3,
   "metadata": {},
   "outputs": [],
   "source": [
    "def precompute_wavelet(poly_division, time_interval):\n",
    "    df = pd.read_csv(f\"data/polygon_data/{poly_division}_{time_interval}.csv\")\n",
    "    features = df.columns[2:]\n",
    "    try:\n",
    "        adj_matrix = np.load(f\"data/adj_matrix/{poly_division}.npy\")\n",
    "    except:\n",
    "        adj_matrix = scipy.sparse.load_npz(f\"data/adj_matrix/{poly_division}.npz\").toarray()\n",
    "    signal_multi = np.stack(df.groupby(\"id_poly\").apply(lambda x: x.sort_values(\"date\").drop(columns=[\"id_poly\", \"date\"]).values).values)\n",
    "    df_res = df[[\"id_poly\", \"date\"]].copy()\n",
    "\n",
    "    for k, feature in enumerate(features):\n",
    "        signal = signal_multi[:, :, k]\n",
    "\n",
    "        n_timestamps = signal_multi.shape[1]\n",
    "\n",
    "        wav =  wt.WaveletTransform(\n",
    "            adj_matrix,\n",
    "            n_timestamps,\n",
    "            graph_product=\"strong\",\n",
    "            n_filters=32,\n",
    "            kernel=\"abspline\",\n",
    "            scaling_function=False,\n",
    "            method=\"chebyshev\",\n",
    "            order_chebyshev=30,\n",
    "        )\n",
    "        coeffs = wav.transform(signal)\n",
    "        coeffs = sp.get_scaled_coefficients(coeffs)\n",
    "        # create column for coeffs in the df_res\n",
    "        for i in range(coeffs.shape[-1]):\n",
    "            df_res[f\"{feature}_coeff_{i}\"] = coeffs[:, :, i].flatten()\n",
    "        df_res = df_res.copy()\n",
    "        df_res[df_res.columns[2:]] = df_res[df_res.columns[2:]].astype(np.float32)\n",
    "        df_res.to_csv(f\"data/coeffs/{feature}_{poly_division}_{time_interval}.csv\", index=False)\n",
    "        df_res = df[[\"id_poly\", \"date\"]].copy()"
   ]
  },
  {
   "cell_type": "code",
   "execution_count": 4,
   "metadata": {},
   "outputs": [
    {
     "name": "stderr",
     "output_type": "stream",
     "text": [
      "/tmp/ipykernel_530350/278219420.py:8: DeprecationWarning: DataFrameGroupBy.apply operated on the grouping columns. This behavior is deprecated, and in a future version of pandas the grouping columns will be excluded from the operation. Either pass `include_groups=False` to exclude the groupings or explicitly select the grouping columns after groupby to silence this warning.\n",
      "  signal_multi = np.stack(df.groupby(\"id_poly\").apply(lambda x: x.sort_values(\"date\").drop(columns=[\"id_poly\", \"date\"]).values).values)\n",
      "/home/giovani/Documents/AutoSatViewer/wavelet_code/signal_processing.py:145: RuntimeWarning: invalid value encountered in divide\n",
      "  scaled_coefficients[:, i] = np.log(scaled_coefficients[:, i] + 1) / np.log(\n",
      "/tmp/ipykernel_530350/278219420.py:8: DeprecationWarning: DataFrameGroupBy.apply operated on the grouping columns. This behavior is deprecated, and in a future version of pandas the grouping columns will be excluded from the operation. Either pass `include_groups=False` to exclude the groupings or explicitly select the grouping columns after groupby to silence this warning.\n",
      "  signal_multi = np.stack(df.groupby(\"id_poly\").apply(lambda x: x.sort_values(\"date\").drop(columns=[\"id_poly\", \"date\"]).values).values)\n",
      "/home/giovani/Documents/AutoSatViewer/wavelet_code/signal_processing.py:145: RuntimeWarning: invalid value encountered in divide\n",
      "  scaled_coefficients[:, i] = np.log(scaled_coefficients[:, i] + 1) / np.log(\n",
      "/tmp/ipykernel_530350/278219420.py:8: DeprecationWarning: DataFrameGroupBy.apply operated on the grouping columns. This behavior is deprecated, and in a future version of pandas the grouping columns will be excluded from the operation. Either pass `include_groups=False` to exclude the groupings or explicitly select the grouping columns after groupby to silence this warning.\n",
      "  signal_multi = np.stack(df.groupby(\"id_poly\").apply(lambda x: x.sort_values(\"date\").drop(columns=[\"id_poly\", \"date\"]).values).values)\n",
      "/home/giovani/Documents/AutoSatViewer/wavelet_code/signal_processing.py:145: RuntimeWarning: invalid value encountered in divide\n",
      "  scaled_coefficients[:, i] = np.log(scaled_coefficients[:, i] + 1) / np.log(\n",
      "/tmp/ipykernel_530350/278219420.py:8: DeprecationWarning: DataFrameGroupBy.apply operated on the grouping columns. This behavior is deprecated, and in a future version of pandas the grouping columns will be excluded from the operation. Either pass `include_groups=False` to exclude the groupings or explicitly select the grouping columns after groupby to silence this warning.\n",
      "  signal_multi = np.stack(df.groupby(\"id_poly\").apply(lambda x: x.sort_values(\"date\").drop(columns=[\"id_poly\", \"date\"]).values).values)\n",
      "/home/giovani/Documents/AutoSatViewer/wavelet_code/signal_processing.py:145: RuntimeWarning: invalid value encountered in divide\n",
      "  scaled_coefficients[:, i] = np.log(scaled_coefficients[:, i] + 1) / np.log(\n"
     ]
    }
   ],
   "source": [
    "for time_interval in [\"Month\"]:\n",
    "    for poly_division in [\"SpGrid\", \"SpDistricts\", \"SpCenterCensus10k\", \"SpCenterCensus5k\"]:\n",
    "        precompute_wavelet(poly_division, time_interval)"
   ]
  }
 ],
 "metadata": {
  "kernelspec": {
   "display_name": "wavelet_code",
   "language": "python",
   "name": "python3"
  },
  "language_info": {
   "codemirror_mode": {
    "name": "ipython",
    "version": 3
   },
   "file_extension": ".py",
   "mimetype": "text/x-python",
   "name": "python",
   "nbconvert_exporter": "python",
   "pygments_lexer": "ipython3",
   "version": "3.1.0"
  }
 },
 "nbformat": 4,
 "nbformat_minor": 2
}
