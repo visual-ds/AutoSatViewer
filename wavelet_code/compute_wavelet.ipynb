{
 "cells": [
  {
   "cell_type": "code",
   "execution_count": 7,
   "metadata": {},
   "outputs": [],
   "source": [
    "import numpy as np\n",
    "import pandas as pd\n",
    "import matplotlib.pyplot as plt\n",
    "import geopandas as gpd\n",
    "import wavelet_transform as wt\n",
    "import signal_processing as sp\n",
    "from create_graph import create_graph\n",
    "import scipy.sparse\n"
   ]
  },
  {
   "cell_type": "code",
   "execution_count": 8,
   "metadata": {},
   "outputs": [],
   "source": [
    "%matplotlib inline"
   ]
  },
  {
   "cell_type": "code",
   "execution_count": 9,
   "metadata": {},
   "outputs": [
    {
     "name": "stderr",
     "output_type": "stream",
     "text": [
      "/tmp/ipykernel_414377/4238463697.py:7: DeprecationWarning: DataFrameGroupBy.apply operated on the grouping columns. This behavior is deprecated, and in a future version of pandas the grouping columns will be excluded from the operation. Either pass `include_groups=False` to exclude the groupings or explicitly select the grouping columns after groupby to silence this warning.\n",
      "  signal_multi = np.stack(df.groupby(\"id_poly\").apply(lambda x: x.sort_values(\"date\").drop(columns=[\"id_poly\", \"date\"]).values).values)\n",
      "/home/giovani/Documents/AutoSatViewer/wavelet_code/signal_processing.py:145: RuntimeWarning: invalid value encountered in divide\n",
      "  scaled_coefficients[:, i] = np.log(scaled_coefficients[:, i] + 1) / np.log(\n"
     ]
    }
   ],
   "source": [
    "poly_division = \"SpDistricts\"\n",
    "time_interval = \"Month\"\n",
    "df = pd.read_csv(f\"data/polygon_data/{poly_division}_{time_interval}.csv\")\n",
    "features = df.columns[2:]\n",
    "adj_matrix = np.load(f\"data/adj_matrix/{poly_division}.npy\")\n",
    "# transform dataframe into a numpy array with \"id_poly\" as the first dimension and \"date\" as the second, with the rest of the columns as the third dimension\n",
    "signal_multi = np.stack(df.groupby(\"id_poly\").apply(lambda x: x.sort_values(\"date\").drop(columns=[\"id_poly\", \"date\"]).values).values)\n",
    "df_res = df[[\"id_poly\", \"date\"]].copy()\n",
    "\n",
    "for k, feature in enumerate(features):\n",
    "    signal = signal_multi[:, :, k]\n",
    "\n",
    "    n_timestamps = signal_multi.shape[1]\n",
    "\n",
    "    wav =  wt.WaveletTransform(\n",
    "        adj_matrix,\n",
    "        n_timestamps,\n",
    "        graph_product=\"strong\",\n",
    "        n_filters=32,\n",
    "        kernel=\"abspline\",\n",
    "        scaling_function=False,\n",
    "        method=\"chebyshev\",\n",
    "        order_chebyshev=30,\n",
    "    )\n",
    "    coeffs = wav.transform(signal)\n",
    "    coeffs = sp.get_scaled_coefficients(coeffs)\n",
    "    # create column for coeffs in the df_res\n",
    "    for i in range(coeffs.shape[-1]):\n",
    "        df_res[f\"{feature}_coeff_{i}\"] = coeffs[:, :, i].flatten()\n",
    "    df_res = df_res.copy()\n",
    "    df_res[df_res.columns[2:]] = df_res[df_res.columns[2:]].astype(np.float32)\n",
    "    df_res.to_csv(f\"data/coeffs/{feature}_{poly_division}_{time_interval}.csv\", index=False)\n",
    "    df_res = df[[\"id_poly\", \"date\"]].copy()"
   ]
  },
  {
   "cell_type": "code",
   "execution_count": 10,
   "metadata": {},
   "outputs": [
    {
     "name": "stderr",
     "output_type": "stream",
     "text": [
      "/tmp/ipykernel_414377/4086797910.py:7: DeprecationWarning: DataFrameGroupBy.apply operated on the grouping columns. This behavior is deprecated, and in a future version of pandas the grouping columns will be excluded from the operation. Either pass `include_groups=False` to exclude the groupings or explicitly select the grouping columns after groupby to silence this warning.\n",
      "  signal_multi = np.stack(df.groupby(\"id_poly\").apply(lambda x: x.sort_values(\"date\").drop(columns=[\"id_poly\", \"date\"]).values).values)\n",
      "/home/giovani/Documents/AutoSatViewer/wavelet_code/signal_processing.py:145: RuntimeWarning: invalid value encountered in divide\n",
      "  scaled_coefficients[:, i] = np.log(scaled_coefficients[:, i] + 1) / np.log(\n"
     ]
    }
   ],
   "source": [
    "poly_division = \"SpCenterCensus5k\"\n",
    "time_interval = \"Month\"\n",
    "df = pd.read_csv(f\"data/polygon_data/{poly_division}_{time_interval}.csv\")\n",
    "features = df.columns[2:]\n",
    "adj_matrix = scipy.sparse.load_npz(f\"data/adj_matrix/{poly_division}.npz\").toarray()\n",
    "# transform dataframe into a numpy array with \"id_poly\" as the first dimension and \"date\" as the second, with the rest of the columns as the third dimension\n",
    "signal_multi = np.stack(df.groupby(\"id_poly\").apply(lambda x: x.sort_values(\"date\").drop(columns=[\"id_poly\", \"date\"]).values).values)\n",
    "df_res = df[[\"id_poly\", \"date\"]].copy()\n",
    "\n",
    "for k, feature in enumerate(features):\n",
    "    signal = signal_multi[:, :, k]\n",
    "\n",
    "    n_timestamps = signal_multi.shape[1]\n",
    "\n",
    "    wav =  wt.WaveletTransform(\n",
    "        adj_matrix,\n",
    "        n_timestamps,\n",
    "        graph_product=\"strong\",\n",
    "        n_filters=32,\n",
    "        kernel=\"abspline\",\n",
    "        scaling_function=False,\n",
    "        method=\"chebyshev\",\n",
    "        order_chebyshev=30,\n",
    "    )\n",
    "    coeffs = wav.transform(signal)\n",
    "    coeffs = sp.get_scaled_coefficients(coeffs)\n",
    "    # create column for coeffs in the df_res\n",
    "    for i in range(coeffs.shape[-1]):\n",
    "        df_res[f\"{feature}_coeff_{i}\"] = coeffs[:, :, i].flatten()\n",
    "    df_res = df_res.copy()\n",
    "    df_res[df_res.columns[2:]] = df_res[df_res.columns[2:]].astype(np.float32)\n",
    "    df_res.to_csv(f\"data/coeffs/{feature}_{poly_division}_{time_interval}.csv\", index=False)\n",
    "    df_res = df[[\"id_poly\", \"date\"]].copy()\n"
   ]
  },
  {
   "cell_type": "code",
   "execution_count": 11,
   "metadata": {},
   "outputs": [
    {
     "name": "stderr",
     "output_type": "stream",
     "text": [
      "/tmp/ipykernel_414377/391728835.py:7: DeprecationWarning: DataFrameGroupBy.apply operated on the grouping columns. This behavior is deprecated, and in a future version of pandas the grouping columns will be excluded from the operation. Either pass `include_groups=False` to exclude the groupings or explicitly select the grouping columns after groupby to silence this warning.\n",
      "  signal_multi = np.stack(df.groupby(\"id_poly\").apply(lambda x: x.sort_values(\"date\").drop(columns=[\"id_poly\", \"date\"]).values).values)\n"
     ]
    },
    {
     "name": "stdout",
     "output_type": "stream",
     "text": [
      "WazeACCIDENT 0.0 2.3535542297213907 6165.172817846003\n",
      "WazeHAZARD 0.0 0.0 0.0\n"
     ]
    },
    {
     "name": "stderr",
     "output_type": "stream",
     "text": [
      "/home/giovani/Documents/AutoSatViewer/wavelet_code/signal_processing.py:145: RuntimeWarning: invalid value encountered in divide\n",
      "  scaled_coefficients[:, i] = np.log(scaled_coefficients[:, i] + 1) / np.log(\n"
     ]
    },
    {
     "name": "stdout",
     "output_type": "stream",
     "text": [
      "WazeJAM 0.0 88.47958906340614 21175.2188145011\n",
      "WazeROADCLOSED 0.0 1.1358582839935534 7440.2366741254755\n",
      "WazeWEATHERHAZARD 0.0 22.243811731394654 17829.337023078548\n",
      "FurtoCelular 0.0 79.7366183582822 91850.7492112182\n",
      "RouboCelular 0.0 57.82337877876061 234491.525402574\n",
      "temperature 15.58845897863108 20.418512996871296 24.429501333759912\n",
      "precipitation 4.711483200245173 104.72131975036574 490.9125718429855\n"
     ]
    }
   ],
   "source": [
    "poly_division = \"SpCenterCensus10k\"\n",
    "time_interval = \"Month\"\n",
    "df = pd.read_csv(f\"data/polygon_data/{poly_division}_{time_interval}.csv\")\n",
    "features = df.columns[2:]\n",
    "adj_matrix = scipy.sparse.load_npz(f\"data/adj_matrix/{poly_division}.npz\").toarray()\n",
    "# transform dataframe into a numpy array with \"id_poly\" as the first dimension and \"date\" as the second, with the rest of the columns as the third dimension\n",
    "signal_multi = np.stack(df.groupby(\"id_poly\").apply(lambda x: x.sort_values(\"date\").drop(columns=[\"id_poly\", \"date\"]).values).values)\n",
    "df_res = df[[\"id_poly\", \"date\"]].copy()\n",
    "\n",
    "for k, feature in enumerate(features):\n",
    "    signal = signal_multi[:, :, k]\n",
    "    print(feature, signal.min(), signal.mean(), signal.max())\n",
    "\n",
    "    n_timestamps = signal_multi.shape[1]\n",
    "\n",
    "    wav =  wt.WaveletTransform(\n",
    "        adj_matrix,\n",
    "        n_timestamps,\n",
    "        graph_product=\"strong\",\n",
    "        n_filters=32,\n",
    "        kernel=\"abspline\",\n",
    "        scaling_function=False,\n",
    "        method=\"chebyshev\",\n",
    "        order_chebyshev=30,\n",
    "    )\n",
    "    coeffs = wav.transform(signal)\n",
    "    coeffs = sp.get_scaled_coefficients(coeffs)\n",
    "    # create column for coeffs in the df_res\n",
    "    for i in range(coeffs.shape[-1]):\n",
    "        df_res[f\"{feature}_coeff_{i}\"] = coeffs[:, :, i].flatten()\n",
    "    df_res = df_res.copy()\n",
    "    df_res[df_res.columns[2:]] = df_res[df_res.columns[2:]].astype(np.float32)\n",
    "    df_res.to_csv(f\"data/coeffs/{feature}_{poly_division}_{time_interval}.csv\", index=False)\n",
    "    df_res = df[[\"id_poly\", \"date\"]].copy()"
   ]
  }
 ],
 "metadata": {
  "kernelspec": {
   "display_name": "wavelet_code",
   "language": "python",
   "name": "python3"
  },
  "language_info": {
   "codemirror_mode": {
    "name": "ipython",
    "version": 3
   },
   "file_extension": ".py",
   "mimetype": "text/x-python",
   "name": "python",
   "nbconvert_exporter": "python",
   "pygments_lexer": "ipython3",
   "version": "3.1.0"
  }
 },
 "nbformat": 4,
 "nbformat_minor": 2
}
