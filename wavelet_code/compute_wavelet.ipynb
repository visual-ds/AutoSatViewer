{
 "cells": [
  {
   "cell_type": "code",
   "execution_count": 1,
   "metadata": {},
   "outputs": [
    {
     "name": "stderr",
     "output_type": "stream",
     "text": [
      "/tmp/ipykernel_32802/2365126765.py:2: DeprecationWarning: \n",
      "Pyarrow will become a required dependency of pandas in the next major release of pandas (pandas 3.0),\n",
      "(to allow more performant data types, such as the Arrow string type, and better interoperability with other libraries)\n",
      "but was not found to be installed on your system.\n",
      "If this would cause problems for you,\n",
      "please provide us feedback at https://github.com/pandas-dev/pandas/issues/54466\n",
      "        \n",
      "  import pandas as pd\n"
     ]
    }
   ],
   "source": [
    "import numpy as np\n",
    "import pandas as pd\n",
    "import wavelet_transform as wt\n",
    "import signal_processing as sp\n",
    "import scipy.sparse"
   ]
  },
  {
   "cell_type": "code",
   "execution_count": 19,
   "metadata": {},
   "outputs": [],
   "source": [
    "def precompute_wavelet(poly_division, time_interval, spatial = False):\n",
    "    df = pd.read_csv(f\"data/polygon_data/{poly_division}_{time_interval}.csv\")\n",
    "    features = df.columns[2:]\n",
    "    try:\n",
    "        adj_matrix = np.load(f\"data/adj_matrix/{poly_division}.npy\")\n",
    "    except:\n",
    "        adj_matrix = scipy.sparse.load_npz(f\"data/adj_matrix/{poly_division}.npz\").toarray()\n",
    "\n",
    "    signal_multi = np.stack(\n",
    "        df.groupby(\"id_poly\").apply(\n",
    "            lambda x: x.sort_values(\"date\").drop(columns=[\"date\"]).values, include_groups=False\n",
    "            ).values\n",
    "        )\n",
    "    \n",
    "    n_timestamps = signal_multi.shape[1]\n",
    "    if spatial:\n",
    "        G_H = wt.get_spatial_adj(adj_matrix, n_timestamps)\n",
    "    else:\n",
    "        G_H = None\n",
    "\n",
    "    df_res = []\n",
    "    for k, feature in enumerate(features):\n",
    "        df_start = df[[\"id_poly\", \"date\"]].copy()\n",
    "        signal = signal_multi[:, :, k]\n",
    "        \n",
    "        wav =  wt.WaveletTransform(\n",
    "            adj_matrix,\n",
    "            n_timestamps,\n",
    "            G_H=G_H,\n",
    "            graph_product=\"strong\",\n",
    "            n_filters=4,\n",
    "            kernel=\"abspline\",\n",
    "            scaling_function=False,\n",
    "            method=\"chebyshev\",\n",
    "            order_chebyshev=30,\n",
    "        )\n",
    "        coeffs = wav.transform(signal)\n",
    "        coeffs = sp.get_scaled_coefficients(coeffs)\n",
    "\n",
    "\n",
    "        # create column for coeffs in the df_res\n",
    "        for i in range(coeffs.shape[-1]):\n",
    "            df_start[f\"mean_freq_{i}\"] = coeffs[:, :, i].flatten()\n",
    "        df_start[\"type\"] = feature\n",
    "\n",
    "        df_res.append(df_start)\n",
    "\n",
    "    df_res = pd.concat(df_res)\n",
    "    float_columns = df_res.columns[df_res.dtypes == np.float64] \n",
    "    df_res[float_columns] = df_res[float_columns].astype(np.float16)\n",
    "    if spatial:\n",
    "        df_res.to_csv(f\"data/coeffs_spatial/{poly_division}_{time_interval}.csv\", index=False)\n",
    "    else:\n",
    "        df_res.to_csv(f\"data/coeffs/{poly_division}_{time_interval}.csv\", index=False)"
   ]
  },
  {
   "cell_type": "code",
   "execution_count": 3,
   "metadata": {},
   "outputs": [],
   "source": [
    "def precompute_both(poly_division, time_interval):\n",
    "    precompute_wavelet(poly_division, time_interval)\n",
    "    precompute_wavelet(poly_division, time_interval, True)"
   ]
  },
  {
   "cell_type": "code",
   "execution_count": 23,
   "metadata": {},
   "outputs": [],
   "source": [
    "precompute_both(\"SpCenterCensus5k\", \"Period1\")"
   ]
  },
  {
   "cell_type": "code",
   "execution_count": 24,
   "metadata": {},
   "outputs": [],
   "source": [
    "precompute_both(\"SpCenterCensus5k\", \"Period2\")"
   ]
  },
  {
   "cell_type": "code",
   "execution_count": 25,
   "metadata": {},
   "outputs": [],
   "source": [
    "precompute_both(\"SpCenterCensus2k\", \"Period1\")"
   ]
  },
  {
   "cell_type": "code",
   "execution_count": 26,
   "metadata": {},
   "outputs": [],
   "source": [
    "precompute_both(\"SpCenterCensus2k\", \"Period2\")"
   ]
  },
  {
   "cell_type": "code",
   "execution_count": 22,
   "metadata": {},
   "outputs": [],
   "source": [
    "precompute_both(\"NYBlocks\", \"Period1\")"
   ]
  },
  {
   "cell_type": "code",
   "execution_count": 28,
   "metadata": {},
   "outputs": [],
   "source": [
    "precompute_both(\"BLACities\", \"Year\")"
   ]
  },
  {
   "cell_type": "code",
   "execution_count": 30,
   "metadata": {},
   "outputs": [],
   "source": [
    "precompute_both(\"BLACities\", \"Year2\")"
   ]
  }
 ],
 "metadata": {
  "kernelspec": {
   "display_name": "wavelet_code",
   "language": "python",
   "name": "python3"
  },
  "language_info": {
   "codemirror_mode": {
    "name": "ipython",
    "version": 3
   },
   "file_extension": ".py",
   "mimetype": "text/x-python",
   "name": "python",
   "nbconvert_exporter": "python",
   "pygments_lexer": "ipython3",
   "version": "3.10.13"
  }
 },
 "nbformat": 4,
 "nbformat_minor": 2
}
