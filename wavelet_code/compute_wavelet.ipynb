{
 "cells": [
  {
   "cell_type": "code",
   "execution_count": 1,
   "metadata": {},
   "outputs": [
    {
     "name": "stderr",
     "output_type": "stream",
     "text": [
      "/tmp/ipykernel_21349/4231272995.py:2: DeprecationWarning: \n",
      "Pyarrow will become a required dependency of pandas in the next major release of pandas (pandas 3.0),\n",
      "(to allow more performant data types, such as the Arrow string type, and better interoperability with other libraries)\n",
      "but was not found to be installed on your system.\n",
      "If this would cause problems for you,\n",
      "please provide us feedback at https://github.com/pandas-dev/pandas/issues/54466\n",
      "        \n",
      "  import pandas as pd\n"
     ]
    }
   ],
   "source": [
    "import numpy as np\n",
    "import pandas as pd\n",
    "import geopandas as gpd\n",
    "import wavelet_transform as wt\n",
    "import signal_processing as sp\n",
    "import scipy.sparse\n",
    "from sklearn.preprocessing import StandardScaler\n",
    "from pygsp import graphs"
   ]
  },
  {
   "cell_type": "code",
   "execution_count": 2,
   "metadata": {},
   "outputs": [],
   "source": [
    "def precompute_wavelet(poly_division, time_interval):\n",
    "    df = pd.read_csv(f\"data/polygon_data/{poly_division}_{time_interval}.csv\")\n",
    "    features = df.columns[2:]\n",
    "    try:\n",
    "        adj_matrix = np.load(f\"data/adj_matrix/{poly_division}.npy\")\n",
    "    except:\n",
    "        adj_matrix = scipy.sparse.load_npz(f\"data/adj_matrix/{poly_division}.npz\").toarray()\n",
    "\n",
    "    signal_multi = np.stack(df.groupby(\"id_poly\").apply(lambda x: x.sort_values(\"date\").drop(columns=[\"id_poly\", \"date\"]).values).values)\n",
    "    \n",
    "    df_res = []\n",
    "\n",
    "    for k, feature in enumerate(features):\n",
    "        df_start = df[[\"id_poly\", \"date\"]].copy()\n",
    "        signal = signal_multi[:, :, k]\n",
    "        n_timestamps = signal_multi.shape[1]\n",
    "\n",
    "        wav =  wt.WaveletTransform(\n",
    "            adj_matrix,\n",
    "            n_timestamps,\n",
    "            graph_product=\"strong\",\n",
    "            n_filters=4,\n",
    "            kernel=\"abspline\",\n",
    "            scaling_function=False,\n",
    "            method=\"chebyshev\",\n",
    "            order_chebyshev=30,\n",
    "        )\n",
    "        coeffs = wav.transform(signal)\n",
    "        coeffs = sp.get_scaled_coefficients(coeffs)\n",
    "\n",
    "\n",
    "        # create column for coeffs in the df_res\n",
    "        for i in range(coeffs.shape[-1]):\n",
    "            df_start[f\"mean_freq_{i}\"] = coeffs[:, :, i].flatten()\n",
    "        df_start[\"type\"] = feature\n",
    "\n",
    "        df_res.append(df_start)\n",
    "\n",
    "    df_res = pd.concat(df_res)\n",
    "    float_columns = df_res.columns[df_res.dtypes == np.float64] \n",
    "    df_res[float_columns] = df_res[float_columns].astype(np.float16)\n",
    "    df_res.to_csv(f\"data/coeffs/{poly_division}_{time_interval}.csv\", index=False)"
   ]
  },
  {
   "cell_type": "code",
   "execution_count": 3,
   "metadata": {},
   "outputs": [],
   "source": [
    "def create_G_H_spatial(adjancency_matrix, n_timestamps):\n",
    "\n",
    "    x, y = np.where(adjancency_matrix)\n",
    "    e = []\n",
    "    nodes = np.arange(adjancency_matrix.shape[0])\n",
    "    n_nodes = adjancency_matrix.shape[0]\n",
    "    \n",
    "    for t in range(n_timestamps):  # link between nodes in the same timestamp\n",
    "        e.append(np.array([x + t * n_nodes, y + t * n_nodes]).T)\n",
    "\n",
    "    e = np.concatenate(e)\n",
    "    adjancency_matrix_temporal = scipy.sparse.csr_matrix(\n",
    "        (np.ones(e.shape[0]), (e[:, 0], e[:, 1])),\n",
    "        shape=(\n",
    "            n_timestamps * adjancency_matrix.shape[0],\n",
    "            n_timestamps * adjancency_matrix.shape[0],\n",
    "        ),\n",
    "    )\n",
    "    G_H = graphs.Graph(adjancency_matrix_temporal)\n",
    "    return G_H\n",
    "\n",
    "\n",
    "def precompute_spatial_wavelet(poly_division, time_interval):\n",
    "    \n",
    "    df = pd.read_csv(f\"data/polygon_data/{poly_division}_{time_interval}.csv\")\n",
    "    features = df.columns[2:]\n",
    "    try:\n",
    "        adj_matrix = np.load(f\"data/adj_matrix/{poly_division}.npy\")\n",
    "    except:\n",
    "        adj_matrix = scipy.sparse.load_npz(f\"data/adj_matrix/{poly_division}.npz\").toarray()\n",
    "    signal_multi = np.stack(df.groupby(\"id_poly\").apply(lambda x: x.sort_values(\"date\").drop(columns=[\"id_poly\", \"date\"]).values).values)\n",
    "\n",
    "    n_timestamps = signal_multi.shape[1]\n",
    "    G_H = create_G_H_spatial(adj_matrix, n_timestamps)\n",
    "    df_res = []\n",
    "\n",
    "    for k, feature in enumerate(features):\n",
    "        df_start = df[[\"id_poly\", \"date\"]].copy()\n",
    "        signal = signal_multi[:, :, k]\n",
    "\n",
    "        n_timestamps = signal_multi.shape[1]\n",
    "\n",
    "        wav =  wt.WaveletTransform(\n",
    "            adj_matrix,\n",
    "            n_timestamps,\n",
    "            G_H=G_H,\n",
    "            graph_product=\"strong\",\n",
    "            n_filters=4,\n",
    "            kernel=\"abspline\",\n",
    "            scaling_function=False,\n",
    "            method=\"chebyshev\",\n",
    "            order_chebyshev=30,\n",
    "        )\n",
    "        coeffs = wav.transform(signal)\n",
    "        coeffs = sp.get_scaled_coefficients(coeffs)\n",
    "        # create column for coeffs in the df_res\n",
    "        for i in range(coeffs.shape[-1]):\n",
    "            df_start[f\"mean_freq_{i}\"] = coeffs[:, :, i].flatten()\n",
    "        df_start[\"type\"] = feature\n",
    "        df_res.append(df_start)\n",
    "        \n",
    "    df_res = pd.concat(df_res)\n",
    "    float_columns = df_res.columns[df_res.dtypes == np.float64] \n",
    "    df_res[float_columns] = df_res[float_columns].astype(np.float16)\n",
    "    df_res.to_csv(f\"data/coeffs_spatial/{poly_division}_{time_interval}.csv\", index=False)\n",
    "    "
   ]
  },
  {
   "cell_type": "code",
   "execution_count": 4,
   "metadata": {},
   "outputs": [],
   "source": [
    "def precompute_both(poly_division, time_interval):\n",
    "    precompute_wavelet(poly_division, time_interval)\n",
    "    precompute_spatial_wavelet(poly_division, time_interval)"
   ]
  },
  {
   "cell_type": "code",
   "execution_count": 5,
   "metadata": {},
   "outputs": [
    {
     "name": "stderr",
     "output_type": "stream",
     "text": [
      "/tmp/ipykernel_21349/4064696322.py:9: DeprecationWarning: DataFrameGroupBy.apply operated on the grouping columns. This behavior is deprecated, and in a future version of pandas the grouping columns will be excluded from the operation. Either pass `include_groups=False` to exclude the groupings or explicitly select the grouping columns after groupby to silence this warning.\n",
      "  signal_multi = np.stack(df.groupby(\"id_poly\").apply(lambda x: x.sort_values(\"date\").drop(columns=[\"id_poly\", \"date\"]).values).values)\n",
      "/tmp/ipykernel_21349/859572568.py:31: DeprecationWarning: DataFrameGroupBy.apply operated on the grouping columns. This behavior is deprecated, and in a future version of pandas the grouping columns will be excluded from the operation. Either pass `include_groups=False` to exclude the groupings or explicitly select the grouping columns after groupby to silence this warning.\n",
      "  signal_multi = np.stack(df.groupby(\"id_poly\").apply(lambda x: x.sort_values(\"date\").drop(columns=[\"id_poly\", \"date\"]).values).values)\n"
     ]
    }
   ],
   "source": [
    "precompute_both(\"SpCenterCensus5k\", \"Period1\")\n"
   ]
  },
  {
   "cell_type": "code",
   "execution_count": 6,
   "metadata": {},
   "outputs": [
    {
     "name": "stderr",
     "output_type": "stream",
     "text": [
      "/tmp/ipykernel_21349/4064696322.py:9: DeprecationWarning: DataFrameGroupBy.apply operated on the grouping columns. This behavior is deprecated, and in a future version of pandas the grouping columns will be excluded from the operation. Either pass `include_groups=False` to exclude the groupings or explicitly select the grouping columns after groupby to silence this warning.\n",
      "  signal_multi = np.stack(df.groupby(\"id_poly\").apply(lambda x: x.sort_values(\"date\").drop(columns=[\"id_poly\", \"date\"]).values).values)\n",
      "/tmp/ipykernel_21349/859572568.py:31: DeprecationWarning: DataFrameGroupBy.apply operated on the grouping columns. This behavior is deprecated, and in a future version of pandas the grouping columns will be excluded from the operation. Either pass `include_groups=False` to exclude the groupings or explicitly select the grouping columns after groupby to silence this warning.\n",
      "  signal_multi = np.stack(df.groupby(\"id_poly\").apply(lambda x: x.sort_values(\"date\").drop(columns=[\"id_poly\", \"date\"]).values).values)\n"
     ]
    }
   ],
   "source": [
    "precompute_both(\"SpCenterCensus5k\", \"Period2\")"
   ]
  },
  {
   "cell_type": "code",
   "execution_count": 7,
   "metadata": {},
   "outputs": [
    {
     "name": "stderr",
     "output_type": "stream",
     "text": [
      "/tmp/ipykernel_21349/4064696322.py:9: DeprecationWarning: DataFrameGroupBy.apply operated on the grouping columns. This behavior is deprecated, and in a future version of pandas the grouping columns will be excluded from the operation. Either pass `include_groups=False` to exclude the groupings or explicitly select the grouping columns after groupby to silence this warning.\n",
      "  signal_multi = np.stack(df.groupby(\"id_poly\").apply(lambda x: x.sort_values(\"date\").drop(columns=[\"id_poly\", \"date\"]).values).values)\n",
      "/tmp/ipykernel_21349/859572568.py:31: DeprecationWarning: DataFrameGroupBy.apply operated on the grouping columns. This behavior is deprecated, and in a future version of pandas the grouping columns will be excluded from the operation. Either pass `include_groups=False` to exclude the groupings or explicitly select the grouping columns after groupby to silence this warning.\n",
      "  signal_multi = np.stack(df.groupby(\"id_poly\").apply(lambda x: x.sort_values(\"date\").drop(columns=[\"id_poly\", \"date\"]).values).values)\n"
     ]
    }
   ],
   "source": [
    "precompute_both(\"SpCenterCensus2k\", \"Period1\")"
   ]
  },
  {
   "cell_type": "code",
   "execution_count": 8,
   "metadata": {},
   "outputs": [
    {
     "name": "stderr",
     "output_type": "stream",
     "text": [
      "/tmp/ipykernel_21349/4064696322.py:9: DeprecationWarning: DataFrameGroupBy.apply operated on the grouping columns. This behavior is deprecated, and in a future version of pandas the grouping columns will be excluded from the operation. Either pass `include_groups=False` to exclude the groupings or explicitly select the grouping columns after groupby to silence this warning.\n",
      "  signal_multi = np.stack(df.groupby(\"id_poly\").apply(lambda x: x.sort_values(\"date\").drop(columns=[\"id_poly\", \"date\"]).values).values)\n"
     ]
    }
   ],
   "source": [
    "precompute_both(\"SpCenterCensus2k\", \"Period2\")"
   ]
  },
  {
   "cell_type": "code",
   "execution_count": null,
   "metadata": {},
   "outputs": [
    {
     "name": "stderr",
     "output_type": "stream",
     "text": [
      "/tmp/ipykernel_752869/4139791210.py:9: DeprecationWarning: DataFrameGroupBy.apply operated on the grouping columns. This behavior is deprecated, and in a future version of pandas the grouping columns will be excluded from the operation. Either pass `include_groups=False` to exclude the groupings or explicitly select the grouping columns after groupby to silence this warning.\n",
      "  signal_multi = np.stack(df.groupby(\"id_poly\").apply(lambda x: x.sort_values(\"date\").drop(columns=[\"id_poly\", \"date\"]).values).values)\n",
      "/tmp/ipykernel_752869/2335242727.py:31: DeprecationWarning: DataFrameGroupBy.apply operated on the grouping columns. This behavior is deprecated, and in a future version of pandas the grouping columns will be excluded from the operation. Either pass `include_groups=False` to exclude the groupings or explicitly select the grouping columns after groupby to silence this warning.\n",
      "  signal_multi = np.stack(df.groupby(\"id_poly\").apply(lambda x: x.sort_values(\"date\").drop(columns=[\"id_poly\", \"date\"]).values).values)\n"
     ]
    }
   ],
   "source": [
    "precompute_both(\"NYBlocks\", \"Period1\")"
   ]
  },
  {
   "cell_type": "code",
   "execution_count": null,
   "metadata": {},
   "outputs": [
    {
     "name": "stderr",
     "output_type": "stream",
     "text": [
      "/tmp/ipykernel_746325/4139791210.py:9: DeprecationWarning: DataFrameGroupBy.apply operated on the grouping columns. This behavior is deprecated, and in a future version of pandas the grouping columns will be excluded from the operation. Either pass `include_groups=False` to exclude the groupings or explicitly select the grouping columns after groupby to silence this warning.\n",
      "  signal_multi = np.stack(df.groupby(\"id_poly\").apply(lambda x: x.sort_values(\"date\").drop(columns=[\"id_poly\", \"date\"]).values).values)\n",
      "/tmp/ipykernel_746325/2335242727.py:31: DeprecationWarning: DataFrameGroupBy.apply operated on the grouping columns. This behavior is deprecated, and in a future version of pandas the grouping columns will be excluded from the operation. Either pass `include_groups=False` to exclude the groupings or explicitly select the grouping columns after groupby to silence this warning.\n",
      "  signal_multi = np.stack(df.groupby(\"id_poly\").apply(lambda x: x.sort_values(\"date\").drop(columns=[\"id_poly\", \"date\"]).values).values)\n"
     ]
    }
   ],
   "source": [
    "precompute_both(\"BLACities\", \"Year\")"
   ]
  },
  {
   "cell_type": "code",
   "execution_count": null,
   "metadata": {},
   "outputs": [],
   "source": [
    "precompute_both(\"BLACitiesDiff\", \"Year\")"
   ]
  }
 ],
 "metadata": {
  "kernelspec": {
   "display_name": "wavelet_code",
   "language": "python",
   "name": "python3"
  },
  "language_info": {
   "codemirror_mode": {
    "name": "ipython",
    "version": 3
   },
   "file_extension": ".py",
   "mimetype": "text/x-python",
   "name": "python",
   "nbconvert_exporter": "python",
   "pygments_lexer": "ipython3",
   "version": "3.10.13"
  }
 },
 "nbformat": 4,
 "nbformat_minor": 2
}
