{
 "cells": [
  {
   "cell_type": "code",
   "execution_count": 1,
   "metadata": {},
   "outputs": [
    {
     "name": "stderr",
     "output_type": "stream",
     "text": [
      "/tmp/ipykernel_159584/2024363905.py:1: DeprecationWarning: \n",
      "Pyarrow will become a required dependency of pandas in the next major release of pandas (pandas 3.0),\n",
      "(to allow more performant data types, such as the Arrow string type, and better interoperability with other libraries)\n",
      "but was not found to be installed on your system.\n",
      "If this would cause problems for you,\n",
      "please provide us feedback at https://github.com/pandas-dev/pandas/issues/54466\n",
      "        \n",
      "  import pandas as pd\n"
     ]
    }
   ],
   "source": [
    "import pandas as pd\n",
    "from scipy.signal import correlate"
   ]
  },
  {
   "cell_type": "code",
   "execution_count": 2,
   "metadata": {},
   "outputs": [],
   "source": [
    "import time"
   ]
  },
  {
   "cell_type": "code",
   "execution_count": 3,
   "metadata": {},
   "outputs": [],
   "source": [
    "def calculate_correlation(poly_division, time_interval, max_lags = 5):\n",
    "    df = pd.read_csv(f\"data/polygon_data/{poly_division}_{time_interval}.csv\")\n",
    "    \n",
    "    # create lagged columns\n",
    "    df_new = df.copy()\n",
    "    for lag in range(-max_lags, max_lags + 1):\n",
    "        df_new = pd.merge(\n",
    "            df_new,\n",
    "            df.groupby(\"id_poly\").apply(lambda x : x.set_index(\"date\").shift(lag), include_groups=False).reset_index(),\n",
    "            on=[\"id_poly\", \"date\"],\n",
    "            how = \"inner\",\n",
    "            suffixes = (\"\", f\"_lag_{lag}\")\n",
    "        )\n",
    "\n",
    "    df_new.to_csv(f\"data/polygon_data/{poly_division}_{time_interval}_lagged.csv\", index=False)\n",
    "    corr_matrix = df_new.iloc[:, 2:].corr()\n",
    "    features = df.columns.tolist()[2:]\n",
    "\n",
    "    result = []\n",
    "\n",
    "    for i, feat_i in enumerate(features):\n",
    "        correlations = corr_matrix[feat_i].to_dict()\n",
    "        for j, feat_j in enumerate(features):\n",
    "            if feat_i == feat_j:\n",
    "                continue\n",
    "            \n",
    "\n",
    "            correlations_values = [correlations[feat_j + f\"_lag_{lag}\"] for lag in range(-max_lags, max_lags + 1)]\n",
    "            # get lag and value of maximum absolute correlation\n",
    "            max_corr = max(correlations_values, key=abs)\n",
    "            max_corr_lag = correlations_values.index(max_corr) - max_lags\n",
    "\n",
    "            result.append({\n",
    "                \"row\": feat_i,\n",
    "                \"column\": feat_j,\n",
    "                \"value\": max_corr,\n",
    "                \"lag\": max_corr_lag\n",
    "            })\n",
    "\n",
    "            \n",
    "\n",
    "    result = pd.DataFrame(result)\n",
    "    result.to_csv(f\"data/similarity_matrix/{poly_division}_{time_interval}.csv\", index=False)"
   ]
  },
  {
   "cell_type": "code",
   "execution_count": 12,
   "metadata": {},
   "outputs": [
    {
     "name": "stdout",
     "output_type": "stream",
     "text": [
      "Time taken: 0.34967970848083496\n"
     ]
    }
   ],
   "source": [
    "calculate_correlation(\"SpCenterCensus5k\", \"Period2\", 10)"
   ]
  },
  {
   "cell_type": "code",
   "execution_count": 9,
   "metadata": {},
   "outputs": [
    {
     "name": "stdout",
     "output_type": "stream",
     "text": [
      "Time taken: 1.4154365062713623\n"
     ]
    }
   ],
   "source": [
    "calculate_correlation(\"BLACities\", \"Year\", 10)"
   ]
  },
  {
   "cell_type": "code",
   "execution_count": 5,
   "metadata": {},
   "outputs": [],
   "source": [
    "calculate_correlation(\"BLACities\", \"Year2\", 10)"
   ]
  },
  {
   "cell_type": "code",
   "execution_count": 4,
   "metadata": {},
   "outputs": [],
   "source": [
    "calculate_correlation(\"NYBlocks\", \"Period1\", 10)"
   ]
  }
 ],
 "metadata": {
  "kernelspec": {
   "display_name": "wavelet_code",
   "language": "python",
   "name": "python3"
  },
  "language_info": {
   "codemirror_mode": {
    "name": "ipython",
    "version": 3
   },
   "file_extension": ".py",
   "mimetype": "text/x-python",
   "name": "python",
   "nbconvert_exporter": "python",
   "pygments_lexer": "ipython3",
   "version": "3.10.13"
  }
 },
 "nbformat": 4,
 "nbformat_minor": 2
}
