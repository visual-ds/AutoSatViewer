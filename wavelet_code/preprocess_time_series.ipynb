{
 "cells": [
  {
   "cell_type": "code",
   "execution_count": 1,
   "metadata": {},
   "outputs": [
    {
     "name": "stderr",
     "output_type": "stream",
     "text": [
      "/tmp/ipykernel_417009/184408677.py:1: DeprecationWarning: \n",
      "Pyarrow will become a required dependency of pandas in the next major release of pandas (pandas 3.0),\n",
      "(to allow more performant data types, such as the Arrow string type, and better interoperability with other libraries)\n",
      "but was not found to be installed on your system.\n",
      "If this would cause problems for you,\n",
      "please provide us feedback at https://github.com/pandas-dev/pandas/issues/54466\n",
      "        \n",
      "  import pandas as pd\n"
     ]
    }
   ],
   "source": [
    "import pandas as pd\n",
    "import numpy as np\n",
    "import matplotlib.pyplot as plt\n",
    "import pandas as pd\n",
    "import geopandas as gpd\n",
    "from tqdm import tqdm\n",
    "tqdm.pandas()\n",
    "from shapely.geometry import Point\n",
    "from sklearn.neighbors import NearestNeighbors\n",
    "import CityHub\n",
    "import glob"
   ]
  },
  {
   "cell_type": "code",
   "execution_count": 2,
   "metadata": {},
   "outputs": [],
   "source": [
    "month_range = [\"2019-04-01\", \"2023-01-01\"]\n",
    "day_range = [\"2019-04-01\", \"2020-01-01\"]"
   ]
  },
  {
   "cell_type": "code",
   "execution_count": 3,
   "metadata": {},
   "outputs": [],
   "source": [
    "def crossref(df, gdf):\n",
    "    shapes = gdf.geometry\n",
    "    centroids = [x.centroid for x in shapes]\n",
    "    centroids = np.array([(x.x, x.y) for x in centroids])\n",
    "    nn = NearestNeighbors(n_neighbors=3, algorithm='ball_tree').fit(centroids)\n",
    "    _, indices = nn.kneighbors(df[['LONGITUDE', 'LATITUDE']])\n",
    "\n",
    "    id_poly = []\n",
    "    i = 0\n",
    "    for _, row in tqdm(df.iterrows(), total=len(df)):\n",
    "        point = Point(row['LONGITUDE'], row['LATITUDE'])\n",
    "        new_id = None\n",
    "        for idx in indices[i]:\n",
    "            if shapes[idx].contains(point):\n",
    "                new_id = idx\n",
    "                break\n",
    "        id_poly.append(new_id)\n",
    "        i += 1\n",
    "\n",
    "    df['id_poly'] = id_poly\n",
    "    return df\n",
    "    "
   ]
  },
  {
   "cell_type": "code",
   "execution_count": 4,
   "metadata": {},
   "outputs": [],
   "source": [
    "def groupby_month(df):\n",
    "    df[\"year\"] = df.date.dt.year\n",
    "    df[\"month\"] = df.date.dt.month\n",
    "    df = df.groupby([\"id_poly\", \"year\", \"month\"]).size().reset_index()\n",
    "    df.columns = [\"id_poly\", \"year\", \"month\", \"count\"]\n",
    "    df[\"id_poly\"] = df[\"id_poly\"].astype(int)\n",
    "    return df\n",
    "\n",
    "def transform_month_to_ts(df, gdf):\n",
    "    start_year = pd.to_datetime(month_range[0]).year\n",
    "    start_month = pd.to_datetime(month_range[0]).month\n",
    "    end_year = pd.to_datetime(month_range[1]).year\n",
    "    end_month = pd.to_datetime(month_range[1]).month\n",
    "    n_months = (end_year - start_year) * 12 + end_month - start_month \n",
    "\n",
    "    n_poly = len(gdf)\n",
    "\n",
    "    ts = np.zeros((n_poly, n_months))\n",
    "    k = 0\n",
    "    for m in range(start_month, 13):\n",
    "        filtered = df[(df.year == start_year) & (df.month == m)]\n",
    "        if len(filtered) == ts.shape[0]:\n",
    "            ts[:, k] = filtered[\"count\"]\n",
    "        elif len(filtered) > 0:\n",
    "            ts[filtered.id_poly, k] = filtered[\"count\"]\n",
    "        k += 1\n",
    "\n",
    "    for y in range(start_year + 1, end_year):\n",
    "        for m in range(1, 13):\n",
    "            filtered = df[(df.year == y) & (df.month == m)]\n",
    "            if len(filtered) == ts.shape[0]:\n",
    "                ts[:, k] = filtered[\"count\"]\n",
    "            elif len(filtered) > 0:\n",
    "                ts[filtered.id_poly, k] = filtered[\"count\"]\n",
    "            k += 1\n",
    "\n",
    "    for m in range(1, end_month + 1):\n",
    "        filtered = df[(df.year == end_year) & (df.month == m)]\n",
    "        if len(filtered) == ts.shape[0]:\n",
    "            ts[:, k] = filtered[\"count\"]\n",
    "        elif len(filtered) > 0:\n",
    "            ts[filtered.id_poly, k] = filtered[\"count\"]\n",
    "        k += 1\n",
    "    \n",
    "    # normalize by area\n",
    "    area = gdf.area.values\n",
    "    area /= area.max()\n",
    "    ts = ts / area[:, None]\n",
    "    return ts\n",
    "\n",
    "\n",
    "def groupby_day(df):\n",
    "    day_ns = 60*60*24*10**9\n",
    "    df[\"date_int\"] = df.date.astype(int)\n",
    "    df[\"date_int\"] = df.date_int / day_ns\n",
    "    df[\"date_int\"] = df.date_int.astype(int)    \n",
    "    df = df.groupby([\"id_poly\", \"date_int\"]).size().reset_index()\n",
    "    df.columns = [\"id_poly\", \"date_int\", \"count\"]\n",
    "    df[\"id_poly\"] = df[\"id_poly\"].astype(int)\n",
    "    df = df.sort_values([\"id_poly\", \"date_int\"])\n",
    "    return df\n",
    "\n",
    "\n",
    "def transform_day_to_ts(df, gdf):\n",
    "    min_date = pd.to_datetime(day_range[0]).date().toordinal()\n",
    "    max_date = pd.to_datetime(day_range[1]).date().toordinal()\n",
    "    n_days = max_date - min_date \n",
    "    n_poly = len(gdf)\n",
    "    ts = np.zeros((n_poly, n_days))\n",
    "    k = 0\n",
    "    for day in range(min_date, max_date):\n",
    "        filtered = df[df.date_int == day]\n",
    "        if len(filtered) == ts.shape[0]:\n",
    "            ts[:, k] = filtered[\"count\"]\n",
    "        else:\n",
    "        # fill missing values with 0\n",
    "            ts[:, k] = 0\n",
    "            ts[filtered.id_poly, k] = filtered[\"count\"]\n",
    "        k += 1\n",
    "\n",
    "    # normalize by area\n",
    "    area = gdf.area.values\n",
    "    area /= area.max()\n",
    "    ts = ts / area[:, None]\n",
    "    return ts\n",
    "\n",
    "\n",
    "def create_sp_timeseries(df, gdf, df_name, gdf_name):\n",
    "    df_poly = crossref(df, gdf)\n",
    "    print(f\"Number of points: {len(df_poly)}\")\n",
    "    print(f\"Number of points without polygon: {df_poly.id_poly.isna().sum()/len(df_poly)*100:.2f}%\")\n",
    "    df_poly = df_poly.dropna(subset = [\"id_poly\"])\n",
    "    df_poly.to_csv(f\"data/geo_data/{df_name}_{gdf_name}.csv\", index=False)\n",
    "\n",
    "\n",
    "    df_poly_month = df_poly[(df_poly.date >= month_range[0]) & (df_poly.date < month_range[1])].copy()\n",
    "    df_poly_month = groupby_month(df_poly_month)\n",
    "    ts_month = transform_month_to_ts(df_poly_month, gdf)\n",
    "    print(f\"Number of months: {ts_month.shape[1]}\")\n",
    "    np.save(f\"data/time_series/{df_name}_{gdf_name}_Month.npy\", ts_month)\n",
    "\n",
    "    df_poly_day = df_poly[(df_poly.date >= day_range[0]) & (df_poly.date < day_range[1])].copy()\n",
    "    df_poly_day = groupby_day(df_poly_day)\n",
    "    ts_day = transform_day_to_ts(df_poly_day, gdf)\n",
    "    print(f\"Number of days: {ts_day.shape[1]}\")\n",
    "    np.save(f\"data/time_series/{df_name}_{gdf_name}_Day.npy\", ts_day)\n"
   ]
  },
  {
   "cell_type": "markdown",
   "metadata": {},
   "source": [
    "## Climate"
   ]
  },
  {
   "cell_type": "code",
   "execution_count": 5,
   "metadata": {},
   "outputs": [],
   "source": [
    "for station in [\"MIRANTE\", \"BARUERI\", \"INTERLAGOS\"]:\n",
    "    files = glob.glob(f\"data/time_series/*{station}*\")\n",
    "    file_2018 = [f for f in files if f.find(\"2018\") != -1][0]\n",
    "    other_files = files.copy()\n",
    "    other_files.remove(file_2018)\n",
    "    files = other_files + [file_2018]\n",
    "    df = []\n",
    "    for file in files:\n",
    "        df_ = pd.read_csv(file, sep = \";\")\n",
    "        if file == files[0]:\n",
    "            columns = df_.columns\n",
    "        \n",
    "        if file == files[-1]: # 2018 file, a bit problematic\n",
    "            df_.columns = columns\n",
    "            df_[\"date\"] = pd.to_datetime(df_[\"Data\"], format = \"%Y-%m-%d\")\n",
    "        else:\n",
    "            df_[\"date\"] = pd.to_datetime(df_[\"Data\"], format = \"%Y/%m/%d\")\n",
    "        df.append(df_)\n",
    "    df = pd.concat(df)\n",
    "    selected_columns = [\"date\", 'PRECIPITA��O TOTAL, HOR�RIO (mm)', 'TEMPERATURA M�XIMA NA HORA ANT. (AUT) (�C)', 'UMIDADE REL. MAX. NA HORA ANT. (AUT) (%)']\n",
    "    df = df[selected_columns]\n",
    "    df.columns = [\"date\", \"precipitation\", \"temperature\", \"humidity\"]\n",
    "    df[\"precipitation\"] = df[\"precipitation\"].str.replace(\",\", \".\").astype(float)\n",
    "    df[\"temperature\"] = df[\"temperature\"].str.replace(\",\", \".\").astype(float)\n",
    "    # fill na values with mean\n",
    "    df[\"temperature\"] = df[\"temperature\"].fillna(df[\"temperature\"].mean())\n",
    "    df[\"humidity\"] = df[\"humidity\"].fillna(df[\"humidity\"].mean())\n",
    "    df[\"precipitation\"] = df[\"precipitation\"].fillna(0)\n",
    "    #df = df.dropna()\n",
    "    df_full = df.copy()\n",
    "    df = df_full.groupby(\"date\").agg({\"precipitation\": \"sum\", \"temperature\": [\"min\", \"max\", \"mean\"], \"humidity\": \"mean\"}).reset_index()\n",
    "    df.columns = [\"Data\", \"precipitation\", \"temperature_min\", \"temperature_max\", \"temperature\", \"humidity_mean\"]\n",
    "    # add hour to date\n",
    "    df[\"Data\"] = pd.to_datetime(df[\"Data\"])\n",
    "    df[\"Data\"] = df[\"Data\"].dt.floor('h')\n",
    "    \n",
    "    df[\"Data\"] = df[\"Data\"].dt.strftime(\"%Y-%d-%m %H:%M:%S\")\n",
    "    df.to_csv(f\"data/geo_data/{station}_weather_Day.csv\", sep = \";\", index=False)\n",
    "\n",
    "    df_full[\"month_year\"] = df_full[\"date\"].dt.month.astype(str) + \"-\" + df_full[\"date\"].dt.year.astype(str)\n",
    "    df = df_full.groupby(\"month_year\").agg({\"date\" : \"max\", \"precipitation\": \"sum\", \"temperature\": [\"min\", \"max\", \"mean\"], \"humidity\": \"mean\"}).reset_index()\n",
    "    df.columns = [\"month_year\", \"Data\", \"precipitation\", \"temperature_min\", \"temperature_max\", \"temperature\", \"humidity_mean\"]\n",
    "    df = df.drop(columns = [\"month_year\"])\n",
    "    # add hour to date\n",
    "    df[\"Data\"] = pd.to_datetime(df[\"Data\"])\n",
    "    df[\"Data\"] = df[\"Data\"].dt.floor('h')\n",
    "    \n",
    "    df[\"Data\"] = df[\"Data\"].dt.strftime(\"%Y-%d-%m %H:%M:%S\")\n",
    "    df.to_csv(f\"data/geo_data/{station}_weather_Month.csv\", sep = \";\", index=False)"
   ]
  },
  {
   "cell_type": "code",
   "execution_count": 6,
   "metadata": {},
   "outputs": [
    {
     "name": "stdout",
     "output_type": "stream",
     "text": [
      "Loading file...\n",
      "Preprocessing city mesh...\n",
      "Refining mesh...\n"
     ]
    },
    {
     "name": "stderr",
     "output_type": "stream",
     "text": [
      "/home/giovani/Documents/AutoSatViewer/wavelet_code/CityHub.py:206: FutureWarning: The `great_circle_vec` function has been renamed `great_circle`. Calling `great_circle_vec` will raise an error starting in the v2.0.0 release.\n",
      "  great_circle_dist = ox.distance.great_circle_vec(vertA[0],vertA[1],vertB[0],vertB[1])\n",
      "/home/giovani/Documents/AutoSatViewer/wavelet_code/CityHub.py:207: FutureWarning: The `euclidean_dist_vec` function has been renamed `euclidean`. Calling `euclidean_dist_vec` will raise an error starting in the v2.0.0 release.\n",
      "  latlong_dist = ox.distance.euclidean_dist_vec(vertA[0],vertA[1],vertB[0],vertB[1])\n"
     ]
    }
   ],
   "source": [
    "ch = CityHub.CityHub(\"Sao Paulo, Brazil\")"
   ]
  },
  {
   "cell_type": "code",
   "execution_count": 7,
   "metadata": {},
   "outputs": [
    {
     "name": "stdout",
     "output_type": "stream",
     "text": [
      "(10000, 45)\n",
      "(10000, 45)\n"
     ]
    },
    {
     "name": "stderr",
     "output_type": "stream",
     "text": [
      "/tmp/ipykernel_417009/1369965686.py:11: UserWarning: Geometry is in a geographic CRS. Results from 'centroid' are likely incorrect. Use 'GeoSeries.to_crs()' to re-project geometries to a projected CRS before this operation.\n",
      "\n",
      "  gdf[\"lat\"] = gdf.centroid.y\n",
      "/tmp/ipykernel_417009/1369965686.py:12: UserWarning: Geometry is in a geographic CRS. Results from 'centroid' are likely incorrect. Use 'GeoSeries.to_crs()' to re-project geometries to a projected CRS before this operation.\n",
      "\n",
      "  gdf[\"lng\"] = gdf.centroid.x\n",
      "/home/giovani/Documents/AutoSatViewer/wavelet_code/CityHub.py:1188: FutureWarning: The `great_circle_vec` function has been renamed `great_circle`. Calling `great_circle_vec` will raise an error starting in the v2.0.0 release.\n",
      "  sigma = .5*np.mean([ ox.distance.great_circle_vec(Xm[i,0],Xm[i,1],Xm[j,0],Xm[j,1]) for i in range(M) for j in range(1+i,M)])\n",
      "/home/giovani/Documents/AutoSatViewer/wavelet_code/CityHub.py:1139: FutureWarning: The `great_circle_vec` function has been renamed `great_circle`. Calling `great_circle_vec` will raise an error starting in the v2.0.0 release.\n",
      "  D = [ ox.distance.great_circle_vec(X[:,0],X[:,1],Xm[m,0],Xm[m,1]) for m in range(M) ]\n",
      "/home/giovani/Documents/AutoSatViewer/wavelet_code/CityHub.py:1188: FutureWarning: The `great_circle_vec` function has been renamed `great_circle`. Calling `great_circle_vec` will raise an error starting in the v2.0.0 release.\n",
      "  sigma = .5*np.mean([ ox.distance.great_circle_vec(Xm[i,0],Xm[i,1],Xm[j,0],Xm[j,1]) for i in range(M) for j in range(1+i,M)])\n",
      "/home/giovani/Documents/AutoSatViewer/wavelet_code/CityHub.py:1139: FutureWarning: The `great_circle_vec` function has been renamed `great_circle`. Calling `great_circle_vec` will raise an error starting in the v2.0.0 release.\n",
      "  D = [ ox.distance.great_circle_vec(X[:,0],X[:,1],Xm[m,0],Xm[m,1]) for m in range(M) ]\n"
     ]
    }
   ],
   "source": [
    "time_interval = \"Month\"\n",
    "poly_division = \"SpCenterCensus10k\"\n",
    "\n",
    "for station in [\"MIRANTE\", \"BARUERI\", \"INTERLAGOS\"]:\n",
    "    ch.load_SMLayers_known_measurements(station, f\"data/geo_data/{station}_weather_{time_interval}.csv\")\n",
    "ch.load_SMLayers_measurements_points_info(\"data/geo_data/Stations_info.csv\");\n",
    "\n",
    "\n",
    "\n",
    "gdf = gpd.read_file(f\"data/shapefiles/{poly_division}.shp\")\n",
    "gdf[\"lat\"] = gdf.centroid.y\n",
    "gdf[\"lng\"] = gdf.centroid.x\n",
    "for feature in [\"temperature\", \"precipitation\"]:\n",
    "    poly_feature = ch.sparse_ts_estimation(feature, month_range[0], month_range[1], gdf, \"lat\", \"lng\")\n",
    "    poly_feature = poly_feature.T.reset_index()\n",
    "    poly_feature = poly_feature[poly_feature.Data >= month_range[0]]\n",
    "    poly_feature = poly_feature[poly_feature.Data < month_range[1]]\n",
    "    poly_feature = poly_feature.iloc[:, 1:]\n",
    "\n",
    "    ts = poly_feature.values.T\n",
    "    print(ts.shape)\n",
    "    np.save(f\"data/time_series/{feature}_{poly_division}_{time_interval}.npy\", ts)"
   ]
  },
  {
   "cell_type": "code",
   "execution_count": 8,
   "metadata": {},
   "outputs": [
    {
     "name": "stdout",
     "output_type": "stream",
     "text": [
      "(5000, 45)\n",
      "(5000, 45)\n"
     ]
    },
    {
     "name": "stderr",
     "output_type": "stream",
     "text": [
      "/tmp/ipykernel_417009/1503782552.py:11: UserWarning: Geometry is in a geographic CRS. Results from 'centroid' are likely incorrect. Use 'GeoSeries.to_crs()' to re-project geometries to a projected CRS before this operation.\n",
      "\n",
      "  gdf[\"lat\"] = gdf.centroid.y\n",
      "/tmp/ipykernel_417009/1503782552.py:12: UserWarning: Geometry is in a geographic CRS. Results from 'centroid' are likely incorrect. Use 'GeoSeries.to_crs()' to re-project geometries to a projected CRS before this operation.\n",
      "\n",
      "  gdf[\"lng\"] = gdf.centroid.x\n",
      "/home/giovani/Documents/AutoSatViewer/wavelet_code/CityHub.py:1188: FutureWarning: The `great_circle_vec` function has been renamed `great_circle`. Calling `great_circle_vec` will raise an error starting in the v2.0.0 release.\n",
      "  sigma = .5*np.mean([ ox.distance.great_circle_vec(Xm[i,0],Xm[i,1],Xm[j,0],Xm[j,1]) for i in range(M) for j in range(1+i,M)])\n",
      "/home/giovani/Documents/AutoSatViewer/wavelet_code/CityHub.py:1139: FutureWarning: The `great_circle_vec` function has been renamed `great_circle`. Calling `great_circle_vec` will raise an error starting in the v2.0.0 release.\n",
      "  D = [ ox.distance.great_circle_vec(X[:,0],X[:,1],Xm[m,0],Xm[m,1]) for m in range(M) ]\n",
      "/home/giovani/Documents/AutoSatViewer/wavelet_code/CityHub.py:1188: FutureWarning: The `great_circle_vec` function has been renamed `great_circle`. Calling `great_circle_vec` will raise an error starting in the v2.0.0 release.\n",
      "  sigma = .5*np.mean([ ox.distance.great_circle_vec(Xm[i,0],Xm[i,1],Xm[j,0],Xm[j,1]) for i in range(M) for j in range(1+i,M)])\n",
      "/home/giovani/Documents/AutoSatViewer/wavelet_code/CityHub.py:1139: FutureWarning: The `great_circle_vec` function has been renamed `great_circle`. Calling `great_circle_vec` will raise an error starting in the v2.0.0 release.\n",
      "  D = [ ox.distance.great_circle_vec(X[:,0],X[:,1],Xm[m,0],Xm[m,1]) for m in range(M) ]\n"
     ]
    }
   ],
   "source": [
    "time_interval = \"Month\"\n",
    "poly_division = \"SpCenterCensus5k\"\n",
    "\n",
    "for station in [\"MIRANTE\", \"BARUERI\", \"INTERLAGOS\"]:\n",
    "    ch.load_SMLayers_known_measurements(station, f\"data/geo_data/{station}_weather_{time_interval}.csv\")\n",
    "ch.load_SMLayers_measurements_points_info(\"data/geo_data/Stations_info.csv\");\n",
    "\n",
    "\n",
    "\n",
    "gdf = gpd.read_file(f\"data/shapefiles/{poly_division}.shp\")\n",
    "gdf[\"lat\"] = gdf.centroid.y\n",
    "gdf[\"lng\"] = gdf.centroid.x\n",
    "for feature in [\"temperature\", \"precipitation\"]:\n",
    "    poly_feature = ch.sparse_ts_estimation(feature, month_range[0], month_range[1], gdf, \"lat\", \"lng\")\n",
    "    poly_feature = poly_feature.T.reset_index()\n",
    "    poly_feature = poly_feature[poly_feature.Data >= month_range[0]]\n",
    "    poly_feature = poly_feature[poly_feature.Data < month_range[1]]\n",
    "    poly_feature = poly_feature.iloc[:, 1:]\n",
    "\n",
    "    ts = poly_feature.values.T\n",
    "    print(ts.shape)\n",
    "    np.save(f\"data/time_series/{feature}_{poly_division}_{time_interval}.npy\", ts)"
   ]
  },
  {
   "cell_type": "code",
   "execution_count": 9,
   "metadata": {},
   "outputs": [
    {
     "name": "stdout",
     "output_type": "stream",
     "text": [
      "(96, 45)\n",
      "(96, 45)\n"
     ]
    },
    {
     "name": "stderr",
     "output_type": "stream",
     "text": [
      "/tmp/ipykernel_417009/225899637.py:11: UserWarning: Geometry is in a geographic CRS. Results from 'centroid' are likely incorrect. Use 'GeoSeries.to_crs()' to re-project geometries to a projected CRS before this operation.\n",
      "\n",
      "  gdf[\"lat\"] = gdf.centroid.y\n",
      "/tmp/ipykernel_417009/225899637.py:12: UserWarning: Geometry is in a geographic CRS. Results from 'centroid' are likely incorrect. Use 'GeoSeries.to_crs()' to re-project geometries to a projected CRS before this operation.\n",
      "\n",
      "  gdf[\"lng\"] = gdf.centroid.x\n",
      "/home/giovani/Documents/AutoSatViewer/wavelet_code/CityHub.py:1188: FutureWarning: The `great_circle_vec` function has been renamed `great_circle`. Calling `great_circle_vec` will raise an error starting in the v2.0.0 release.\n",
      "  sigma = .5*np.mean([ ox.distance.great_circle_vec(Xm[i,0],Xm[i,1],Xm[j,0],Xm[j,1]) for i in range(M) for j in range(1+i,M)])\n",
      "/home/giovani/Documents/AutoSatViewer/wavelet_code/CityHub.py:1139: FutureWarning: The `great_circle_vec` function has been renamed `great_circle`. Calling `great_circle_vec` will raise an error starting in the v2.0.0 release.\n",
      "  D = [ ox.distance.great_circle_vec(X[:,0],X[:,1],Xm[m,0],Xm[m,1]) for m in range(M) ]\n",
      "/home/giovani/Documents/AutoSatViewer/wavelet_code/CityHub.py:1188: FutureWarning: The `great_circle_vec` function has been renamed `great_circle`. Calling `great_circle_vec` will raise an error starting in the v2.0.0 release.\n",
      "  sigma = .5*np.mean([ ox.distance.great_circle_vec(Xm[i,0],Xm[i,1],Xm[j,0],Xm[j,1]) for i in range(M) for j in range(1+i,M)])\n",
      "/home/giovani/Documents/AutoSatViewer/wavelet_code/CityHub.py:1139: FutureWarning: The `great_circle_vec` function has been renamed `great_circle`. Calling `great_circle_vec` will raise an error starting in the v2.0.0 release.\n",
      "  D = [ ox.distance.great_circle_vec(X[:,0],X[:,1],Xm[m,0],Xm[m,1]) for m in range(M) ]\n"
     ]
    }
   ],
   "source": [
    "time_interval = \"Month\"\n",
    "poly_division = \"SpDistricts\"\n",
    "\n",
    "for station in [\"MIRANTE\", \"BARUERI\", \"INTERLAGOS\"]:\n",
    "    ch.load_SMLayers_known_measurements(station, f\"data/geo_data/{station}_weather_{time_interval}.csv\")\n",
    "ch.load_SMLayers_measurements_points_info(\"data/geo_data/Stations_info.csv\");\n",
    "\n",
    "\n",
    "\n",
    "gdf = gpd.read_file(f\"data/shapefiles/{poly_division}.shp\")\n",
    "gdf[\"lat\"] = gdf.centroid.y\n",
    "gdf[\"lng\"] = gdf.centroid.x\n",
    "for feature in [\"temperature\", \"precipitation\"]:\n",
    "    poly_feature = ch.sparse_ts_estimation(feature, month_range[0], month_range[1], gdf, \"lat\", \"lng\")\n",
    "    poly_feature = poly_feature.T.reset_index()\n",
    "    poly_feature = poly_feature[poly_feature.Data >= month_range[0]]\n",
    "    poly_feature = poly_feature[poly_feature.Data < month_range[1]]\n",
    "    poly_feature = poly_feature.iloc[:, 1:]\n",
    "\n",
    "    ts = poly_feature.values.T\n",
    "    print(ts.shape)\n",
    "    np.save(f\"data/time_series/{feature}_{poly_division}_{time_interval}.npy\", ts)"
   ]
  },
  {
   "cell_type": "code",
   "execution_count": 10,
   "metadata": {},
   "outputs": [
    {
     "name": "stderr",
     "output_type": "stream",
     "text": [
      "/tmp/ipykernel_417009/1594469053.py:11: UserWarning: Geometry is in a geographic CRS. Results from 'centroid' are likely incorrect. Use 'GeoSeries.to_crs()' to re-project geometries to a projected CRS before this operation.\n",
      "\n",
      "  gdf[\"lat\"] = gdf.centroid.y\n",
      "/tmp/ipykernel_417009/1594469053.py:12: UserWarning: Geometry is in a geographic CRS. Results from 'centroid' are likely incorrect. Use 'GeoSeries.to_crs()' to re-project geometries to a projected CRS before this operation.\n",
      "\n",
      "  gdf[\"lng\"] = gdf.centroid.x\n",
      "/home/giovani/Documents/AutoSatViewer/wavelet_code/CityHub.py:1188: FutureWarning: The `great_circle_vec` function has been renamed `great_circle`. Calling `great_circle_vec` will raise an error starting in the v2.0.0 release.\n",
      "  sigma = .5*np.mean([ ox.distance.great_circle_vec(Xm[i,0],Xm[i,1],Xm[j,0],Xm[j,1]) for i in range(M) for j in range(1+i,M)])\n",
      "/home/giovani/Documents/AutoSatViewer/wavelet_code/CityHub.py:1139: FutureWarning: The `great_circle_vec` function has been renamed `great_circle`. Calling `great_circle_vec` will raise an error starting in the v2.0.0 release.\n",
      "  D = [ ox.distance.great_circle_vec(X[:,0],X[:,1],Xm[m,0],Xm[m,1]) for m in range(M) ]\n",
      "/home/giovani/Documents/AutoSatViewer/wavelet_code/CityHub.py:1188: FutureWarning: The `great_circle_vec` function has been renamed `great_circle`. Calling `great_circle_vec` will raise an error starting in the v2.0.0 release.\n",
      "  sigma = .5*np.mean([ ox.distance.great_circle_vec(Xm[i,0],Xm[i,1],Xm[j,0],Xm[j,1]) for i in range(M) for j in range(1+i,M)])\n",
      "/home/giovani/Documents/AutoSatViewer/wavelet_code/CityHub.py:1139: FutureWarning: The `great_circle_vec` function has been renamed `great_circle`. Calling `great_circle_vec` will raise an error starting in the v2.0.0 release.\n",
      "  D = [ ox.distance.great_circle_vec(X[:,0],X[:,1],Xm[m,0],Xm[m,1]) for m in range(M) ]\n"
     ]
    },
    {
     "name": "stdout",
     "output_type": "stream",
     "text": [
      "(10000, 275)\n",
      "(10000, 275)\n"
     ]
    }
   ],
   "source": [
    "time_interval = \"Day\"\n",
    "poly_division = \"SpCenterCensus10k\"\n",
    "\n",
    "for station in [\"MIRANTE\", \"BARUERI\", \"INTERLAGOS\"]:\n",
    "    ch.load_SMLayers_known_measurements(station, f\"data/geo_data/{station}_weather_{time_interval}.csv\")\n",
    "ch.load_SMLayers_measurements_points_info(\"data/geo_data/Stations_info.csv\");\n",
    "\n",
    "\n",
    "\n",
    "gdf = gpd.read_file(f\"data/shapefiles/{poly_division}.shp\")\n",
    "gdf[\"lat\"] = gdf.centroid.y\n",
    "gdf[\"lng\"] = gdf.centroid.x\n",
    "for feature in [\"temperature\", \"precipitation\"]:\n",
    "    poly_feature = ch.sparse_ts_estimation(feature, month_range[0], month_range[1], gdf, \"lat\", \"lng\")\n",
    "    poly_feature = poly_feature.T.reset_index()\n",
    "    poly_feature = poly_feature[poly_feature.Data >= day_range[0]]\n",
    "    poly_feature = poly_feature[poly_feature.Data < day_range[1]]\n",
    "    poly_feature = poly_feature.iloc[:, 1:]\n",
    "\n",
    "    ts = poly_feature.values.T\n",
    "    print(ts.shape)\n",
    "    np.save(f\"data/time_series/{feature}_{poly_division}_{time_interval}.npy\", ts)"
   ]
  },
  {
   "cell_type": "code",
   "execution_count": 11,
   "metadata": {},
   "outputs": [
    {
     "name": "stdout",
     "output_type": "stream",
     "text": [
      "(5000, 275)\n",
      "(5000, 275)\n"
     ]
    },
    {
     "name": "stderr",
     "output_type": "stream",
     "text": [
      "/tmp/ipykernel_417009/3810769302.py:11: UserWarning: Geometry is in a geographic CRS. Results from 'centroid' are likely incorrect. Use 'GeoSeries.to_crs()' to re-project geometries to a projected CRS before this operation.\n",
      "\n",
      "  gdf[\"lat\"] = gdf.centroid.y\n",
      "/tmp/ipykernel_417009/3810769302.py:12: UserWarning: Geometry is in a geographic CRS. Results from 'centroid' are likely incorrect. Use 'GeoSeries.to_crs()' to re-project geometries to a projected CRS before this operation.\n",
      "\n",
      "  gdf[\"lng\"] = gdf.centroid.x\n",
      "/home/giovani/Documents/AutoSatViewer/wavelet_code/CityHub.py:1188: FutureWarning: The `great_circle_vec` function has been renamed `great_circle`. Calling `great_circle_vec` will raise an error starting in the v2.0.0 release.\n",
      "  sigma = .5*np.mean([ ox.distance.great_circle_vec(Xm[i,0],Xm[i,1],Xm[j,0],Xm[j,1]) for i in range(M) for j in range(1+i,M)])\n",
      "/home/giovani/Documents/AutoSatViewer/wavelet_code/CityHub.py:1139: FutureWarning: The `great_circle_vec` function has been renamed `great_circle`. Calling `great_circle_vec` will raise an error starting in the v2.0.0 release.\n",
      "  D = [ ox.distance.great_circle_vec(X[:,0],X[:,1],Xm[m,0],Xm[m,1]) for m in range(M) ]\n",
      "/home/giovani/Documents/AutoSatViewer/wavelet_code/CityHub.py:1188: FutureWarning: The `great_circle_vec` function has been renamed `great_circle`. Calling `great_circle_vec` will raise an error starting in the v2.0.0 release.\n",
      "  sigma = .5*np.mean([ ox.distance.great_circle_vec(Xm[i,0],Xm[i,1],Xm[j,0],Xm[j,1]) for i in range(M) for j in range(1+i,M)])\n",
      "/home/giovani/Documents/AutoSatViewer/wavelet_code/CityHub.py:1139: FutureWarning: The `great_circle_vec` function has been renamed `great_circle`. Calling `great_circle_vec` will raise an error starting in the v2.0.0 release.\n",
      "  D = [ ox.distance.great_circle_vec(X[:,0],X[:,1],Xm[m,0],Xm[m,1]) for m in range(M) ]\n"
     ]
    }
   ],
   "source": [
    "time_interval = \"Day\"\n",
    "poly_division = \"SpCenterCensus5k\"\n",
    "\n",
    "for station in [\"MIRANTE\", \"BARUERI\", \"INTERLAGOS\"]:\n",
    "    ch.load_SMLayers_known_measurements(station, f\"data/geo_data/{station}_weather_{time_interval}.csv\")\n",
    "ch.load_SMLayers_measurements_points_info(\"data/geo_data/Stations_info.csv\");\n",
    "\n",
    "\n",
    "\n",
    "gdf = gpd.read_file(f\"data/shapefiles/{poly_division}.shp\")\n",
    "gdf[\"lat\"] = gdf.centroid.y\n",
    "gdf[\"lng\"] = gdf.centroid.x\n",
    "for feature in [\"temperature\", \"precipitation\"]:\n",
    "    poly_feature = ch.sparse_ts_estimation(feature, month_range[0], month_range[1], gdf, \"lat\", \"lng\")\n",
    "    poly_feature = poly_feature.T.reset_index()\n",
    "    poly_feature = poly_feature[poly_feature.Data >= day_range[0]]\n",
    "    poly_feature = poly_feature[poly_feature.Data < day_range[1]]\n",
    "    poly_feature = poly_feature.iloc[:, 1:]\n",
    "\n",
    "    ts = poly_feature.values.T\n",
    "    print(ts.shape)\n",
    "    np.save(f\"data/time_series/{feature}_{poly_division}_{time_interval}.npy\", ts)"
   ]
  },
  {
   "cell_type": "code",
   "execution_count": 12,
   "metadata": {},
   "outputs": [
    {
     "name": "stdout",
     "output_type": "stream",
     "text": [
      "(96, 275)\n",
      "(96, 275)\n"
     ]
    },
    {
     "name": "stderr",
     "output_type": "stream",
     "text": [
      "/tmp/ipykernel_417009/794070639.py:11: UserWarning: Geometry is in a geographic CRS. Results from 'centroid' are likely incorrect. Use 'GeoSeries.to_crs()' to re-project geometries to a projected CRS before this operation.\n",
      "\n",
      "  gdf[\"lat\"] = gdf.centroid.y\n",
      "/tmp/ipykernel_417009/794070639.py:12: UserWarning: Geometry is in a geographic CRS. Results from 'centroid' are likely incorrect. Use 'GeoSeries.to_crs()' to re-project geometries to a projected CRS before this operation.\n",
      "\n",
      "  gdf[\"lng\"] = gdf.centroid.x\n",
      "/home/giovani/Documents/AutoSatViewer/wavelet_code/CityHub.py:1188: FutureWarning: The `great_circle_vec` function has been renamed `great_circle`. Calling `great_circle_vec` will raise an error starting in the v2.0.0 release.\n",
      "  sigma = .5*np.mean([ ox.distance.great_circle_vec(Xm[i,0],Xm[i,1],Xm[j,0],Xm[j,1]) for i in range(M) for j in range(1+i,M)])\n",
      "/home/giovani/Documents/AutoSatViewer/wavelet_code/CityHub.py:1139: FutureWarning: The `great_circle_vec` function has been renamed `great_circle`. Calling `great_circle_vec` will raise an error starting in the v2.0.0 release.\n",
      "  D = [ ox.distance.great_circle_vec(X[:,0],X[:,1],Xm[m,0],Xm[m,1]) for m in range(M) ]\n",
      "/home/giovani/Documents/AutoSatViewer/wavelet_code/CityHub.py:1188: FutureWarning: The `great_circle_vec` function has been renamed `great_circle`. Calling `great_circle_vec` will raise an error starting in the v2.0.0 release.\n",
      "  sigma = .5*np.mean([ ox.distance.great_circle_vec(Xm[i,0],Xm[i,1],Xm[j,0],Xm[j,1]) for i in range(M) for j in range(1+i,M)])\n",
      "/home/giovani/Documents/AutoSatViewer/wavelet_code/CityHub.py:1139: FutureWarning: The `great_circle_vec` function has been renamed `great_circle`. Calling `great_circle_vec` will raise an error starting in the v2.0.0 release.\n",
      "  D = [ ox.distance.great_circle_vec(X[:,0],X[:,1],Xm[m,0],Xm[m,1]) for m in range(M) ]\n"
     ]
    }
   ],
   "source": [
    "time_interval = \"Day\"\n",
    "poly_division = \"SpDistricts\"\n",
    "\n",
    "for station in [\"MIRANTE\", \"BARUERI\", \"INTERLAGOS\"]:\n",
    "    ch.load_SMLayers_known_measurements(station, f\"data/geo_data/{station}_weather_{time_interval}.csv\")\n",
    "ch.load_SMLayers_measurements_points_info(\"data/geo_data/Stations_info.csv\");\n",
    "\n",
    "\n",
    "\n",
    "gdf = gpd.read_file(f\"data/shapefiles/{poly_division}.shp\")\n",
    "gdf[\"lat\"] = gdf.centroid.y\n",
    "gdf[\"lng\"] = gdf.centroid.x\n",
    "for feature in [\"temperature\", \"precipitation\"]:\n",
    "    poly_feature = ch.sparse_ts_estimation(feature, month_range[0], month_range[1], gdf, \"lat\", \"lng\")\n",
    "    poly_feature = poly_feature.T.reset_index()\n",
    "    poly_feature = poly_feature[poly_feature.Data >= day_range[0]]\n",
    "    poly_feature = poly_feature[poly_feature.Data < day_range[1]]\n",
    "    poly_feature = poly_feature.iloc[:, 1:]\n",
    "\n",
    "    ts = poly_feature.values.T\n",
    "    print(ts.shape)\n",
    "    np.save(f\"data/time_series/{feature}_{poly_division}_{time_interval}.npy\", ts)"
   ]
  },
  {
   "cell_type": "markdown",
   "metadata": {},
   "source": [
    "## Waze"
   ]
  },
  {
   "cell_type": "code",
   "execution_count": 13,
   "metadata": {},
   "outputs": [
    {
     "name": "stdout",
     "output_type": "stream",
     "text": [
      "(1000000, 6)\n"
     ]
    },
    {
     "data": {
      "text/plain": [
       "Index(['geo', 'ts', ' type', ' subtype', ' reliability', ' confidence'], dtype='object')"
      ]
     },
     "execution_count": 13,
     "metadata": {},
     "output_type": "execute_result"
    }
   ],
   "source": [
    "N = 1000000\n",
    "df = pd.read_csv(\"data/time_series/waze-alerts.csv\")\n",
    "df = df.sample(N, random_state = 0)\n",
    "print(df.shape)\n",
    "df.columns"
   ]
  },
  {
   "cell_type": "code",
   "execution_count": 14,
   "metadata": {},
   "outputs": [],
   "source": [
    "df[\"date\"] = pd.to_datetime(df[\"ts\"])\n",
    "df[\"LONGITUDE\"] = df[\"geo\"].apply(lambda x : x.split(\"(\")[1].split(\" \")[0])\n",
    "df[\"LATITUDE\"] = df[\"geo\"].apply(lambda x : x.split(\" \")[1].split(\")\")[0])\n",
    "df.LONGITUDE = df.LONGITUDE.astype(float)\n",
    "df.LATITUDE = df.LATITUDE.astype(float)"
   ]
  },
  {
   "cell_type": "code",
   "execution_count": 15,
   "metadata": {},
   "outputs": [
    {
     "data": {
      "text/plain": [
       " type\n",
       "JAM              714622\n",
       "WEATHERHAZARD    224556\n",
       "ACCIDENT          30251\n",
       "HAZARD            21986\n",
       "ROAD_CLOSED        8585\n",
       "Name: count, dtype: int64"
      ]
     },
     "execution_count": 15,
     "metadata": {},
     "output_type": "execute_result"
    }
   ],
   "source": [
    "df[\" type\"].value_counts()"
   ]
  },
  {
   "cell_type": "code",
   "execution_count": 16,
   "metadata": {},
   "outputs": [],
   "source": [
    "# change ROAD_CLOSED to ROADCLOSED\n",
    "df[\" type\"] = df[\" type\"].apply(lambda x : \"ROADCLOSED\" if x == \"ROAD_CLOSED\" else x)"
   ]
  },
  {
   "cell_type": "code",
   "execution_count": 17,
   "metadata": {},
   "outputs": [
    {
     "data": {
      "image/png": "[encoded data removed]",
      "text/plain": [
       "<Figure size 640x480 with 1 Axes>"
      ]
     },
     "metadata": {},
     "output_type": "display_data"
    }
   ],
   "source": [
    "countour = gpd.read_file(\"data/countour.geojson\")\n",
    "plt.plot(countour.geometry[0].exterior.xy[0], countour.geometry[0].exterior.xy[1])\n",
    "for ty in df[\" type\"].unique():\n",
    "    df_filter = df[df[\" type\"] == ty]\n",
    "    plt.scatter(df_filter['LONGITUDE'], df_filter['LATITUDE'], alpha = 0.01, label = ty)\n",
    "plt.legend()\n",
    "plt.show()"
   ]
  },
  {
   "cell_type": "code",
   "execution_count": 18,
   "metadata": {},
   "outputs": [
    {
     "name": "stderr",
     "output_type": "stream",
     "text": [
      "/home/giovani/anaconda3/envs/wavelet_code/lib/python3.10/site-packages/sklearn/base.py:486: UserWarning: X has feature names, but NearestNeighbors was fitted without feature names\n",
      "  warnings.warn(\n",
      "  0%|          | 0/224556 [00:00<?, ?it/s]"
     ]
    },
    {
     "name": "stderr",
     "output_type": "stream",
     "text": [
      "100%|██████████| 224556/224556 [00:39<00:00, 5681.83it/s]\n"
     ]
    },
    {
     "name": "stdout",
     "output_type": "stream",
     "text": [
      "Number of points: 224556\n",
      "Number of points without polygon: 3.21%\n"
     ]
    },
    {
     "name": "stderr",
     "output_type": "stream",
     "text": [
      "/tmp/ipykernel_417009/198360517.py:46: UserWarning: Geometry is in a geographic CRS. Results from 'area' are likely incorrect. Use 'GeoSeries.to_crs()' to re-project geometries to a projected CRS before this operation.\n",
      "\n",
      "  area = gdf.area.values\n",
      "/tmp/ipykernel_417009/198360517.py:82: UserWarning: Geometry is in a geographic CRS. Results from 'area' are likely incorrect. Use 'GeoSeries.to_crs()' to re-project geometries to a projected CRS before this operation.\n",
      "\n",
      "  area = gdf.area.values\n"
     ]
    },
    {
     "name": "stdout",
     "output_type": "stream",
     "text": [
      "Number of months: 45\n",
      "Number of days: 275\n"
     ]
    },
    {
     "name": "stderr",
     "output_type": "stream",
     "text": [
      "/home/giovani/anaconda3/envs/wavelet_code/lib/python3.10/site-packages/sklearn/base.py:486: UserWarning: X has feature names, but NearestNeighbors was fitted without feature names\n",
      "  warnings.warn(\n",
      "100%|██████████| 714622/714622 [01:58<00:00, 6045.16it/s]\n"
     ]
    },
    {
     "name": "stdout",
     "output_type": "stream",
     "text": [
      "Number of points: 714622\n",
      "Number of points without polygon: 2.78%\n"
     ]
    },
    {
     "name": "stderr",
     "output_type": "stream",
     "text": [
      "/tmp/ipykernel_417009/198360517.py:46: UserWarning: Geometry is in a geographic CRS. Results from 'area' are likely incorrect. Use 'GeoSeries.to_crs()' to re-project geometries to a projected CRS before this operation.\n",
      "\n",
      "  area = gdf.area.values\n",
      "/tmp/ipykernel_417009/198360517.py:82: UserWarning: Geometry is in a geographic CRS. Results from 'area' are likely incorrect. Use 'GeoSeries.to_crs()' to re-project geometries to a projected CRS before this operation.\n",
      "\n",
      "  area = gdf.area.values\n"
     ]
    },
    {
     "name": "stdout",
     "output_type": "stream",
     "text": [
      "Number of months: 45\n",
      "Number of days: 275\n"
     ]
    },
    {
     "name": "stderr",
     "output_type": "stream",
     "text": [
      "/home/giovani/anaconda3/envs/wavelet_code/lib/python3.10/site-packages/sklearn/base.py:486: UserWarning: X has feature names, but NearestNeighbors was fitted without feature names\n",
      "  warnings.warn(\n",
      "100%|██████████| 21986/21986 [00:03<00:00, 5862.43it/s]\n"
     ]
    },
    {
     "name": "stdout",
     "output_type": "stream",
     "text": [
      "Number of points: 21986\n",
      "Number of points without polygon: 3.09%\n"
     ]
    },
    {
     "name": "stderr",
     "output_type": "stream",
     "text": [
      "/tmp/ipykernel_417009/198360517.py:46: UserWarning: Geometry is in a geographic CRS. Results from 'area' are likely incorrect. Use 'GeoSeries.to_crs()' to re-project geometries to a projected CRS before this operation.\n",
      "\n",
      "  area = gdf.area.values\n",
      "/tmp/ipykernel_417009/198360517.py:82: UserWarning: Geometry is in a geographic CRS. Results from 'area' are likely incorrect. Use 'GeoSeries.to_crs()' to re-project geometries to a projected CRS before this operation.\n",
      "\n",
      "  area = gdf.area.values\n"
     ]
    },
    {
     "name": "stdout",
     "output_type": "stream",
     "text": [
      "Number of months: 45\n",
      "Number of days: 275\n"
     ]
    },
    {
     "name": "stderr",
     "output_type": "stream",
     "text": [
      "/home/giovani/anaconda3/envs/wavelet_code/lib/python3.10/site-packages/sklearn/base.py:486: UserWarning: X has feature names, but NearestNeighbors was fitted without feature names\n",
      "  warnings.warn(\n",
      "100%|██████████| 30251/30251 [00:05<00:00, 5825.25it/s]\n"
     ]
    },
    {
     "name": "stdout",
     "output_type": "stream",
     "text": [
      "Number of points: 30251\n",
      "Number of points without polygon: 3.58%\n"
     ]
    },
    {
     "name": "stderr",
     "output_type": "stream",
     "text": [
      "/tmp/ipykernel_417009/198360517.py:46: UserWarning: Geometry is in a geographic CRS. Results from 'area' are likely incorrect. Use 'GeoSeries.to_crs()' to re-project geometries to a projected CRS before this operation.\n",
      "\n",
      "  area = gdf.area.values\n",
      "/tmp/ipykernel_417009/198360517.py:82: UserWarning: Geometry is in a geographic CRS. Results from 'area' are likely incorrect. Use 'GeoSeries.to_crs()' to re-project geometries to a projected CRS before this operation.\n",
      "\n",
      "  area = gdf.area.values\n"
     ]
    },
    {
     "name": "stdout",
     "output_type": "stream",
     "text": [
      "Number of months: 45\n",
      "Number of days: 275\n"
     ]
    },
    {
     "name": "stderr",
     "output_type": "stream",
     "text": [
      "/home/giovani/anaconda3/envs/wavelet_code/lib/python3.10/site-packages/sklearn/base.py:486: UserWarning: X has feature names, but NearestNeighbors was fitted without feature names\n",
      "  warnings.warn(\n",
      "100%|██████████| 8585/8585 [00:01<00:00, 6492.65it/s]\n"
     ]
    },
    {
     "name": "stdout",
     "output_type": "stream",
     "text": [
      "Number of points: 8585\n",
      "Number of points without polygon: 2.31%\n",
      "Number of months: 45\n",
      "Number of days: 275\n"
     ]
    },
    {
     "name": "stderr",
     "output_type": "stream",
     "text": [
      "/tmp/ipykernel_417009/198360517.py:46: UserWarning: Geometry is in a geographic CRS. Results from 'area' are likely incorrect. Use 'GeoSeries.to_crs()' to re-project geometries to a projected CRS before this operation.\n",
      "\n",
      "  area = gdf.area.values\n",
      "/tmp/ipykernel_417009/198360517.py:82: UserWarning: Geometry is in a geographic CRS. Results from 'area' are likely incorrect. Use 'GeoSeries.to_crs()' to re-project geometries to a projected CRS before this operation.\n",
      "\n",
      "  area = gdf.area.values\n"
     ]
    }
   ],
   "source": [
    "alerts_types = df[\" type\"].unique()\n",
    "\n",
    "for ty in alerts_types:\n",
    "    df_filter = df[df[\" type\"] == ty].copy()\n",
    "    gdf = gpd.read_file(\"data/shapefiles/SpDistricts.shp\")\n",
    "    create_sp_timeseries(df_filter, gdf, f\"Waze{ty}\", \"SpDistricts\")"
   ]
  },
  {
   "cell_type": "code",
   "execution_count": 19,
   "metadata": {},
   "outputs": [
    {
     "name": "stderr",
     "output_type": "stream",
     "text": [
      "/home/giovani/anaconda3/envs/wavelet_code/lib/python3.10/site-packages/sklearn/base.py:486: UserWarning: X has feature names, but NearestNeighbors was fitted without feature names\n",
      "  warnings.warn(\n",
      "100%|██████████| 224556/224556 [00:23<00:00, 9379.35it/s]\n"
     ]
    },
    {
     "name": "stdout",
     "output_type": "stream",
     "text": [
      "Number of points: 224556\n",
      "Number of points without polygon: 54.69%\n"
     ]
    },
    {
     "name": "stderr",
     "output_type": "stream",
     "text": [
      "/tmp/ipykernel_417009/198360517.py:46: UserWarning: Geometry is in a geographic CRS. Results from 'area' are likely incorrect. Use 'GeoSeries.to_crs()' to re-project geometries to a projected CRS before this operation.\n",
      "\n",
      "  area = gdf.area.values\n",
      "/tmp/ipykernel_417009/198360517.py:82: UserWarning: Geometry is in a geographic CRS. Results from 'area' are likely incorrect. Use 'GeoSeries.to_crs()' to re-project geometries to a projected CRS before this operation.\n",
      "\n",
      "  area = gdf.area.values\n"
     ]
    },
    {
     "name": "stdout",
     "output_type": "stream",
     "text": [
      "Number of months: 45\n",
      "Number of days: 275\n"
     ]
    },
    {
     "name": "stderr",
     "output_type": "stream",
     "text": [
      "/home/giovani/anaconda3/envs/wavelet_code/lib/python3.10/site-packages/sklearn/base.py:486: UserWarning: X has feature names, but NearestNeighbors was fitted without feature names\n",
      "  warnings.warn(\n",
      "100%|██████████| 714622/714622 [01:17<00:00, 9224.53it/s]\n"
     ]
    },
    {
     "name": "stdout",
     "output_type": "stream",
     "text": [
      "Number of points: 714622\n",
      "Number of points without polygon: 45.40%\n"
     ]
    },
    {
     "name": "stderr",
     "output_type": "stream",
     "text": [
      "/tmp/ipykernel_417009/198360517.py:46: UserWarning: Geometry is in a geographic CRS. Results from 'area' are likely incorrect. Use 'GeoSeries.to_crs()' to re-project geometries to a projected CRS before this operation.\n",
      "\n",
      "  area = gdf.area.values\n",
      "/tmp/ipykernel_417009/198360517.py:82: UserWarning: Geometry is in a geographic CRS. Results from 'area' are likely incorrect. Use 'GeoSeries.to_crs()' to re-project geometries to a projected CRS before this operation.\n",
      "\n",
      "  area = gdf.area.values\n"
     ]
    },
    {
     "name": "stdout",
     "output_type": "stream",
     "text": [
      "Number of months: 45\n",
      "Number of days: 275\n"
     ]
    },
    {
     "name": "stderr",
     "output_type": "stream",
     "text": [
      "/home/giovani/anaconda3/envs/wavelet_code/lib/python3.10/site-packages/sklearn/base.py:486: UserWarning: X has feature names, but NearestNeighbors was fitted without feature names\n",
      "  warnings.warn(\n",
      "100%|██████████| 21986/21986 [00:02<00:00, 9380.60it/s]\n",
      "/tmp/ipykernel_417009/198360517.py:46: UserWarning: Geometry is in a geographic CRS. Results from 'area' are likely incorrect. Use 'GeoSeries.to_crs()' to re-project geometries to a projected CRS before this operation.\n",
      "\n",
      "  area = gdf.area.values\n"
     ]
    },
    {
     "name": "stdout",
     "output_type": "stream",
     "text": [
      "Number of points: 21986\n",
      "Number of points without polygon: 52.70%\n",
      "Number of months: 45\n"
     ]
    },
    {
     "name": "stderr",
     "output_type": "stream",
     "text": [
      "/tmp/ipykernel_417009/198360517.py:82: UserWarning: Geometry is in a geographic CRS. Results from 'area' are likely incorrect. Use 'GeoSeries.to_crs()' to re-project geometries to a projected CRS before this operation.\n",
      "\n",
      "  area = gdf.area.values\n"
     ]
    },
    {
     "name": "stdout",
     "output_type": "stream",
     "text": [
      "Number of days: 275\n"
     ]
    },
    {
     "name": "stderr",
     "output_type": "stream",
     "text": [
      "/home/giovani/anaconda3/envs/wavelet_code/lib/python3.10/site-packages/sklearn/base.py:486: UserWarning: X has feature names, but NearestNeighbors was fitted without feature names\n",
      "  warnings.warn(\n",
      "100%|██████████| 30251/30251 [00:03<00:00, 9377.82it/s]\n",
      "/tmp/ipykernel_417009/198360517.py:46: UserWarning: Geometry is in a geographic CRS. Results from 'area' are likely incorrect. Use 'GeoSeries.to_crs()' to re-project geometries to a projected CRS before this operation.\n",
      "\n",
      "  area = gdf.area.values\n"
     ]
    },
    {
     "name": "stdout",
     "output_type": "stream",
     "text": [
      "Number of points: 30251\n",
      "Number of points without polygon: 55.60%\n",
      "Number of months: 45\n"
     ]
    },
    {
     "name": "stderr",
     "output_type": "stream",
     "text": [
      "/tmp/ipykernel_417009/198360517.py:82: UserWarning: Geometry is in a geographic CRS. Results from 'area' are likely incorrect. Use 'GeoSeries.to_crs()' to re-project geometries to a projected CRS before this operation.\n",
      "\n",
      "  area = gdf.area.values\n"
     ]
    },
    {
     "name": "stdout",
     "output_type": "stream",
     "text": [
      "Number of days: 275\n"
     ]
    },
    {
     "name": "stderr",
     "output_type": "stream",
     "text": [
      "/home/giovani/anaconda3/envs/wavelet_code/lib/python3.10/site-packages/sklearn/base.py:486: UserWarning: X has feature names, but NearestNeighbors was fitted without feature names\n",
      "  warnings.warn(\n",
      "100%|██████████| 8585/8585 [00:00<00:00, 9247.09it/s]\n",
      "/tmp/ipykernel_417009/198360517.py:46: UserWarning: Geometry is in a geographic CRS. Results from 'area' are likely incorrect. Use 'GeoSeries.to_crs()' to re-project geometries to a projected CRS before this operation.\n",
      "\n",
      "  area = gdf.area.values\n",
      "/tmp/ipykernel_417009/198360517.py:82: UserWarning: Geometry is in a geographic CRS. Results from 'area' are likely incorrect. Use 'GeoSeries.to_crs()' to re-project geometries to a projected CRS before this operation.\n",
      "\n",
      "  area = gdf.area.values\n"
     ]
    },
    {
     "name": "stdout",
     "output_type": "stream",
     "text": [
      "Number of points: 8585\n",
      "Number of points without polygon: 46.38%\n",
      "Number of months: 45\n",
      "Number of days: 275\n"
     ]
    }
   ],
   "source": [
    "alerts_types = df[\" type\"].unique()\n",
    "\n",
    "for ty in alerts_types:\n",
    "    df_filter = df[df[\" type\"] == ty].copy()\n",
    "    gdf = gpd.read_file(\"data/shapefiles/SpCenterCensus10k.shp\")\n",
    "    create_sp_timeseries(df_filter, gdf, f\"Waze{ty}\", \"SpCenterCensus10k\")"
   ]
  },
  {
   "cell_type": "code",
   "execution_count": 20,
   "metadata": {},
   "outputs": [
    {
     "name": "stderr",
     "output_type": "stream",
     "text": [
      "/home/giovani/anaconda3/envs/wavelet_code/lib/python3.10/site-packages/sklearn/base.py:486: UserWarning: X has feature names, but NearestNeighbors was fitted without feature names\n",
      "  warnings.warn(\n",
      "100%|██████████| 224556/224556 [00:23<00:00, 9387.57it/s]\n"
     ]
    },
    {
     "name": "stdout",
     "output_type": "stream",
     "text": [
      "Number of points: 224556\n",
      "Number of points without polygon: 74.08%\n"
     ]
    },
    {
     "name": "stderr",
     "output_type": "stream",
     "text": [
      "/tmp/ipykernel_417009/198360517.py:46: UserWarning: Geometry is in a geographic CRS. Results from 'area' are likely incorrect. Use 'GeoSeries.to_crs()' to re-project geometries to a projected CRS before this operation.\n",
      "\n",
      "  area = gdf.area.values\n",
      "/tmp/ipykernel_417009/198360517.py:82: UserWarning: Geometry is in a geographic CRS. Results from 'area' are likely incorrect. Use 'GeoSeries.to_crs()' to re-project geometries to a projected CRS before this operation.\n",
      "\n",
      "  area = gdf.area.values\n"
     ]
    },
    {
     "name": "stdout",
     "output_type": "stream",
     "text": [
      "Number of months: 45\n",
      "Number of days: 275\n"
     ]
    },
    {
     "name": "stderr",
     "output_type": "stream",
     "text": [
      "/home/giovani/anaconda3/envs/wavelet_code/lib/python3.10/site-packages/sklearn/base.py:486: UserWarning: X has feature names, but NearestNeighbors was fitted without feature names\n",
      "  warnings.warn(\n",
      "100%|██████████| 714622/714622 [01:15<00:00, 9403.58it/s]\n"
     ]
    },
    {
     "name": "stdout",
     "output_type": "stream",
     "text": [
      "Number of points: 714622\n",
      "Number of points without polygon: 66.67%\n"
     ]
    },
    {
     "name": "stderr",
     "output_type": "stream",
     "text": [
      "/tmp/ipykernel_417009/198360517.py:46: UserWarning: Geometry is in a geographic CRS. Results from 'area' are likely incorrect. Use 'GeoSeries.to_crs()' to re-project geometries to a projected CRS before this operation.\n",
      "\n",
      "  area = gdf.area.values\n",
      "/tmp/ipykernel_417009/198360517.py:82: UserWarning: Geometry is in a geographic CRS. Results from 'area' are likely incorrect. Use 'GeoSeries.to_crs()' to re-project geometries to a projected CRS before this operation.\n",
      "\n",
      "  area = gdf.area.values\n"
     ]
    },
    {
     "name": "stdout",
     "output_type": "stream",
     "text": [
      "Number of months: 45\n",
      "Number of days: 275\n"
     ]
    },
    {
     "name": "stderr",
     "output_type": "stream",
     "text": [
      "/home/giovani/anaconda3/envs/wavelet_code/lib/python3.10/site-packages/sklearn/base.py:486: UserWarning: X has feature names, but NearestNeighbors was fitted without feature names\n",
      "  warnings.warn(\n",
      "100%|██████████| 21986/21986 [00:02<00:00, 9540.48it/s]\n",
      "/tmp/ipykernel_417009/198360517.py:46: UserWarning: Geometry is in a geographic CRS. Results from 'area' are likely incorrect. Use 'GeoSeries.to_crs()' to re-project geometries to a projected CRS before this operation.\n",
      "\n",
      "  area = gdf.area.values\n",
      "/tmp/ipykernel_417009/198360517.py:82: UserWarning: Geometry is in a geographic CRS. Results from 'area' are likely incorrect. Use 'GeoSeries.to_crs()' to re-project geometries to a projected CRS before this operation.\n",
      "\n",
      "  area = gdf.area.values\n"
     ]
    },
    {
     "name": "stdout",
     "output_type": "stream",
     "text": [
      "Number of points: 21986\n",
      "Number of points without polygon: 72.12%\n",
      "Number of months: 45\n",
      "Number of days: 275\n"
     ]
    },
    {
     "name": "stderr",
     "output_type": "stream",
     "text": [
      "/home/giovani/anaconda3/envs/wavelet_code/lib/python3.10/site-packages/sklearn/base.py:486: UserWarning: X has feature names, but NearestNeighbors was fitted without feature names\n",
      "  warnings.warn(\n",
      "100%|██████████| 30251/30251 [00:03<00:00, 9585.40it/s]\n",
      "/tmp/ipykernel_417009/198360517.py:46: UserWarning: Geometry is in a geographic CRS. Results from 'area' are likely incorrect. Use 'GeoSeries.to_crs()' to re-project geometries to a projected CRS before this operation.\n",
      "\n",
      "  area = gdf.area.values\n",
      "/tmp/ipykernel_417009/198360517.py:82: UserWarning: Geometry is in a geographic CRS. Results from 'area' are likely incorrect. Use 'GeoSeries.to_crs()' to re-project geometries to a projected CRS before this operation.\n",
      "\n",
      "  area = gdf.area.values\n"
     ]
    },
    {
     "name": "stdout",
     "output_type": "stream",
     "text": [
      "Number of points: 30251\n",
      "Number of points without polygon: 75.10%\n",
      "Number of months: 45\n",
      "Number of days: 275\n"
     ]
    },
    {
     "name": "stderr",
     "output_type": "stream",
     "text": [
      "/home/giovani/anaconda3/envs/wavelet_code/lib/python3.10/site-packages/sklearn/base.py:486: UserWarning: X has feature names, but NearestNeighbors was fitted without feature names\n",
      "  warnings.warn(\n",
      "100%|██████████| 8585/8585 [00:00<00:00, 9536.13it/s]\n",
      "/tmp/ipykernel_417009/198360517.py:46: UserWarning: Geometry is in a geographic CRS. Results from 'area' are likely incorrect. Use 'GeoSeries.to_crs()' to re-project geometries to a projected CRS before this operation.\n",
      "\n",
      "  area = gdf.area.values\n"
     ]
    },
    {
     "name": "stdout",
     "output_type": "stream",
     "text": [
      "Number of points: 8585\n",
      "Number of points without polygon: 60.96%\n",
      "Number of months: 45\n",
      "Number of days: 275\n"
     ]
    },
    {
     "name": "stderr",
     "output_type": "stream",
     "text": [
      "/tmp/ipykernel_417009/198360517.py:82: UserWarning: Geometry is in a geographic CRS. Results from 'area' are likely incorrect. Use 'GeoSeries.to_crs()' to re-project geometries to a projected CRS before this operation.\n",
      "\n",
      "  area = gdf.area.values\n"
     ]
    }
   ],
   "source": [
    "alerts_types = df[\" type\"].unique()\n",
    "\n",
    "for ty in alerts_types:\n",
    "    df_filter = df[df[\" type\"] == ty].copy()\n",
    "    gdf = gpd.read_file(\"data/shapefiles/SpCenterCensus5k.shp\")\n",
    "    create_sp_timeseries(df_filter, gdf, f\"Waze{ty}\", \"SpCenterCensus5k\")"
   ]
  },
  {
   "cell_type": "markdown",
   "metadata": {},
   "source": [
    "## Crime theft"
   ]
  },
  {
   "cell_type": "code",
   "execution_count": 21,
   "metadata": {},
   "outputs": [
    {
     "name": "stderr",
     "output_type": "stream",
     "text": [
      "/tmp/ipykernel_417009/2216112243.py:1: DtypeWarning: Columns (17) have mixed types. Specify dtype option on import or set low_memory=False.\n",
      "  df = pd.read_csv(\"data/time_series/furto_celular_2018_2022.csv\", sep = \";\")\n"
     ]
    },
    {
     "data": {
      "text/plain": [
       "(389397, 13)"
      ]
     },
     "execution_count": 21,
     "metadata": {},
     "output_type": "execute_result"
    }
   ],
   "source": [
    "df = pd.read_csv(\"data/time_series/furto_celular_2018_2022.csv\", sep = \";\")\n",
    "# drop columns with more than 0.1 of missing values\n",
    "df[\"date\"] = pd.to_datetime(df.DATAOCORRENCIA, format='%d/%m/%Y', errors='coerce')\n",
    "df = df.dropna(thresh=0.9*len(df), axis=1)\n",
    "df = df.dropna()\n",
    "df = df.drop(columns = [\"ANO_BO\", \"DATAOCORRENCIA\"], axis = 1)\n",
    "df = df[df.date > \"2018-01-01\"]\n",
    "df = df.reset_index(drop=True)\n",
    "df.shape"
   ]
  },
  {
   "cell_type": "code",
   "execution_count": 22,
   "metadata": {},
   "outputs": [
    {
     "data": {
      "image/png": "[encoded data removed]",
      "text/plain": [
       "<Figure size 640x480 with 1 Axes>"
      ]
     },
     "metadata": {},
     "output_type": "display_data"
    }
   ],
   "source": [
    "countour = gpd.read_file(\"data/countour.geojson\")\n",
    "plt.plot(countour.geometry[0].exterior.xy[0], countour.geometry[0].exterior.xy[1])\n",
    "plt.scatter(df['LONGITUDE'], df['LATITUDE'], alpha = 0.01)\n",
    "plt.show()"
   ]
  },
  {
   "cell_type": "code",
   "execution_count": 23,
   "metadata": {},
   "outputs": [
    {
     "name": "stderr",
     "output_type": "stream",
     "text": [
      "/home/giovani/anaconda3/envs/wavelet_code/lib/python3.10/site-packages/sklearn/base.py:486: UserWarning: X has feature names, but NearestNeighbors was fitted without feature names\n",
      "  warnings.warn(\n",
      "100%|██████████| 389397/389397 [01:04<00:00, 6072.28it/s]\n"
     ]
    },
    {
     "name": "stdout",
     "output_type": "stream",
     "text": [
      "Number of points: 389397\n",
      "Number of points without polygon: 4.55%\n",
      "Number of months: 45\n",
      "Number of days: 275\n"
     ]
    },
    {
     "name": "stderr",
     "output_type": "stream",
     "text": [
      "/tmp/ipykernel_417009/198360517.py:46: UserWarning: Geometry is in a geographic CRS. Results from 'area' are likely incorrect. Use 'GeoSeries.to_crs()' to re-project geometries to a projected CRS before this operation.\n",
      "\n",
      "  area = gdf.area.values\n",
      "/tmp/ipykernel_417009/198360517.py:82: UserWarning: Geometry is in a geographic CRS. Results from 'area' are likely incorrect. Use 'GeoSeries.to_crs()' to re-project geometries to a projected CRS before this operation.\n",
      "\n",
      "  area = gdf.area.values\n"
     ]
    }
   ],
   "source": [
    "gdf = gpd.read_file(\"data/shapefiles/SpDistricts.shp\")\n",
    "create_sp_timeseries(df, gdf, \"FurtoCelular\", \"SpDistricts\")"
   ]
  },
  {
   "cell_type": "code",
   "execution_count": 24,
   "metadata": {},
   "outputs": [
    {
     "name": "stderr",
     "output_type": "stream",
     "text": [
      "/home/giovani/anaconda3/envs/wavelet_code/lib/python3.10/site-packages/sklearn/base.py:486: UserWarning: X has feature names, but NearestNeighbors was fitted without feature names\n",
      "  warnings.warn(\n",
      "100%|██████████| 389397/389397 [00:41<00:00, 9344.77it/s]\n"
     ]
    },
    {
     "name": "stdout",
     "output_type": "stream",
     "text": [
      "Number of points: 389397\n",
      "Number of points without polygon: 46.96%\n",
      "Number of months: 45\n",
      "Number of days: 275\n"
     ]
    },
    {
     "name": "stderr",
     "output_type": "stream",
     "text": [
      "/tmp/ipykernel_417009/198360517.py:46: UserWarning: Geometry is in a geographic CRS. Results from 'area' are likely incorrect. Use 'GeoSeries.to_crs()' to re-project geometries to a projected CRS before this operation.\n",
      "\n",
      "  area = gdf.area.values\n",
      "/tmp/ipykernel_417009/198360517.py:82: UserWarning: Geometry is in a geographic CRS. Results from 'area' are likely incorrect. Use 'GeoSeries.to_crs()' to re-project geometries to a projected CRS before this operation.\n",
      "\n",
      "  area = gdf.area.values\n"
     ]
    }
   ],
   "source": [
    "gdf = gpd.read_file(\"data/shapefiles/SpCenterCensus10k.shp\")\n",
    "create_sp_timeseries(df, gdf, \"FurtoCelular\", \"SpCenterCensus10k\")"
   ]
  },
  {
   "cell_type": "code",
   "execution_count": 25,
   "metadata": {},
   "outputs": [
    {
     "name": "stderr",
     "output_type": "stream",
     "text": [
      "/home/giovani/anaconda3/envs/wavelet_code/lib/python3.10/site-packages/sklearn/base.py:486: UserWarning: X has feature names, but NearestNeighbors was fitted without feature names\n",
      "  warnings.warn(\n",
      "100%|██████████| 389397/389397 [00:41<00:00, 9345.51it/s]\n"
     ]
    },
    {
     "name": "stdout",
     "output_type": "stream",
     "text": [
      "Number of points: 389397\n",
      "Number of points without polygon: 57.32%\n",
      "Number of months: 45\n",
      "Number of days: 275\n"
     ]
    },
    {
     "name": "stderr",
     "output_type": "stream",
     "text": [
      "/tmp/ipykernel_417009/198360517.py:46: UserWarning: Geometry is in a geographic CRS. Results from 'area' are likely incorrect. Use 'GeoSeries.to_crs()' to re-project geometries to a projected CRS before this operation.\n",
      "\n",
      "  area = gdf.area.values\n",
      "/tmp/ipykernel_417009/198360517.py:82: UserWarning: Geometry is in a geographic CRS. Results from 'area' are likely incorrect. Use 'GeoSeries.to_crs()' to re-project geometries to a projected CRS before this operation.\n",
      "\n",
      "  area = gdf.area.values\n"
     ]
    }
   ],
   "source": [
    "gdf = gpd.read_file(\"data/shapefiles/SpCenterCensus5k.shp\")\n",
    "create_sp_timeseries(df, gdf, \"FurtoCelular\", \"SpCenterCensus5k\")"
   ]
  },
  {
   "cell_type": "markdown",
   "metadata": {},
   "source": [
    "## Crime robbery"
   ]
  },
  {
   "cell_type": "code",
   "execution_count": 26,
   "metadata": {},
   "outputs": [
    {
     "name": "stderr",
     "output_type": "stream",
     "text": [
      "/tmp/ipykernel_417009/1213486941.py:1: DtypeWarning: Columns (17) have mixed types. Specify dtype option on import or set low_memory=False.\n",
      "  df = pd.read_csv(\"data/time_series/roubo_celular_2018_2022.csv\", sep = \";\")\n"
     ]
    },
    {
     "data": {
      "text/plain": [
       "(588122, 14)"
      ]
     },
     "execution_count": 26,
     "metadata": {},
     "output_type": "execute_result"
    }
   ],
   "source": [
    "df = pd.read_csv(\"data/time_series/roubo_celular_2018_2022.csv\", sep = \";\")\n",
    "# drop columns with more than 0.1 of missing values\n",
    "df[\"date\"] = pd.to_datetime(df.DATAOCORRENCIA, format='%d/%m/%Y', errors='coerce')\n",
    "df = df.dropna(thresh=0.9*len(df), axis=1)\n",
    "df = df.dropna()\n",
    "df = df.drop(columns = [\"ANO_BO\", \"DATAOCORRENCIA\"], axis = 1)\n",
    "df = df[df.date > \"2018-01-01\"]\n",
    "df = df.reset_index(drop=True)\n",
    "df.shape"
   ]
  },
  {
   "cell_type": "code",
   "execution_count": 27,
   "metadata": {},
   "outputs": [
    {
     "name": "stderr",
     "output_type": "stream",
     "text": [
      "/home/giovani/anaconda3/envs/wavelet_code/lib/python3.10/site-packages/sklearn/base.py:486: UserWarning: X has feature names, but NearestNeighbors was fitted without feature names\n",
      "  warnings.warn(\n",
      "100%|██████████| 588122/588122 [01:55<00:00, 5103.02it/s]\n"
     ]
    },
    {
     "name": "stdout",
     "output_type": "stream",
     "text": [
      "Number of points: 588122\n",
      "Number of points without polygon: 11.03%\n",
      "Number of months: 45\n",
      "Number of days: 275\n"
     ]
    },
    {
     "name": "stderr",
     "output_type": "stream",
     "text": [
      "/tmp/ipykernel_417009/198360517.py:46: UserWarning: Geometry is in a geographic CRS. Results from 'area' are likely incorrect. Use 'GeoSeries.to_crs()' to re-project geometries to a projected CRS before this operation.\n",
      "\n",
      "  area = gdf.area.values\n",
      "/tmp/ipykernel_417009/198360517.py:82: UserWarning: Geometry is in a geographic CRS. Results from 'area' are likely incorrect. Use 'GeoSeries.to_crs()' to re-project geometries to a projected CRS before this operation.\n",
      "\n",
      "  area = gdf.area.values\n"
     ]
    }
   ],
   "source": [
    "gdf = gpd.read_file(\"data/shapefiles/SpDistricts.shp\")\n",
    "create_sp_timeseries(df, gdf, \"RouboCelular\", \"SpDistricts\")"
   ]
  },
  {
   "cell_type": "code",
   "execution_count": 28,
   "metadata": {},
   "outputs": [
    {
     "name": "stderr",
     "output_type": "stream",
     "text": [
      "/home/giovani/anaconda3/envs/wavelet_code/lib/python3.10/site-packages/sklearn/base.py:486: UserWarning: X has feature names, but NearestNeighbors was fitted without feature names\n",
      "  warnings.warn(\n",
      "100%|██████████| 588122/588122 [01:01<00:00, 9547.53it/s]\n"
     ]
    },
    {
     "name": "stdout",
     "output_type": "stream",
     "text": [
      "Number of points: 588122\n",
      "Number of points without polygon: 72.27%\n",
      "Number of months: 45\n",
      "Number of days: 275\n"
     ]
    },
    {
     "name": "stderr",
     "output_type": "stream",
     "text": [
      "/tmp/ipykernel_417009/198360517.py:46: UserWarning: Geometry is in a geographic CRS. Results from 'area' are likely incorrect. Use 'GeoSeries.to_crs()' to re-project geometries to a projected CRS before this operation.\n",
      "\n",
      "  area = gdf.area.values\n",
      "/tmp/ipykernel_417009/198360517.py:82: UserWarning: Geometry is in a geographic CRS. Results from 'area' are likely incorrect. Use 'GeoSeries.to_crs()' to re-project geometries to a projected CRS before this operation.\n",
      "\n",
      "  area = gdf.area.values\n"
     ]
    }
   ],
   "source": [
    "gdf = gpd.read_file(\"data/shapefiles/SpCenterCensus10k.shp\")\n",
    "create_sp_timeseries(df, gdf, \"RouboCelular\", \"SpCenterCensus10k\")"
   ]
  },
  {
   "cell_type": "code",
   "execution_count": 29,
   "metadata": {},
   "outputs": [
    {
     "name": "stderr",
     "output_type": "stream",
     "text": [
      "/home/giovani/anaconda3/envs/wavelet_code/lib/python3.10/site-packages/sklearn/base.py:486: UserWarning: X has feature names, but NearestNeighbors was fitted without feature names\n",
      "  warnings.warn(\n",
      "100%|██████████| 588122/588122 [01:00<00:00, 9726.34it/s] \n"
     ]
    },
    {
     "name": "stdout",
     "output_type": "stream",
     "text": [
      "Number of points: 588122\n",
      "Number of points without polygon: 84.68%\n",
      "Number of months: 45\n",
      "Number of days: 275\n"
     ]
    },
    {
     "name": "stderr",
     "output_type": "stream",
     "text": [
      "/tmp/ipykernel_417009/198360517.py:46: UserWarning: Geometry is in a geographic CRS. Results from 'area' are likely incorrect. Use 'GeoSeries.to_crs()' to re-project geometries to a projected CRS before this operation.\n",
      "\n",
      "  area = gdf.area.values\n",
      "/tmp/ipykernel_417009/198360517.py:82: UserWarning: Geometry is in a geographic CRS. Results from 'area' are likely incorrect. Use 'GeoSeries.to_crs()' to re-project geometries to a projected CRS before this operation.\n",
      "\n",
      "  area = gdf.area.values\n"
     ]
    }
   ],
   "source": [
    "gdf = gpd.read_file(\"data/shapefiles/SpCenterCensus5k.shp\")\n",
    "create_sp_timeseries(df, gdf, \"RouboCelular\", \"SpCenterCensus5k\")"
   ]
  },
  {
   "cell_type": "markdown",
   "metadata": {},
   "source": [
    "## Unify time-series"
   ]
  },
  {
   "cell_type": "code",
   "execution_count": 30,
   "metadata": {},
   "outputs": [
    {
     "name": "stderr",
     "output_type": "stream",
     "text": [
      "/tmp/ipykernel_417009/1139238529.py:8: FutureWarning: 'M' is deprecated and will be removed in a future version, please use 'ME' instead.\n",
      "  date = pd.date_range(start = month_range[0], end = month_range[1], freq = \"M\")\n"
     ]
    },
    {
     "name": "stdout",
     "output_type": "stream",
     "text": [
      "(4320, 11)\n"
     ]
    }
   ],
   "source": [
    "poly_division = \"SpDistricts\"\n",
    "time_interval = \"Month\"\n",
    "df = []\n",
    "signals = [\"WazeACCIDENT\", \"WazeHAZARD\", \"WazeJAM\", \"WazeROADCLOSED\", \"WazeWEATHERHAZARD\", \"FurtoCelular\", \"RouboCelular\", \"temperature\", \"precipitation\"]\n",
    "ts = [\n",
    "    np.load(f\"data/time_series/{signal}_{poly_division}_{time_interval}.npy\") for signal in signals\n",
    "]\n",
    "date = pd.date_range(start = month_range[0], end = month_range[1], freq = \"M\")\n",
    "poly_id = np.arange(ts[0].shape[0])\n",
    "\n",
    "\n",
    "for poly in range(ts[0].shape[0]):\n",
    "    for t in range(ts[0].shape[1]):\n",
    "        df.append({\n",
    "            \"date\" : date[t],\n",
    "            \"id_poly\" : poly_id[poly],\n",
    "        })\n",
    "        for i, signal in enumerate(signals):\n",
    "            df[-1][signal] = ts[i][poly, t]\n",
    "\n",
    "df = pd.DataFrame(df)\n",
    "print(df.shape)\n",
    "df.to_csv(f\"data/polygon_data/{poly_division}_{time_interval}.csv\", index=False)"
   ]
  },
  {
   "cell_type": "code",
   "execution_count": 31,
   "metadata": {},
   "outputs": [
    {
     "name": "stdout",
     "output_type": "stream",
     "text": [
      "(26400, 11)\n"
     ]
    }
   ],
   "source": [
    "poly_division = \"SpDistricts\"\n",
    "time_interval = \"Day\"\n",
    "df = []\n",
    "signals = [\"WazeACCIDENT\", \"WazeHAZARD\", \"WazeJAM\", \"WazeROADCLOSED\", \"WazeWEATHERHAZARD\", \"FurtoCelular\", \"RouboCelular\", \"temperature\", \"precipitation\"]\n",
    "ts = [\n",
    "    np.load(f\"data/time_series/{signal}_{poly_division}_{time_interval}.npy\") for signal in signals\n",
    "]\n",
    "date = pd.date_range(start = day_range[0], end = day_range[1], freq = \"D\")\n",
    "poly_id = np.arange(ts[0].shape[0])\n",
    "\n",
    "\n",
    "for poly in range(ts[0].shape[0]):\n",
    "    for t in range(ts[0].shape[1]):\n",
    "        df.append({\n",
    "            \"date\" : date[t],\n",
    "            \"id_poly\" : poly_id[poly],\n",
    "        })\n",
    "        for i, signal in enumerate(signals):\n",
    "            df[-1][signal] = ts[i][poly, t]\n",
    "\n",
    "df = pd.DataFrame(df)\n",
    "print(df.shape)\n",
    "df.to_csv(f\"data/polygon_data/{poly_division}_{time_interval}.csv\", index=False)"
   ]
  },
  {
   "cell_type": "code",
   "execution_count": 32,
   "metadata": {},
   "outputs": [
    {
     "name": "stderr",
     "output_type": "stream",
     "text": [
      "/tmp/ipykernel_417009/965197216.py:8: FutureWarning: 'M' is deprecated and will be removed in a future version, please use 'ME' instead.\n",
      "  date = pd.date_range(start = month_range[0], end = month_range[1], freq = \"M\")\n"
     ]
    },
    {
     "name": "stdout",
     "output_type": "stream",
     "text": [
      "(450000, 11)\n"
     ]
    }
   ],
   "source": [
    "poly_division = \"SpCenterCensus10k\"\n",
    "time_interval = \"Month\"\n",
    "df = []\n",
    "signals = [\"WazeACCIDENT\", \"WazeHAZARD\", \"WazeJAM\", \"WazeROADCLOSED\", \"WazeWEATHERHAZARD\", \"FurtoCelular\", \"RouboCelular\", \"temperature\", \"precipitation\"]\n",
    "ts = [\n",
    "    np.load(f\"data/time_series/{signal}_{poly_division}_{time_interval}.npy\") for signal in signals\n",
    "]\n",
    "date = pd.date_range(start = month_range[0], end = month_range[1], freq = \"M\")\n",
    "poly_id = np.arange(ts[0].shape[0])\n",
    "\n",
    "\n",
    "for poly in range(ts[0].shape[0]):\n",
    "    for t in range(ts[0].shape[1]):\n",
    "        df.append({\n",
    "            \"date\" : date[t],\n",
    "            \"id_poly\" : poly_id[poly],\n",
    "        })\n",
    "        for i, signal in enumerate(signals):\n",
    "            df[-1][signal] = ts[i][poly, t]\n",
    "\n",
    "df = pd.DataFrame(df)\n",
    "print(df.shape)\n",
    "df.to_csv(f\"data/polygon_data/{poly_division}_{time_interval}.csv\", index=False)"
   ]
  },
  {
   "cell_type": "code",
   "execution_count": 33,
   "metadata": {},
   "outputs": [
    {
     "name": "stdout",
     "output_type": "stream",
     "text": [
      "(2750000, 11)\n"
     ]
    }
   ],
   "source": [
    "poly_division = \"SpCenterCensus10k\"\n",
    "time_interval = \"Day\"\n",
    "df = []\n",
    "signals = [\"WazeACCIDENT\", \"WazeHAZARD\", \"WazeJAM\", \"WazeROADCLOSED\", \"WazeWEATHERHAZARD\", \"FurtoCelular\", \"RouboCelular\", \"temperature\", \"precipitation\"]\n",
    "ts = [\n",
    "    np.load(f\"data/time_series/{signal}_{poly_division}_{time_interval}.npy\") for signal in signals\n",
    "]\n",
    "date = pd.date_range(start = day_range[0], end = day_range[1], freq = \"D\")\n",
    "poly_id = np.arange(ts[0].shape[0])\n",
    "\n",
    "\n",
    "for poly in range(ts[0].shape[0]):\n",
    "    for t in range(ts[0].shape[1]):\n",
    "        df.append({\n",
    "            \"date\" : date[t],\n",
    "            \"id_poly\" : poly_id[poly],\n",
    "        })\n",
    "        for i, signal in enumerate(signals):\n",
    "            df[-1][signal] = ts[i][poly, t]\n",
    "\n",
    "df = pd.DataFrame(df)\n",
    "print(df.shape)\n",
    "df.to_csv(f\"data/polygon_data/{poly_division}_{time_interval}.csv\", index=False)"
   ]
  },
  {
   "cell_type": "code",
   "execution_count": 34,
   "metadata": {},
   "outputs": [
    {
     "name": "stderr",
     "output_type": "stream",
     "text": [
      "/tmp/ipykernel_417009/2884711597.py:8: FutureWarning: 'M' is deprecated and will be removed in a future version, please use 'ME' instead.\n",
      "  date = pd.date_range(start = month_range[0], end = month_range[1], freq = \"M\")\n"
     ]
    },
    {
     "name": "stdout",
     "output_type": "stream",
     "text": [
      "(225000, 11)\n"
     ]
    }
   ],
   "source": [
    "poly_division = \"SpCenterCensus5k\"\n",
    "time_interval = \"Month\"\n",
    "df = []\n",
    "signals = [\"WazeACCIDENT\", \"WazeHAZARD\", \"WazeJAM\", \"WazeROADCLOSED\", \"WazeWEATHERHAZARD\", \"FurtoCelular\", \"RouboCelular\", \"temperature\", \"precipitation\"]\n",
    "ts = [\n",
    "    np.load(f\"data/time_series/{signal}_{poly_division}_{time_interval}.npy\") for signal in signals\n",
    "]\n",
    "date = pd.date_range(start = month_range[0], end = month_range[1], freq = \"M\")\n",
    "poly_id = np.arange(ts[0].shape[0])\n",
    "\n",
    "\n",
    "for poly in range(ts[0].shape[0]):\n",
    "    for t in range(ts[0].shape[1]):\n",
    "        df.append({\n",
    "            \"date\" : date[t],\n",
    "            \"id_poly\" : poly_id[poly],\n",
    "        })\n",
    "        for i, signal in enumerate(signals):\n",
    "            df[-1][signal] = ts[i][poly, t]\n",
    "\n",
    "df = pd.DataFrame(df)\n",
    "print(df.shape)\n",
    "df.to_csv(f\"data/polygon_data/{poly_division}_{time_interval}.csv\", index=False)"
   ]
  },
  {
   "cell_type": "code",
   "execution_count": 35,
   "metadata": {},
   "outputs": [
    {
     "name": "stdout",
     "output_type": "stream",
     "text": [
      "(1375000, 11)\n"
     ]
    }
   ],
   "source": [
    "poly_division = \"SpCenterCensus5k\"\n",
    "time_interval = \"Day\"\n",
    "df = []\n",
    "signals = [\"WazeACCIDENT\", \"WazeHAZARD\", \"WazeJAM\", \"WazeROADCLOSED\", \"WazeWEATHERHAZARD\", \"FurtoCelular\", \"RouboCelular\", \"temperature\", \"precipitation\"]\n",
    "ts = [\n",
    "    np.load(f\"data/time_series/{signal}_{poly_division}_{time_interval}.npy\") for signal in signals\n",
    "]\n",
    "date = pd.date_range(start = day_range[0], end = day_range[1], freq = \"D\")\n",
    "poly_id = np.arange(ts[0].shape[0])\n",
    "\n",
    "\n",
    "for poly in range(ts[0].shape[0]):\n",
    "    for t in range(ts[0].shape[1]):\n",
    "        df.append({\n",
    "            \"date\" : date[t],\n",
    "            \"id_poly\" : poly_id[poly],\n",
    "        })\n",
    "        for i, signal in enumerate(signals):\n",
    "            df[-1][signal] = ts[i][poly, t]\n",
    "\n",
    "df = pd.DataFrame(df)\n",
    "print(df.shape)\n",
    "df.to_csv(f\"data/polygon_data/{poly_division}_{time_interval}.csv\", index=False)"
   ]
  }
 ],
 "metadata": {
  "kernelspec": {
   "display_name": "wavelet_code",
   "language": "python",
   "name": "python3"
  },
  "language_info": {
   "codemirror_mode": {
    "name": "ipython",
    "version": 3
   },
   "file_extension": ".py",
   "mimetype": "text/x-python",
   "name": "python",
   "nbconvert_exporter": "python",
   "pygments_lexer": "ipython3",
   "version": "3.1.0"
  }
 },
 "nbformat": 4,
 "nbformat_minor": 2
}
