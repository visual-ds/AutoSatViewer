{
 "cells": [
  {
   "cell_type": "code",
   "execution_count": 1,
   "metadata": {},
   "outputs": [
    {
     "name": "stderr",
     "output_type": "stream",
     "text": [
      "/tmp/ipykernel_269789/184408677.py:1: DeprecationWarning: \n",
      "Pyarrow will become a required dependency of pandas in the next major release of pandas (pandas 3.0),\n",
      "(to allow more performant data types, such as the Arrow string type, and better interoperability with other libraries)\n",
      "but was not found to be installed on your system.\n",
      "If this would cause problems for you,\n",
      "please provide us feedback at https://github.com/pandas-dev/pandas/issues/54466\n",
      "        \n",
      "  import pandas as pd\n"
     ]
    }
   ],
   "source": [
    "import pandas as pd\n",
    "import numpy as np\n",
    "import matplotlib.pyplot as plt\n",
    "import pandas as pd\n",
    "import geopandas as gpd\n",
    "from tqdm import tqdm\n",
    "tqdm.pandas()\n",
    "from shapely.geometry import Point\n",
    "from sklearn.neighbors import NearestNeighbors\n",
    "import CityHub\n",
    "import glob"
   ]
  },
  {
   "cell_type": "code",
   "execution_count": 2,
   "metadata": {},
   "outputs": [],
   "source": [
    "def crossref(df, gdf):\n",
    "    \"\"\"\n",
    "    Link rows of a dataframe to polygons in a geodataframe.\n",
    "    Dataframe must have columns 'LONGITUDE' and 'LATITUDE'.\n",
    "    \"\"\"\n",
    "    shapes = gdf.geometry\n",
    "    centroids = [x.centroid for x in shapes]\n",
    "    centroids = np.array([(x.x, x.y) for x in centroids])\n",
    "    nn = NearestNeighbors(n_neighbors=3, algorithm='ball_tree').fit(centroids)\n",
    "    _, indices = nn.kneighbors(df[['LONGITUDE', 'LATITUDE']])\n",
    "\n",
    "    id_poly = []\n",
    "    i = 0\n",
    "    for _, row in tqdm(df.iterrows(), total=len(df)):\n",
    "        point = Point(row['LONGITUDE'], row['LATITUDE'])\n",
    "        new_id = None\n",
    "        for idx in indices[i]:\n",
    "            if shapes[idx].contains(point):\n",
    "                new_id = idx\n",
    "                break\n",
    "        id_poly.append(new_id)\n",
    "        i += 1\n",
    "\n",
    "    df['id_poly'] = id_poly\n",
    "    return df"
   ]
  },
  {
   "cell_type": "markdown",
   "metadata": {},
   "source": [
    "## São Paulo"
   ]
  },
  {
   "cell_type": "code",
   "execution_count": 3,
   "metadata": {},
   "outputs": [],
   "source": [
    "month_range = [\"2019-04-01\", \"2023-01-01\"]\n",
    "day_range = [\"2019-04-01\", \"2020-01-01\"]"
   ]
  },
  {
   "cell_type": "code",
   "execution_count": 4,
   "metadata": {},
   "outputs": [],
   "source": [
    "def groupby_month(df):\n",
    "    df[\"year\"] = df.date.dt.year\n",
    "    df[\"month\"] = df.date.dt.month\n",
    "    df = df.groupby([\"id_poly\", \"year\", \"month\"]).size().reset_index()\n",
    "    df.columns = [\"id_poly\", \"year\", \"month\", \"count\"]\n",
    "    df[\"id_poly\"] = df[\"id_poly\"].astype(int)\n",
    "    return df\n",
    "\n",
    "def transform_month_to_ts(df, gdf):\n",
    "    start_year = pd.to_datetime(month_range[0]).year\n",
    "    start_month = pd.to_datetime(month_range[0]).month\n",
    "    end_year = pd.to_datetime(month_range[1]).year\n",
    "    end_month = pd.to_datetime(month_range[1]).month\n",
    "    n_months = (end_year - start_year) * 12 + end_month - start_month \n",
    "\n",
    "    n_poly = len(gdf)\n",
    "\n",
    "    ts = np.zeros((n_poly, n_months))\n",
    "    k = 0\n",
    "    for m in range(start_month, 13):\n",
    "        filtered = df[(df.year == start_year) & (df.month == m)]\n",
    "        if len(filtered) == ts.shape[0]:\n",
    "            ts[:, k] = filtered[\"count\"]\n",
    "        elif len(filtered) > 0:\n",
    "            ts[filtered.id_poly, k] = filtered[\"count\"]\n",
    "        k += 1\n",
    "\n",
    "    for y in range(start_year + 1, end_year):\n",
    "        for m in range(1, 13):\n",
    "            filtered = df[(df.year == y) & (df.month == m)]\n",
    "            if len(filtered) == ts.shape[0]:\n",
    "                ts[:, k] = filtered[\"count\"]\n",
    "            elif len(filtered) > 0:\n",
    "                ts[filtered.id_poly, k] = filtered[\"count\"]\n",
    "            k += 1\n",
    "\n",
    "    for m in range(1, end_month + 1):\n",
    "        filtered = df[(df.year == end_year) & (df.month == m)]\n",
    "        if len(filtered) == ts.shape[0]:\n",
    "            ts[:, k] = filtered[\"count\"]\n",
    "        elif len(filtered) > 0:\n",
    "            ts[filtered.id_poly, k] = filtered[\"count\"]\n",
    "        k += 1\n",
    "    \n",
    "    # change to a projection with meters as unit\n",
    "    area = gdf.to_crs(\"EPSG:6933\").area.values / 10**6\n",
    "    ts = ts / area[:, None]\n",
    "    return ts\n",
    "\n",
    "\n",
    "def groupby_day(df):\n",
    "    day_ns = 60*60*24*10**9\n",
    "    df[\"date_int\"] = df.date.astype(int)\n",
    "    df[\"date_int\"] = df.date_int / day_ns\n",
    "    df[\"date_int\"] = df.date_int.astype(int)    \n",
    "    df = df.groupby([\"id_poly\", \"date_int\"]).size().reset_index()\n",
    "    df.columns = [\"id_poly\", \"date_int\", \"count\"]\n",
    "    df[\"id_poly\"] = df[\"id_poly\"].astype(int)\n",
    "    df = df.sort_values([\"id_poly\", \"date_int\"])\n",
    "    return df\n",
    "\n",
    "\n",
    "def transform_day_to_ts(df, gdf):\n",
    "    day_ns = 60*60*24*10**9\n",
    "    time_aux = pd.Series(day_range).apply(pd.to_datetime)\n",
    "    time_aux = (time_aux.astype(int) / day_ns).astype(int)\n",
    "    min_date = time_aux.min()\n",
    "    max_date = time_aux.max()\n",
    "    n_days = int(max_date - min_date)\n",
    "    n_poly = len(gdf)\n",
    "    ts = np.zeros((n_poly, n_days))\n",
    "    k = 0\n",
    "    for day in range(min_date, max_date):\n",
    "        filtered = df[df.date_int == day]\n",
    "        if len(filtered) == ts.shape[0]:\n",
    "            ts[:, k] = filtered[\"count\"]\n",
    "        else:\n",
    "        # fill missing values with 0\n",
    "            ts[:, k] = 0\n",
    "            ts[filtered.id_poly, k] = filtered[\"count\"]\n",
    "        k += 1\n",
    "\n",
    "    # change to a projection with meters as unit\n",
    "    area = gdf.to_crs(\"EPSG:6933\").area.values / 10**6\n",
    "    ts = ts / area[:, None]\n",
    "    return ts\n",
    "\n",
    "\n",
    "def create_sp_timeseries(df, gdf, df_name, gdf_name):\n",
    "    df_poly = crossref(df, gdf)\n",
    "    print(f\"Number of points: {len(df_poly)}\")\n",
    "    print(f\"Number of points without polygon: {df_poly.id_poly.isna().sum()/len(df_poly)*100:.2f}%\")\n",
    "    df_poly = df_poly.dropna(subset = [\"id_poly\"])\n",
    "\n",
    "\n",
    "    df_poly_month = df_poly[(df_poly.date >= month_range[0]) & (df_poly.date < month_range[1])].copy()\n",
    "    df_poly_month = groupby_month(df_poly_month)\n",
    "    ts_month = transform_month_to_ts(df_poly_month, gdf)\n",
    "    print(f\"Number of months: {ts_month.shape[1]}\")\n",
    "    np.save(f\"data/time_series/{df_name}_{gdf_name}_Month.npy\", ts_month)\n",
    "\n",
    "    df_poly_day = df_poly[(df_poly.date >= day_range[0]) & (df_poly.date < day_range[1])].copy()\n",
    "    df_poly_day = groupby_day(df_poly_day)\n",
    "    ts_day = transform_day_to_ts(df_poly_day, gdf)\n",
    "    print(f\"Number of days: {ts_day.shape[1]}\")\n",
    "    np.save(f\"data/time_series/{df_name}_{gdf_name}_Day.npy\", ts_day)\n"
   ]
  },
  {
   "cell_type": "markdown",
   "metadata": {},
   "source": [
    "### Climate (not updated)"
   ]
  },
  {
   "cell_type": "code",
   "execution_count": 5,
   "metadata": {},
   "outputs": [],
   "source": [
    "for station in [\"MIRANTE\", \"BARUERI\", \"INTERLAGOS\"]:\n",
    "    files = glob.glob(f\"data/time_series/*{station}*\")\n",
    "    file_2018 = [f for f in files if f.find(\"2018\") != -1][0]\n",
    "    other_files = files.copy()\n",
    "    other_files.remove(file_2018)\n",
    "    files = other_files + [file_2018]\n",
    "    df = []\n",
    "    for file in files:\n",
    "        df_ = pd.read_csv(file, sep = \";\")\n",
    "        if file == files[0]:\n",
    "            columns = df_.columns\n",
    "        \n",
    "        if file == files[-1]: # 2018 file, a bit problematic\n",
    "            df_.columns = columns\n",
    "            df_[\"date\"] = pd.to_datetime(df_[\"Data\"], format = \"%Y-%m-%d\")\n",
    "        else:\n",
    "            df_[\"date\"] = pd.to_datetime(df_[\"Data\"], format = \"%Y/%m/%d\")\n",
    "        df.append(df_)\n",
    "    df = pd.concat(df)\n",
    "    selected_columns = [\"date\", 'PRECIPITA��O TOTAL, HOR�RIO (mm)', 'TEMPERATURA M�XIMA NA HORA ANT. (AUT) (�C)', 'UMIDADE REL. MAX. NA HORA ANT. (AUT) (%)']\n",
    "    df = df[selected_columns]\n",
    "    df.columns = [\"date\", \"precipitation\", \"temperature\", \"humidity\"]\n",
    "    df[\"precipitation\"] = df[\"precipitation\"].str.replace(\",\", \".\").astype(float)\n",
    "    df[\"temperature\"] = df[\"temperature\"].str.replace(\",\", \".\").astype(float)\n",
    "    # fill na values with mean\n",
    "    df[\"temperature\"] = df[\"temperature\"].fillna(df[\"temperature\"].mean())\n",
    "    df[\"humidity\"] = df[\"humidity\"].fillna(df[\"humidity\"].mean())\n",
    "    df[\"precipitation\"] = df[\"precipitation\"].fillna(0)\n",
    "    #df = df.dropna()\n",
    "    df_full = df.copy()\n",
    "    df = df_full.groupby(\"date\").agg({\"precipitation\": \"sum\", \"temperature\": [\"min\", \"max\", \"mean\"], \"humidity\": \"mean\"}).reset_index()\n",
    "    df.columns = [\"Data\", \"precipitation\", \"temperature_min\", \"temperature_max\", \"temperature\", \"humidity_mean\"]\n",
    "    # add hour to date\n",
    "    df[\"Data\"] = pd.to_datetime(df[\"Data\"])\n",
    "    df[\"Data\"] = df[\"Data\"].dt.floor('h')\n",
    "    \n",
    "    df[\"Data\"] = df[\"Data\"].dt.strftime(\"%Y-%d-%m %H:%M:%S\")\n",
    "    df.to_csv(f\"data/geo_data/{station}_weather_Day.csv\", sep = \";\", index=False)\n",
    "\n",
    "    df_full[\"month_year\"] = df_full[\"date\"].dt.month.astype(str) + \"-\" + df_full[\"date\"].dt.year.astype(str)\n",
    "    df = df_full.groupby(\"month_year\").agg({\"date\" : \"max\", \"precipitation\": \"sum\", \"temperature\": [\"min\", \"max\", \"mean\"], \"humidity\": \"mean\"}).reset_index()\n",
    "    df.columns = [\"month_year\", \"Data\", \"precipitation\", \"temperature_min\", \"temperature_max\", \"temperature\", \"humidity_mean\"]\n",
    "    df = df.drop(columns = [\"month_year\"])\n",
    "    # add hour to date\n",
    "    df[\"Data\"] = pd.to_datetime(df[\"Data\"])\n",
    "    df[\"Data\"] = df[\"Data\"].dt.floor('h')\n",
    "    \n",
    "    df[\"Data\"] = df[\"Data\"].dt.strftime(\"%Y-%d-%m %H:%M:%S\")\n",
    "    df.to_csv(f\"data/geo_data/{station}_weather_Month.csv\", sep = \";\", index=False)"
   ]
  },
  {
   "cell_type": "code",
   "execution_count": 6,
   "metadata": {},
   "outputs": [
    {
     "name": "stdout",
     "output_type": "stream",
     "text": [
      "Loading file...\n",
      "Preprocessing city mesh...\n",
      "Refining mesh...\n"
     ]
    },
    {
     "name": "stderr",
     "output_type": "stream",
     "text": [
      "/home/giovani/Documents/AutoSatViewer/wavelet_code/CityHub.py:206: FutureWarning: The `great_circle_vec` function has been renamed `great_circle`. Calling `great_circle_vec` will raise an error starting in the v2.0.0 release.\n",
      "  great_circle_dist = ox.distance.great_circle_vec(vertA[0],vertA[1],vertB[0],vertB[1])\n",
      "/home/giovani/Documents/AutoSatViewer/wavelet_code/CityHub.py:207: FutureWarning: The `euclidean_dist_vec` function has been renamed `euclidean`. Calling `euclidean_dist_vec` will raise an error starting in the v2.0.0 release.\n",
      "  latlong_dist = ox.distance.euclidean_dist_vec(vertA[0],vertA[1],vertB[0],vertB[1])\n"
     ]
    }
   ],
   "source": [
    "ch = CityHub.CityHub(\"Sao Paulo, Brazil\")"
   ]
  },
  {
   "cell_type": "code",
   "execution_count": 7,
   "metadata": {},
   "outputs": [
    {
     "name": "stdout",
     "output_type": "stream",
     "text": [
      "(10000, 45)\n",
      "(10000, 45)\n"
     ]
    },
    {
     "name": "stderr",
     "output_type": "stream",
     "text": [
      "/tmp/ipykernel_608832/1369965686.py:11: UserWarning: Geometry is in a geographic CRS. Results from 'centroid' are likely incorrect. Use 'GeoSeries.to_crs()' to re-project geometries to a projected CRS before this operation.\n",
      "\n",
      "  gdf[\"lat\"] = gdf.centroid.y\n",
      "/tmp/ipykernel_608832/1369965686.py:12: UserWarning: Geometry is in a geographic CRS. Results from 'centroid' are likely incorrect. Use 'GeoSeries.to_crs()' to re-project geometries to a projected CRS before this operation.\n",
      "\n",
      "  gdf[\"lng\"] = gdf.centroid.x\n",
      "/home/giovani/Documents/AutoSatViewer/wavelet_code/CityHub.py:1188: FutureWarning: The `great_circle_vec` function has been renamed `great_circle`. Calling `great_circle_vec` will raise an error starting in the v2.0.0 release.\n",
      "  sigma = .5*np.mean([ ox.distance.great_circle_vec(Xm[i,0],Xm[i,1],Xm[j,0],Xm[j,1]) for i in range(M) for j in range(1+i,M)])\n",
      "/home/giovani/Documents/AutoSatViewer/wavelet_code/CityHub.py:1139: FutureWarning: The `great_circle_vec` function has been renamed `great_circle`. Calling `great_circle_vec` will raise an error starting in the v2.0.0 release.\n",
      "  D = [ ox.distance.great_circle_vec(X[:,0],X[:,1],Xm[m,0],Xm[m,1]) for m in range(M) ]\n",
      "/home/giovani/Documents/AutoSatViewer/wavelet_code/CityHub.py:1188: FutureWarning: The `great_circle_vec` function has been renamed `great_circle`. Calling `great_circle_vec` will raise an error starting in the v2.0.0 release.\n",
      "  sigma = .5*np.mean([ ox.distance.great_circle_vec(Xm[i,0],Xm[i,1],Xm[j,0],Xm[j,1]) for i in range(M) for j in range(1+i,M)])\n",
      "/home/giovani/Documents/AutoSatViewer/wavelet_code/CityHub.py:1139: FutureWarning: The `great_circle_vec` function has been renamed `great_circle`. Calling `great_circle_vec` will raise an error starting in the v2.0.0 release.\n",
      "  D = [ ox.distance.great_circle_vec(X[:,0],X[:,1],Xm[m,0],Xm[m,1]) for m in range(M) ]\n"
     ]
    }
   ],
   "source": [
    "time_interval = \"Month\"\n",
    "poly_division = \"SpCenterCensus10k\"\n",
    "\n",
    "for station in [\"MIRANTE\", \"BARUERI\", \"INTERLAGOS\"]:\n",
    "    ch.load_SMLayers_known_measurements(station, f\"data/geo_data/{station}_weather_{time_interval}.csv\")\n",
    "ch.load_SMLayers_measurements_points_info(\"data/geo_data/Stations_info.csv\");\n",
    "\n",
    "\n",
    "\n",
    "gdf = gpd.read_file(f\"data/shapefiles/{poly_division}.shp\")\n",
    "gdf[\"lat\"] = gdf.centroid.y\n",
    "gdf[\"lng\"] = gdf.centroid.x\n",
    "for feature in [\"temperature\", \"precipitation\"]:\n",
    "    poly_feature = ch.sparse_ts_estimation(feature, month_range[0], month_range[1], gdf, \"lat\", \"lng\")\n",
    "    poly_feature = poly_feature.T.reset_index()\n",
    "    poly_feature = poly_feature[poly_feature.Data >= month_range[0]]\n",
    "    poly_feature = poly_feature[poly_feature.Data < month_range[1]]\n",
    "    poly_feature = poly_feature.iloc[:, 1:]\n",
    "\n",
    "    ts = poly_feature.values.T\n",
    "    print(ts.shape)\n",
    "    np.save(f\"data/time_series/{feature}_{poly_division}_{time_interval}.npy\", ts)"
   ]
  },
  {
   "cell_type": "code",
   "execution_count": 8,
   "metadata": {},
   "outputs": [
    {
     "name": "stdout",
     "output_type": "stream",
     "text": [
      "(5000, 45)\n",
      "(5000, 45)\n"
     ]
    },
    {
     "name": "stderr",
     "output_type": "stream",
     "text": [
      "/tmp/ipykernel_608832/1503782552.py:11: UserWarning: Geometry is in a geographic CRS. Results from 'centroid' are likely incorrect. Use 'GeoSeries.to_crs()' to re-project geometries to a projected CRS before this operation.\n",
      "\n",
      "  gdf[\"lat\"] = gdf.centroid.y\n",
      "/tmp/ipykernel_608832/1503782552.py:12: UserWarning: Geometry is in a geographic CRS. Results from 'centroid' are likely incorrect. Use 'GeoSeries.to_crs()' to re-project geometries to a projected CRS before this operation.\n",
      "\n",
      "  gdf[\"lng\"] = gdf.centroid.x\n",
      "/home/giovani/Documents/AutoSatViewer/wavelet_code/CityHub.py:1188: FutureWarning: The `great_circle_vec` function has been renamed `great_circle`. Calling `great_circle_vec` will raise an error starting in the v2.0.0 release.\n",
      "  sigma = .5*np.mean([ ox.distance.great_circle_vec(Xm[i,0],Xm[i,1],Xm[j,0],Xm[j,1]) for i in range(M) for j in range(1+i,M)])\n",
      "/home/giovani/Documents/AutoSatViewer/wavelet_code/CityHub.py:1139: FutureWarning: The `great_circle_vec` function has been renamed `great_circle`. Calling `great_circle_vec` will raise an error starting in the v2.0.0 release.\n",
      "  D = [ ox.distance.great_circle_vec(X[:,0],X[:,1],Xm[m,0],Xm[m,1]) for m in range(M) ]\n",
      "/home/giovani/Documents/AutoSatViewer/wavelet_code/CityHub.py:1188: FutureWarning: The `great_circle_vec` function has been renamed `great_circle`. Calling `great_circle_vec` will raise an error starting in the v2.0.0 release.\n",
      "  sigma = .5*np.mean([ ox.distance.great_circle_vec(Xm[i,0],Xm[i,1],Xm[j,0],Xm[j,1]) for i in range(M) for j in range(1+i,M)])\n",
      "/home/giovani/Documents/AutoSatViewer/wavelet_code/CityHub.py:1139: FutureWarning: The `great_circle_vec` function has been renamed `great_circle`. Calling `great_circle_vec` will raise an error starting in the v2.0.0 release.\n",
      "  D = [ ox.distance.great_circle_vec(X[:,0],X[:,1],Xm[m,0],Xm[m,1]) for m in range(M) ]\n"
     ]
    }
   ],
   "source": [
    "time_interval = \"Month\"\n",
    "poly_division = \"SpCenterCensus5k\"\n",
    "\n",
    "for station in [\"MIRANTE\", \"BARUERI\", \"INTERLAGOS\"]:\n",
    "    ch.load_SMLayers_known_measurements(station, f\"data/geo_data/{station}_weather_{time_interval}.csv\")\n",
    "ch.load_SMLayers_measurements_points_info(\"data/geo_data/Stations_info.csv\");\n",
    "\n",
    "\n",
    "\n",
    "gdf = gpd.read_file(f\"data/shapefiles/{poly_division}.shp\")\n",
    "gdf[\"lat\"] = gdf.centroid.y\n",
    "gdf[\"lng\"] = gdf.centroid.x\n",
    "for feature in [\"temperature\", \"precipitation\"]:\n",
    "    poly_feature = ch.sparse_ts_estimation(feature, month_range[0], month_range[1], gdf, \"lat\", \"lng\")\n",
    "    poly_feature = poly_feature.T.reset_index()\n",
    "    poly_feature = poly_feature[poly_feature.Data >= month_range[0]]\n",
    "    poly_feature = poly_feature[poly_feature.Data < month_range[1]]\n",
    "    poly_feature = poly_feature.iloc[:, 1:]\n",
    "\n",
    "    ts = poly_feature.values.T\n",
    "    print(ts.shape)\n",
    "    np.save(f\"data/time_series/{feature}_{poly_division}_{time_interval}.npy\", ts)"
   ]
  },
  {
   "cell_type": "code",
   "execution_count": 9,
   "metadata": {},
   "outputs": [
    {
     "name": "stdout",
     "output_type": "stream",
     "text": [
      "(96, 45)\n",
      "(96, 45)\n"
     ]
    },
    {
     "name": "stderr",
     "output_type": "stream",
     "text": [
      "/tmp/ipykernel_608832/225899637.py:11: UserWarning: Geometry is in a geographic CRS. Results from 'centroid' are likely incorrect. Use 'GeoSeries.to_crs()' to re-project geometries to a projected CRS before this operation.\n",
      "\n",
      "  gdf[\"lat\"] = gdf.centroid.y\n",
      "/tmp/ipykernel_608832/225899637.py:12: UserWarning: Geometry is in a geographic CRS. Results from 'centroid' are likely incorrect. Use 'GeoSeries.to_crs()' to re-project geometries to a projected CRS before this operation.\n",
      "\n",
      "  gdf[\"lng\"] = gdf.centroid.x\n",
      "/home/giovani/Documents/AutoSatViewer/wavelet_code/CityHub.py:1188: FutureWarning: The `great_circle_vec` function has been renamed `great_circle`. Calling `great_circle_vec` will raise an error starting in the v2.0.0 release.\n",
      "  sigma = .5*np.mean([ ox.distance.great_circle_vec(Xm[i,0],Xm[i,1],Xm[j,0],Xm[j,1]) for i in range(M) for j in range(1+i,M)])\n",
      "/home/giovani/Documents/AutoSatViewer/wavelet_code/CityHub.py:1139: FutureWarning: The `great_circle_vec` function has been renamed `great_circle`. Calling `great_circle_vec` will raise an error starting in the v2.0.0 release.\n",
      "  D = [ ox.distance.great_circle_vec(X[:,0],X[:,1],Xm[m,0],Xm[m,1]) for m in range(M) ]\n",
      "/home/giovani/Documents/AutoSatViewer/wavelet_code/CityHub.py:1188: FutureWarning: The `great_circle_vec` function has been renamed `great_circle`. Calling `great_circle_vec` will raise an error starting in the v2.0.0 release.\n",
      "  sigma = .5*np.mean([ ox.distance.great_circle_vec(Xm[i,0],Xm[i,1],Xm[j,0],Xm[j,1]) for i in range(M) for j in range(1+i,M)])\n",
      "/home/giovani/Documents/AutoSatViewer/wavelet_code/CityHub.py:1139: FutureWarning: The `great_circle_vec` function has been renamed `great_circle`. Calling `great_circle_vec` will raise an error starting in the v2.0.0 release.\n",
      "  D = [ ox.distance.great_circle_vec(X[:,0],X[:,1],Xm[m,0],Xm[m,1]) for m in range(M) ]\n"
     ]
    }
   ],
   "source": [
    "time_interval = \"Month\"\n",
    "poly_division = \"SpDistricts\"\n",
    "\n",
    "for station in [\"MIRANTE\", \"BARUERI\", \"INTERLAGOS\"]:\n",
    "    ch.load_SMLayers_known_measurements(station, f\"data/geo_data/{station}_weather_{time_interval}.csv\")\n",
    "ch.load_SMLayers_measurements_points_info(\"data/geo_data/Stations_info.csv\");\n",
    "\n",
    "\n",
    "\n",
    "gdf = gpd.read_file(f\"data/shapefiles/{poly_division}.shp\")\n",
    "gdf[\"lat\"] = gdf.centroid.y\n",
    "gdf[\"lng\"] = gdf.centroid.x\n",
    "for feature in [\"temperature\", \"precipitation\"]:\n",
    "    poly_feature = ch.sparse_ts_estimation(feature, month_range[0], month_range[1], gdf, \"lat\", \"lng\")\n",
    "    poly_feature = poly_feature.T.reset_index()\n",
    "    poly_feature = poly_feature[poly_feature.Data >= month_range[0]]\n",
    "    poly_feature = poly_feature[poly_feature.Data < month_range[1]]\n",
    "    poly_feature = poly_feature.iloc[:, 1:]\n",
    "\n",
    "    ts = poly_feature.values.T\n",
    "    print(ts.shape)\n",
    "    np.save(f\"data/time_series/{feature}_{poly_division}_{time_interval}.npy\", ts)"
   ]
  },
  {
   "cell_type": "code",
   "execution_count": 10,
   "metadata": {},
   "outputs": [
    {
     "name": "stdout",
     "output_type": "stream",
     "text": [
      "(4900, 45)\n",
      "(4900, 45)\n"
     ]
    },
    {
     "name": "stderr",
     "output_type": "stream",
     "text": [
      "/tmp/ipykernel_608832/553333523.py:11: UserWarning: Geometry is in a geographic CRS. Results from 'centroid' are likely incorrect. Use 'GeoSeries.to_crs()' to re-project geometries to a projected CRS before this operation.\n",
      "\n",
      "  gdf[\"lat\"] = gdf.centroid.y\n",
      "/tmp/ipykernel_608832/553333523.py:12: UserWarning: Geometry is in a geographic CRS. Results from 'centroid' are likely incorrect. Use 'GeoSeries.to_crs()' to re-project geometries to a projected CRS before this operation.\n",
      "\n",
      "  gdf[\"lng\"] = gdf.centroid.x\n",
      "/home/giovani/Documents/AutoSatViewer/wavelet_code/CityHub.py:1188: FutureWarning: The `great_circle_vec` function has been renamed `great_circle`. Calling `great_circle_vec` will raise an error starting in the v2.0.0 release.\n",
      "  sigma = .5*np.mean([ ox.distance.great_circle_vec(Xm[i,0],Xm[i,1],Xm[j,0],Xm[j,1]) for i in range(M) for j in range(1+i,M)])\n",
      "/home/giovani/Documents/AutoSatViewer/wavelet_code/CityHub.py:1139: FutureWarning: The `great_circle_vec` function has been renamed `great_circle`. Calling `great_circle_vec` will raise an error starting in the v2.0.0 release.\n",
      "  D = [ ox.distance.great_circle_vec(X[:,0],X[:,1],Xm[m,0],Xm[m,1]) for m in range(M) ]\n",
      "/home/giovani/Documents/AutoSatViewer/wavelet_code/CityHub.py:1188: FutureWarning: The `great_circle_vec` function has been renamed `great_circle`. Calling `great_circle_vec` will raise an error starting in the v2.0.0 release.\n",
      "  sigma = .5*np.mean([ ox.distance.great_circle_vec(Xm[i,0],Xm[i,1],Xm[j,0],Xm[j,1]) for i in range(M) for j in range(1+i,M)])\n",
      "/home/giovani/Documents/AutoSatViewer/wavelet_code/CityHub.py:1139: FutureWarning: The `great_circle_vec` function has been renamed `great_circle`. Calling `great_circle_vec` will raise an error starting in the v2.0.0 release.\n",
      "  D = [ ox.distance.great_circle_vec(X[:,0],X[:,1],Xm[m,0],Xm[m,1]) for m in range(M) ]\n"
     ]
    }
   ],
   "source": [
    "time_interval = \"Month\"\n",
    "poly_division = \"SpGrid\"\n",
    "\n",
    "for station in [\"MIRANTE\", \"BARUERI\", \"INTERLAGOS\"]:\n",
    "    ch.load_SMLayers_known_measurements(station, f\"data/geo_data/{station}_weather_{time_interval}.csv\")\n",
    "ch.load_SMLayers_measurements_points_info(\"data/geo_data/Stations_info.csv\");\n",
    "\n",
    "\n",
    "\n",
    "gdf = gpd.read_file(f\"data/shapefiles/{poly_division}.shp\")\n",
    "gdf[\"lat\"] = gdf.centroid.y\n",
    "gdf[\"lng\"] = gdf.centroid.x\n",
    "for feature in [\"temperature\", \"precipitation\"]:\n",
    "    poly_feature = ch.sparse_ts_estimation(feature, month_range[0], month_range[1], gdf, \"lat\", \"lng\")\n",
    "    poly_feature = poly_feature.T.reset_index()\n",
    "    poly_feature = poly_feature[poly_feature.Data >= month_range[0]]\n",
    "    poly_feature = poly_feature[poly_feature.Data < month_range[1]]\n",
    "    poly_feature = poly_feature.iloc[:, 1:]\n",
    "\n",
    "    ts = poly_feature.values.T\n",
    "    print(ts.shape)\n",
    "    np.save(f\"data/time_series/{feature}_{poly_division}_{time_interval}.npy\", ts)"
   ]
  },
  {
   "cell_type": "code",
   "execution_count": 11,
   "metadata": {},
   "outputs": [
    {
     "name": "stderr",
     "output_type": "stream",
     "text": [
      "/tmp/ipykernel_608832/1594469053.py:11: UserWarning: Geometry is in a geographic CRS. Results from 'centroid' are likely incorrect. Use 'GeoSeries.to_crs()' to re-project geometries to a projected CRS before this operation.\n",
      "\n",
      "  gdf[\"lat\"] = gdf.centroid.y\n",
      "/tmp/ipykernel_608832/1594469053.py:12: UserWarning: Geometry is in a geographic CRS. Results from 'centroid' are likely incorrect. Use 'GeoSeries.to_crs()' to re-project geometries to a projected CRS before this operation.\n",
      "\n",
      "  gdf[\"lng\"] = gdf.centroid.x\n",
      "/home/giovani/Documents/AutoSatViewer/wavelet_code/CityHub.py:1188: FutureWarning: The `great_circle_vec` function has been renamed `great_circle`. Calling `great_circle_vec` will raise an error starting in the v2.0.0 release.\n",
      "  sigma = .5*np.mean([ ox.distance.great_circle_vec(Xm[i,0],Xm[i,1],Xm[j,0],Xm[j,1]) for i in range(M) for j in range(1+i,M)])\n",
      "/home/giovani/Documents/AutoSatViewer/wavelet_code/CityHub.py:1139: FutureWarning: The `great_circle_vec` function has been renamed `great_circle`. Calling `great_circle_vec` will raise an error starting in the v2.0.0 release.\n",
      "  D = [ ox.distance.great_circle_vec(X[:,0],X[:,1],Xm[m,0],Xm[m,1]) for m in range(M) ]\n"
     ]
    },
    {
     "name": "stdout",
     "output_type": "stream",
     "text": [
      "(10000, 275)\n",
      "(10000, 275)\n"
     ]
    },
    {
     "name": "stderr",
     "output_type": "stream",
     "text": [
      "/home/giovani/Documents/AutoSatViewer/wavelet_code/CityHub.py:1188: FutureWarning: The `great_circle_vec` function has been renamed `great_circle`. Calling `great_circle_vec` will raise an error starting in the v2.0.0 release.\n",
      "  sigma = .5*np.mean([ ox.distance.great_circle_vec(Xm[i,0],Xm[i,1],Xm[j,0],Xm[j,1]) for i in range(M) for j in range(1+i,M)])\n",
      "/home/giovani/Documents/AutoSatViewer/wavelet_code/CityHub.py:1139: FutureWarning: The `great_circle_vec` function has been renamed `great_circle`. Calling `great_circle_vec` will raise an error starting in the v2.0.0 release.\n",
      "  D = [ ox.distance.great_circle_vec(X[:,0],X[:,1],Xm[m,0],Xm[m,1]) for m in range(M) ]\n"
     ]
    }
   ],
   "source": [
    "time_interval = \"Day\"\n",
    "poly_division = \"SpCenterCensus10k\"\n",
    "\n",
    "for station in [\"MIRANTE\", \"BARUERI\", \"INTERLAGOS\"]:\n",
    "    ch.load_SMLayers_known_measurements(station, f\"data/geo_data/{station}_weather_{time_interval}.csv\")\n",
    "ch.load_SMLayers_measurements_points_info(\"data/geo_data/Stations_info.csv\");\n",
    "\n",
    "\n",
    "\n",
    "gdf = gpd.read_file(f\"data/shapefiles/{poly_division}.shp\")\n",
    "gdf[\"lat\"] = gdf.centroid.y\n",
    "gdf[\"lng\"] = gdf.centroid.x\n",
    "for feature in [\"temperature\", \"precipitation\"]:\n",
    "    poly_feature = ch.sparse_ts_estimation(feature, month_range[0], month_range[1], gdf, \"lat\", \"lng\")\n",
    "    poly_feature = poly_feature.T.reset_index()\n",
    "    poly_feature = poly_feature[poly_feature.Data >= day_range[0]]\n",
    "    poly_feature = poly_feature[poly_feature.Data < day_range[1]]\n",
    "    poly_feature = poly_feature.iloc[:, 1:]\n",
    "\n",
    "    ts = poly_feature.values.T\n",
    "    print(ts.shape)\n",
    "    np.save(f\"data/time_series/{feature}_{poly_division}_{time_interval}.npy\", ts)"
   ]
  },
  {
   "cell_type": "code",
   "execution_count": 12,
   "metadata": {},
   "outputs": [
    {
     "name": "stderr",
     "output_type": "stream",
     "text": [
      "/tmp/ipykernel_608832/3810769302.py:11: UserWarning: Geometry is in a geographic CRS. Results from 'centroid' are likely incorrect. Use 'GeoSeries.to_crs()' to re-project geometries to a projected CRS before this operation.\n",
      "\n",
      "  gdf[\"lat\"] = gdf.centroid.y\n",
      "/tmp/ipykernel_608832/3810769302.py:12: UserWarning: Geometry is in a geographic CRS. Results from 'centroid' are likely incorrect. Use 'GeoSeries.to_crs()' to re-project geometries to a projected CRS before this operation.\n",
      "\n",
      "  gdf[\"lng\"] = gdf.centroid.x\n",
      "/home/giovani/Documents/AutoSatViewer/wavelet_code/CityHub.py:1188: FutureWarning: The `great_circle_vec` function has been renamed `great_circle`. Calling `great_circle_vec` will raise an error starting in the v2.0.0 release.\n",
      "  sigma = .5*np.mean([ ox.distance.great_circle_vec(Xm[i,0],Xm[i,1],Xm[j,0],Xm[j,1]) for i in range(M) for j in range(1+i,M)])\n",
      "/home/giovani/Documents/AutoSatViewer/wavelet_code/CityHub.py:1139: FutureWarning: The `great_circle_vec` function has been renamed `great_circle`. Calling `great_circle_vec` will raise an error starting in the v2.0.0 release.\n",
      "  D = [ ox.distance.great_circle_vec(X[:,0],X[:,1],Xm[m,0],Xm[m,1]) for m in range(M) ]\n",
      "/home/giovani/Documents/AutoSatViewer/wavelet_code/CityHub.py:1188: FutureWarning: The `great_circle_vec` function has been renamed `great_circle`. Calling `great_circle_vec` will raise an error starting in the v2.0.0 release.\n",
      "  sigma = .5*np.mean([ ox.distance.great_circle_vec(Xm[i,0],Xm[i,1],Xm[j,0],Xm[j,1]) for i in range(M) for j in range(1+i,M)])\n",
      "/home/giovani/Documents/AutoSatViewer/wavelet_code/CityHub.py:1139: FutureWarning: The `great_circle_vec` function has been renamed `great_circle`. Calling `great_circle_vec` will raise an error starting in the v2.0.0 release.\n",
      "  D = [ ox.distance.great_circle_vec(X[:,0],X[:,1],Xm[m,0],Xm[m,1]) for m in range(M) ]\n"
     ]
    },
    {
     "name": "stdout",
     "output_type": "stream",
     "text": [
      "(5000, 275)\n",
      "(5000, 275)\n"
     ]
    }
   ],
   "source": [
    "time_interval = \"Day\"\n",
    "poly_division = \"SpCenterCensus5k\"\n",
    "\n",
    "for station in [\"MIRANTE\", \"BARUERI\", \"INTERLAGOS\"]:\n",
    "    ch.load_SMLayers_known_measurements(station, f\"data/geo_data/{station}_weather_{time_interval}.csv\")\n",
    "ch.load_SMLayers_measurements_points_info(\"data/geo_data/Stations_info.csv\");\n",
    "\n",
    "\n",
    "\n",
    "gdf = gpd.read_file(f\"data/shapefiles/{poly_division}.shp\")\n",
    "gdf[\"lat\"] = gdf.centroid.y\n",
    "gdf[\"lng\"] = gdf.centroid.x\n",
    "for feature in [\"temperature\", \"precipitation\"]:\n",
    "    poly_feature = ch.sparse_ts_estimation(feature, month_range[0], month_range[1], gdf, \"lat\", \"lng\")\n",
    "    poly_feature = poly_feature.T.reset_index()\n",
    "    poly_feature = poly_feature[poly_feature.Data >= day_range[0]]\n",
    "    poly_feature = poly_feature[poly_feature.Data < day_range[1]]\n",
    "    poly_feature = poly_feature.iloc[:, 1:]\n",
    "\n",
    "    ts = poly_feature.values.T\n",
    "    print(ts.shape)\n",
    "    np.save(f\"data/time_series/{feature}_{poly_division}_{time_interval}.npy\", ts)"
   ]
  },
  {
   "cell_type": "code",
   "execution_count": 13,
   "metadata": {},
   "outputs": [
    {
     "name": "stdout",
     "output_type": "stream",
     "text": [
      "(96, 275)\n",
      "(96, 275)\n"
     ]
    },
    {
     "name": "stderr",
     "output_type": "stream",
     "text": [
      "/tmp/ipykernel_608832/794070639.py:11: UserWarning: Geometry is in a geographic CRS. Results from 'centroid' are likely incorrect. Use 'GeoSeries.to_crs()' to re-project geometries to a projected CRS before this operation.\n",
      "\n",
      "  gdf[\"lat\"] = gdf.centroid.y\n",
      "/tmp/ipykernel_608832/794070639.py:12: UserWarning: Geometry is in a geographic CRS. Results from 'centroid' are likely incorrect. Use 'GeoSeries.to_crs()' to re-project geometries to a projected CRS before this operation.\n",
      "\n",
      "  gdf[\"lng\"] = gdf.centroid.x\n",
      "/home/giovani/Documents/AutoSatViewer/wavelet_code/CityHub.py:1188: FutureWarning: The `great_circle_vec` function has been renamed `great_circle`. Calling `great_circle_vec` will raise an error starting in the v2.0.0 release.\n",
      "  sigma = .5*np.mean([ ox.distance.great_circle_vec(Xm[i,0],Xm[i,1],Xm[j,0],Xm[j,1]) for i in range(M) for j in range(1+i,M)])\n",
      "/home/giovani/Documents/AutoSatViewer/wavelet_code/CityHub.py:1139: FutureWarning: The `great_circle_vec` function has been renamed `great_circle`. Calling `great_circle_vec` will raise an error starting in the v2.0.0 release.\n",
      "  D = [ ox.distance.great_circle_vec(X[:,0],X[:,1],Xm[m,0],Xm[m,1]) for m in range(M) ]\n",
      "/home/giovani/Documents/AutoSatViewer/wavelet_code/CityHub.py:1188: FutureWarning: The `great_circle_vec` function has been renamed `great_circle`. Calling `great_circle_vec` will raise an error starting in the v2.0.0 release.\n",
      "  sigma = .5*np.mean([ ox.distance.great_circle_vec(Xm[i,0],Xm[i,1],Xm[j,0],Xm[j,1]) for i in range(M) for j in range(1+i,M)])\n",
      "/home/giovani/Documents/AutoSatViewer/wavelet_code/CityHub.py:1139: FutureWarning: The `great_circle_vec` function has been renamed `great_circle`. Calling `great_circle_vec` will raise an error starting in the v2.0.0 release.\n",
      "  D = [ ox.distance.great_circle_vec(X[:,0],X[:,1],Xm[m,0],Xm[m,1]) for m in range(M) ]\n"
     ]
    }
   ],
   "source": [
    "time_interval = \"Day\"\n",
    "poly_division = \"SpDistricts\"\n",
    "\n",
    "for station in [\"MIRANTE\", \"BARUERI\", \"INTERLAGOS\"]:\n",
    "    ch.load_SMLayers_known_measurements(station, f\"data/geo_data/{station}_weather_{time_interval}.csv\")\n",
    "ch.load_SMLayers_measurements_points_info(\"data/geo_data/Stations_info.csv\");\n",
    "\n",
    "\n",
    "\n",
    "gdf = gpd.read_file(f\"data/shapefiles/{poly_division}.shp\")\n",
    "gdf[\"lat\"] = gdf.centroid.y\n",
    "gdf[\"lng\"] = gdf.centroid.x\n",
    "for feature in [\"temperature\", \"precipitation\"]:\n",
    "    poly_feature = ch.sparse_ts_estimation(feature, month_range[0], month_range[1], gdf, \"lat\", \"lng\")\n",
    "    poly_feature = poly_feature.T.reset_index()\n",
    "    poly_feature = poly_feature[poly_feature.Data >= day_range[0]]\n",
    "    poly_feature = poly_feature[poly_feature.Data < day_range[1]]\n",
    "    poly_feature = poly_feature.iloc[:, 1:]\n",
    "\n",
    "    ts = poly_feature.values.T\n",
    "    print(ts.shape)\n",
    "    np.save(f\"data/time_series/{feature}_{poly_division}_{time_interval}.npy\", ts)"
   ]
  },
  {
   "cell_type": "code",
   "execution_count": 14,
   "metadata": {},
   "outputs": [
    {
     "name": "stdout",
     "output_type": "stream",
     "text": [
      "(4900, 275)\n",
      "(4900, 275)\n"
     ]
    },
    {
     "name": "stderr",
     "output_type": "stream",
     "text": [
      "/tmp/ipykernel_608832/4020563038.py:11: UserWarning: Geometry is in a geographic CRS. Results from 'centroid' are likely incorrect. Use 'GeoSeries.to_crs()' to re-project geometries to a projected CRS before this operation.\n",
      "\n",
      "  gdf[\"lat\"] = gdf.centroid.y\n",
      "/tmp/ipykernel_608832/4020563038.py:12: UserWarning: Geometry is in a geographic CRS. Results from 'centroid' are likely incorrect. Use 'GeoSeries.to_crs()' to re-project geometries to a projected CRS before this operation.\n",
      "\n",
      "  gdf[\"lng\"] = gdf.centroid.x\n",
      "/home/giovani/Documents/AutoSatViewer/wavelet_code/CityHub.py:1188: FutureWarning: The `great_circle_vec` function has been renamed `great_circle`. Calling `great_circle_vec` will raise an error starting in the v2.0.0 release.\n",
      "  sigma = .5*np.mean([ ox.distance.great_circle_vec(Xm[i,0],Xm[i,1],Xm[j,0],Xm[j,1]) for i in range(M) for j in range(1+i,M)])\n",
      "/home/giovani/Documents/AutoSatViewer/wavelet_code/CityHub.py:1139: FutureWarning: The `great_circle_vec` function has been renamed `great_circle`. Calling `great_circle_vec` will raise an error starting in the v2.0.0 release.\n",
      "  D = [ ox.distance.great_circle_vec(X[:,0],X[:,1],Xm[m,0],Xm[m,1]) for m in range(M) ]\n",
      "/home/giovani/Documents/AutoSatViewer/wavelet_code/CityHub.py:1188: FutureWarning: The `great_circle_vec` function has been renamed `great_circle`. Calling `great_circle_vec` will raise an error starting in the v2.0.0 release.\n",
      "  sigma = .5*np.mean([ ox.distance.great_circle_vec(Xm[i,0],Xm[i,1],Xm[j,0],Xm[j,1]) for i in range(M) for j in range(1+i,M)])\n",
      "/home/giovani/Documents/AutoSatViewer/wavelet_code/CityHub.py:1139: FutureWarning: The `great_circle_vec` function has been renamed `great_circle`. Calling `great_circle_vec` will raise an error starting in the v2.0.0 release.\n",
      "  D = [ ox.distance.great_circle_vec(X[:,0],X[:,1],Xm[m,0],Xm[m,1]) for m in range(M) ]\n"
     ]
    }
   ],
   "source": [
    "time_interval = \"Day\"\n",
    "poly_division = \"SpGrid\"\n",
    "\n",
    "for station in [\"MIRANTE\", \"BARUERI\", \"INTERLAGOS\"]:\n",
    "    ch.load_SMLayers_known_measurements(station, f\"data/geo_data/{station}_weather_{time_interval}.csv\")\n",
    "ch.load_SMLayers_measurements_points_info(\"data/geo_data/Stations_info.csv\");\n",
    "\n",
    "\n",
    "\n",
    "gdf = gpd.read_file(f\"data/shapefiles/{poly_division}.shp\")\n",
    "gdf[\"lat\"] = gdf.centroid.y\n",
    "gdf[\"lng\"] = gdf.centroid.x\n",
    "for feature in [\"temperature\", \"precipitation\"]:\n",
    "    poly_feature = ch.sparse_ts_estimation(feature, month_range[0], month_range[1], gdf, \"lat\", \"lng\")\n",
    "    poly_feature = poly_feature.T.reset_index()\n",
    "    poly_feature = poly_feature[poly_feature.Data >= day_range[0]]\n",
    "    poly_feature = poly_feature[poly_feature.Data < day_range[1]]\n",
    "    poly_feature = poly_feature.iloc[:, 1:]\n",
    "\n",
    "    ts = poly_feature.values.T\n",
    "    print(ts.shape)\n",
    "    np.save(f\"data/time_series/{feature}_{poly_division}_{time_interval}.npy\", ts)"
   ]
  },
  {
   "cell_type": "markdown",
   "metadata": {},
   "source": [
    "### Waze"
   ]
  },
  {
   "cell_type": "code",
   "execution_count": 18,
   "metadata": {},
   "outputs": [
    {
     "name": "stdout",
     "output_type": "stream",
     "text": [
      "(10000000, 6)\n"
     ]
    }
   ],
   "source": [
    "N = 10000000\n",
    "df = pd.read_csv(\"data/time_series/waze-alerts.csv\")\n",
    "df = df.sample(N, random_state = 0)\n",
    "print(df.shape)\n",
    "df[\"date\"] = pd.to_datetime(df[\"ts\"])\n",
    "df[\"LONGITUDE\"] = df[\"geo\"].apply(lambda x : x.split(\"(\")[1].split(\" \")[0])\n",
    "df[\"LATITUDE\"] = df[\"geo\"].apply(lambda x : x.split(\" \")[1].split(\")\")[0])\n",
    "df.LONGITUDE = df.LONGITUDE.astype(float)\n",
    "df.LATITUDE = df.LATITUDE.astype(float)\n",
    "# change ROAD_CLOSED to ROADCLOSED\n",
    "df[\" type\"] = df[\" type\"].apply(lambda x : \"ROADCLOSED\" if x == \"ROAD_CLOSED\" else x)"
   ]
  },
  {
   "cell_type": "code",
   "execution_count": 19,
   "metadata": {},
   "outputs": [
    {
     "name": "stderr",
     "output_type": "stream",
     "text": [
      "/home/giovani/anaconda3/envs/wavelet_code/lib/python3.10/site-packages/sklearn/base.py:457: UserWarning: X has feature names, but NearestNeighbors was fitted without feature names\n",
      "  warnings.warn(\n",
      "100%|██████████| 2246284/2246284 [06:19<00:00, 5918.04it/s]\n"
     ]
    },
    {
     "name": "stdout",
     "output_type": "stream",
     "text": [
      "Number of points: 2246284\n",
      "Number of points without polygon: 3.26%\n",
      "Number of months: 45\n",
      "Number of days: 275\n"
     ]
    },
    {
     "name": "stderr",
     "output_type": "stream",
     "text": [
      "/home/giovani/anaconda3/envs/wavelet_code/lib/python3.10/site-packages/sklearn/base.py:457: UserWarning: X has feature names, but NearestNeighbors was fitted without feature names\n",
      "  warnings.warn(\n",
      "100%|██████████| 7145150/7145150 [18:15<00:00, 6521.91it/s]\n"
     ]
    },
    {
     "name": "stdout",
     "output_type": "stream",
     "text": [
      "Number of points: 7145150\n",
      "Number of points without polygon: 2.78%\n",
      "Number of months: 45\n",
      "Number of days: 275\n"
     ]
    },
    {
     "name": "stderr",
     "output_type": "stream",
     "text": [
      "/home/giovani/anaconda3/envs/wavelet_code/lib/python3.10/site-packages/sklearn/base.py:457: UserWarning: X has feature names, but NearestNeighbors was fitted without feature names\n",
      "  warnings.warn(\n",
      "100%|██████████| 222228/222228 [00:36<00:00, 6013.67it/s]\n"
     ]
    },
    {
     "name": "stdout",
     "output_type": "stream",
     "text": [
      "Number of points: 222228\n",
      "Number of points without polygon: 3.13%\n",
      "Number of months: 45\n",
      "Number of days: 275\n"
     ]
    },
    {
     "name": "stderr",
     "output_type": "stream",
     "text": [
      "/home/giovani/anaconda3/envs/wavelet_code/lib/python3.10/site-packages/sklearn/base.py:457: UserWarning: X has feature names, but NearestNeighbors was fitted without feature names\n",
      "  warnings.warn(\n",
      "100%|██████████| 300545/300545 [00:50<00:00, 5973.07it/s]\n"
     ]
    },
    {
     "name": "stdout",
     "output_type": "stream",
     "text": [
      "Number of points: 300545\n",
      "Number of points without polygon: 3.63%\n",
      "Number of months: 45\n",
      "Number of days: 275\n"
     ]
    },
    {
     "name": "stderr",
     "output_type": "stream",
     "text": [
      "/home/giovani/anaconda3/envs/wavelet_code/lib/python3.10/site-packages/sklearn/base.py:457: UserWarning: X has feature names, but NearestNeighbors was fitted without feature names\n",
      "  warnings.warn(\n",
      "100%|██████████| 85793/85793 [00:12<00:00, 6649.67it/s]\n"
     ]
    },
    {
     "name": "stdout",
     "output_type": "stream",
     "text": [
      "Number of points: 85793\n",
      "Number of points without polygon: 2.14%\n",
      "Number of months: 45\n",
      "Number of days: 275\n"
     ]
    },
    {
     "name": "stderr",
     "output_type": "stream",
     "text": [
      "/home/giovani/anaconda3/envs/wavelet_code/lib/python3.10/site-packages/sklearn/base.py:457: UserWarning: X has feature names, but NearestNeighbors was fitted without feature names\n",
      "  warnings.warn(\n",
      "100%|██████████| 2246284/2246284 [03:23<00:00, 11035.62it/s]\n"
     ]
    },
    {
     "name": "stdout",
     "output_type": "stream",
     "text": [
      "Number of points: 2246284\n",
      "Number of points without polygon: 65.65%\n",
      "Number of months: 45\n",
      "Number of days: 275\n"
     ]
    },
    {
     "name": "stderr",
     "output_type": "stream",
     "text": [
      "/home/giovani/anaconda3/envs/wavelet_code/lib/python3.10/site-packages/sklearn/base.py:457: UserWarning: X has feature names, but NearestNeighbors was fitted without feature names\n",
      "  warnings.warn(\n",
      "100%|██████████| 7145150/7145150 [10:25<00:00, 11429.53it/s]\n"
     ]
    },
    {
     "name": "stdout",
     "output_type": "stream",
     "text": [
      "Number of points: 7145150\n",
      "Number of points without polygon: 56.87%\n",
      "Number of months: 45\n",
      "Number of days: 275\n"
     ]
    },
    {
     "name": "stderr",
     "output_type": "stream",
     "text": [
      "/home/giovani/anaconda3/envs/wavelet_code/lib/python3.10/site-packages/sklearn/base.py:457: UserWarning: X has feature names, but NearestNeighbors was fitted without feature names\n",
      "  warnings.warn(\n",
      "100%|██████████| 222228/222228 [00:19<00:00, 11361.97it/s]\n"
     ]
    },
    {
     "name": "stdout",
     "output_type": "stream",
     "text": [
      "Number of points: 222228\n",
      "Number of points without polygon: 63.95%\n",
      "Number of months: 45\n",
      "Number of days: 275\n"
     ]
    },
    {
     "name": "stderr",
     "output_type": "stream",
     "text": [
      "/home/giovani/anaconda3/envs/wavelet_code/lib/python3.10/site-packages/sklearn/base.py:457: UserWarning: X has feature names, but NearestNeighbors was fitted without feature names\n",
      "  warnings.warn(\n",
      "100%|██████████| 300545/300545 [00:26<00:00, 11133.46it/s]\n"
     ]
    },
    {
     "name": "stdout",
     "output_type": "stream",
     "text": [
      "Number of points: 300545\n",
      "Number of points without polygon: 66.15%\n",
      "Number of months: 45\n",
      "Number of days: 275\n"
     ]
    },
    {
     "name": "stderr",
     "output_type": "stream",
     "text": [
      "/home/giovani/anaconda3/envs/wavelet_code/lib/python3.10/site-packages/sklearn/base.py:457: UserWarning: X has feature names, but NearestNeighbors was fitted without feature names\n",
      "  warnings.warn(\n",
      "100%|██████████| 85793/85793 [00:07<00:00, 11805.67it/s]\n"
     ]
    },
    {
     "name": "stdout",
     "output_type": "stream",
     "text": [
      "Number of points: 85793\n",
      "Number of points without polygon: 45.20%\n",
      "Number of months: 45\n",
      "Number of days: 275\n"
     ]
    },
    {
     "name": "stderr",
     "output_type": "stream",
     "text": [
      "/home/giovani/anaconda3/envs/wavelet_code/lib/python3.10/site-packages/sklearn/base.py:457: UserWarning: X has feature names, but NearestNeighbors was fitted without feature names\n",
      "  warnings.warn(\n",
      "100%|██████████| 2246284/2246284 [03:47<00:00, 9861.01it/s] \n"
     ]
    },
    {
     "name": "stdout",
     "output_type": "stream",
     "text": [
      "Number of points: 2246284\n",
      "Number of points without polygon: 90.55%\n",
      "Number of months: 45\n",
      "Number of days: 275\n"
     ]
    },
    {
     "name": "stderr",
     "output_type": "stream",
     "text": [
      "/home/giovani/anaconda3/envs/wavelet_code/lib/python3.10/site-packages/sklearn/base.py:457: UserWarning: X has feature names, but NearestNeighbors was fitted without feature names\n",
      "  warnings.warn(\n",
      "100%|██████████| 7145150/7145150 [11:55<00:00, 9992.52it/s] \n"
     ]
    },
    {
     "name": "stdout",
     "output_type": "stream",
     "text": [
      "Number of points: 7145150\n",
      "Number of points without polygon: 88.73%\n",
      "Number of months: 45\n",
      "Number of days: 275\n"
     ]
    },
    {
     "name": "stderr",
     "output_type": "stream",
     "text": [
      "/home/giovani/anaconda3/envs/wavelet_code/lib/python3.10/site-packages/sklearn/base.py:457: UserWarning: X has feature names, but NearestNeighbors was fitted without feature names\n",
      "  warnings.warn(\n",
      "100%|██████████| 222228/222228 [00:22<00:00, 9988.89it/s] \n"
     ]
    },
    {
     "name": "stdout",
     "output_type": "stream",
     "text": [
      "Number of points: 222228\n",
      "Number of points without polygon: 89.92%\n",
      "Number of months: 45\n",
      "Number of days: 275\n"
     ]
    },
    {
     "name": "stderr",
     "output_type": "stream",
     "text": [
      "/home/giovani/anaconda3/envs/wavelet_code/lib/python3.10/site-packages/sklearn/base.py:457: UserWarning: X has feature names, but NearestNeighbors was fitted without feature names\n",
      "  warnings.warn(\n",
      "100%|██████████| 300545/300545 [00:30<00:00, 9950.90it/s] \n"
     ]
    },
    {
     "name": "stdout",
     "output_type": "stream",
     "text": [
      "Number of points: 300545\n",
      "Number of points without polygon: 91.11%\n",
      "Number of months: 45\n",
      "Number of days: 275\n"
     ]
    },
    {
     "name": "stderr",
     "output_type": "stream",
     "text": [
      "/home/giovani/anaconda3/envs/wavelet_code/lib/python3.10/site-packages/sklearn/base.py:457: UserWarning: X has feature names, but NearestNeighbors was fitted without feature names\n",
      "  warnings.warn(\n",
      "100%|██████████| 85793/85793 [00:08<00:00, 9699.34it/s]\n"
     ]
    },
    {
     "name": "stdout",
     "output_type": "stream",
     "text": [
      "Number of points: 85793\n",
      "Number of points without polygon: 80.66%\n",
      "Number of months: 45\n",
      "Number of days: 275\n"
     ]
    },
    {
     "name": "stderr",
     "output_type": "stream",
     "text": [
      "/home/giovani/anaconda3/envs/wavelet_code/lib/python3.10/site-packages/sklearn/base.py:457: UserWarning: X has feature names, but NearestNeighbors was fitted without feature names\n",
      "  warnings.warn(\n",
      "100%|██████████| 2246284/2246284 [03:52<00:00, 9643.75it/s]\n"
     ]
    },
    {
     "name": "stdout",
     "output_type": "stream",
     "text": [
      "Number of points: 2246284\n",
      "Number of points without polygon: 74.04%\n",
      "Number of months: 45\n",
      "Number of days: 275\n"
     ]
    },
    {
     "name": "stderr",
     "output_type": "stream",
     "text": [
      "/home/giovani/anaconda3/envs/wavelet_code/lib/python3.10/site-packages/sklearn/base.py:457: UserWarning: X has feature names, but NearestNeighbors was fitted without feature names\n",
      "  warnings.warn(\n",
      "100%|██████████| 7145150/7145150 [12:10<00:00, 9776.33it/s] \n"
     ]
    },
    {
     "name": "stdout",
     "output_type": "stream",
     "text": [
      "Number of points: 7145150\n",
      "Number of points without polygon: 66.69%\n",
      "Number of months: 45\n",
      "Number of days: 275\n"
     ]
    },
    {
     "name": "stderr",
     "output_type": "stream",
     "text": [
      "/home/giovani/anaconda3/envs/wavelet_code/lib/python3.10/site-packages/sklearn/base.py:457: UserWarning: X has feature names, but NearestNeighbors was fitted without feature names\n",
      "  warnings.warn(\n",
      "100%|██████████| 222228/222228 [00:22<00:00, 10000.82it/s]\n"
     ]
    },
    {
     "name": "stdout",
     "output_type": "stream",
     "text": [
      "Number of points: 222228\n",
      "Number of points without polygon: 72.36%\n",
      "Number of months: 45\n",
      "Number of days: 275\n"
     ]
    },
    {
     "name": "stderr",
     "output_type": "stream",
     "text": [
      "/home/giovani/anaconda3/envs/wavelet_code/lib/python3.10/site-packages/sklearn/base.py:457: UserWarning: X has feature names, but NearestNeighbors was fitted without feature names\n",
      "  warnings.warn(\n",
      "100%|██████████| 300545/300545 [00:30<00:00, 9971.42it/s] \n"
     ]
    },
    {
     "name": "stdout",
     "output_type": "stream",
     "text": [
      "Number of points: 300545\n",
      "Number of points without polygon: 75.24%\n",
      "Number of months: 45\n",
      "Number of days: 275\n"
     ]
    },
    {
     "name": "stderr",
     "output_type": "stream",
     "text": [
      "/home/giovani/anaconda3/envs/wavelet_code/lib/python3.10/site-packages/sklearn/base.py:457: UserWarning: X has feature names, but NearestNeighbors was fitted without feature names\n",
      "  warnings.warn(\n",
      "100%|██████████| 85793/85793 [00:08<00:00, 9785.45it/s] \n"
     ]
    },
    {
     "name": "stdout",
     "output_type": "stream",
     "text": [
      "Number of points: 85793\n",
      "Number of points without polygon: 60.81%\n",
      "Number of months: 45\n",
      "Number of days: 275\n"
     ]
    }
   ],
   "source": [
    "alerts_types = df[\" type\"].unique()\n",
    "for poly in [\"SpDistricts\", \"SpGrid\", \"SpCenterCensus2k\", \"SpCenterCensus5k\"]:\n",
    "    for ty in alerts_types:\n",
    "        df_filter = df[df[\" type\"] == ty].copy()\n",
    "        gdf = gpd.read_file(f\"data/shapefiles/{poly}.geojson\")\n",
    "        create_sp_timeseries(df_filter, gdf, f\"Waze{ty}\", poly)"
   ]
  },
  {
   "cell_type": "markdown",
   "metadata": {},
   "source": [
    "### Crime theft and robbery"
   ]
  },
  {
   "cell_type": "code",
   "execution_count": 20,
   "metadata": {},
   "outputs": [
    {
     "name": "stderr",
     "output_type": "stream",
     "text": [
      "/tmp/ipykernel_170321/2216112243.py:1: DtypeWarning: Columns (17) have mixed types. Specify dtype option on import or set low_memory=False.\n",
      "  df = pd.read_csv(\"data/time_series/furto_celular_2018_2022.csv\", sep = \";\")\n"
     ]
    },
    {
     "data": {
      "text/plain": [
       "(389397, 13)"
      ]
     },
     "execution_count": 20,
     "metadata": {},
     "output_type": "execute_result"
    }
   ],
   "source": [
    "df = pd.read_csv(\"data/time_series/furto_celular_2018_2022.csv\", sep = \";\")\n",
    "# drop columns with more than 0.1 of missing values\n",
    "df[\"date\"] = pd.to_datetime(df.DATAOCORRENCIA, format='%d/%m/%Y', errors='coerce')\n",
    "df = df.dropna(thresh=0.9*len(df), axis=1)\n",
    "df = df.dropna()\n",
    "df = df.drop(columns = [\"ANO_BO\", \"DATAOCORRENCIA\"], axis = 1)\n",
    "df = df[df.date > \"2018-01-01\"]\n",
    "df = df.reset_index(drop=True)\n",
    "df.shape"
   ]
  },
  {
   "cell_type": "code",
   "execution_count": 21,
   "metadata": {},
   "outputs": [
    {
     "name": "stderr",
     "output_type": "stream",
     "text": [
      "/home/giovani/anaconda3/envs/wavelet_code/lib/python3.10/site-packages/sklearn/base.py:457: UserWarning: X has feature names, but NearestNeighbors was fitted without feature names\n",
      "  warnings.warn(\n",
      "  5%|▍         | 19458/389397 [00:03<00:56, 6550.39it/s]"
     ]
    },
    {
     "name": "stderr",
     "output_type": "stream",
     "text": [
      "100%|██████████| 389397/389397 [00:59<00:00, 6511.32it/s]\n"
     ]
    },
    {
     "name": "stdout",
     "output_type": "stream",
     "text": [
      "Number of points: 389397\n",
      "Number of points without polygon: 4.55%\n",
      "Number of months: 45\n",
      "Number of days: 275\n"
     ]
    },
    {
     "name": "stderr",
     "output_type": "stream",
     "text": [
      "/home/giovani/anaconda3/envs/wavelet_code/lib/python3.10/site-packages/sklearn/base.py:457: UserWarning: X has feature names, but NearestNeighbors was fitted without feature names\n",
      "  warnings.warn(\n",
      "100%|██████████| 389397/389397 [00:32<00:00, 12163.44it/s]\n"
     ]
    },
    {
     "name": "stdout",
     "output_type": "stream",
     "text": [
      "Number of points: 389397\n",
      "Number of points without polygon: 44.10%\n",
      "Number of months: 45\n",
      "Number of days: 275\n"
     ]
    },
    {
     "name": "stderr",
     "output_type": "stream",
     "text": [
      "/home/giovani/anaconda3/envs/wavelet_code/lib/python3.10/site-packages/sklearn/base.py:457: UserWarning: X has feature names, but NearestNeighbors was fitted without feature names\n",
      "  warnings.warn(\n",
      "100%|██████████| 389397/389397 [00:39<00:00, 9866.04it/s] \n"
     ]
    },
    {
     "name": "stdout",
     "output_type": "stream",
     "text": [
      "Number of points: 389397\n",
      "Number of points without polygon: 70.93%\n",
      "Number of months: 45\n",
      "Number of days: 275\n"
     ]
    },
    {
     "name": "stderr",
     "output_type": "stream",
     "text": [
      "/home/giovani/anaconda3/envs/wavelet_code/lib/python3.10/site-packages/sklearn/base.py:457: UserWarning: X has feature names, but NearestNeighbors was fitted without feature names\n",
      "  warnings.warn(\n",
      "100%|██████████| 389397/389397 [00:39<00:00, 9776.84it/s] \n"
     ]
    },
    {
     "name": "stdout",
     "output_type": "stream",
     "text": [
      "Number of points: 389397\n",
      "Number of points without polygon: 57.32%\n",
      "Number of months: 45\n",
      "Number of days: 275\n"
     ]
    }
   ],
   "source": [
    "for poly in [\"SpDistricts\", \"SpGrid\", \"SpCenterCensus2k\", \"SpCenterCensus5k\"]:\n",
    "    gdf = gpd.read_file(f\"data/shapefiles/{poly}.geojson\")\n",
    "    create_sp_timeseries(df, gdf, \"FurtoCelular\", poly)"
   ]
  },
  {
   "cell_type": "markdown",
   "metadata": {},
   "source": [
    "## Crime robbery"
   ]
  },
  {
   "cell_type": "code",
   "execution_count": 22,
   "metadata": {},
   "outputs": [
    {
     "name": "stderr",
     "output_type": "stream",
     "text": [
      "/tmp/ipykernel_170321/1213486941.py:1: DtypeWarning: Columns (17) have mixed types. Specify dtype option on import or set low_memory=False.\n",
      "  df = pd.read_csv(\"data/time_series/roubo_celular_2018_2022.csv\", sep = \";\")\n"
     ]
    },
    {
     "data": {
      "text/plain": [
       "(588122, 14)"
      ]
     },
     "execution_count": 22,
     "metadata": {},
     "output_type": "execute_result"
    }
   ],
   "source": [
    "df = pd.read_csv(\"data/time_series/roubo_celular_2018_2022.csv\", sep = \";\")\n",
    "# drop columns with more than 0.1 of missing values\n",
    "df[\"date\"] = pd.to_datetime(df.DATAOCORRENCIA, format='%d/%m/%Y', errors='coerce')\n",
    "df = df.dropna(thresh=0.9*len(df), axis=1)\n",
    "df = df.dropna()\n",
    "df = df.drop(columns = [\"ANO_BO\", \"DATAOCORRENCIA\"], axis = 1)\n",
    "df = df[df.date > \"2018-01-01\"]\n",
    "df = df.reset_index(drop=True)\n",
    "df.shape"
   ]
  },
  {
   "cell_type": "code",
   "execution_count": 23,
   "metadata": {},
   "outputs": [
    {
     "name": "stderr",
     "output_type": "stream",
     "text": [
      "/home/giovani/anaconda3/envs/wavelet_code/lib/python3.10/site-packages/sklearn/base.py:457: UserWarning: X has feature names, but NearestNeighbors was fitted without feature names\n",
      "  warnings.warn(\n",
      "  2%|▏         | 10774/588122 [00:02<01:45, 5486.48it/s]"
     ]
    },
    {
     "name": "stderr",
     "output_type": "stream",
     "text": [
      "100%|██████████| 588122/588122 [01:49<00:00, 5368.75it/s]\n"
     ]
    },
    {
     "name": "stdout",
     "output_type": "stream",
     "text": [
      "Number of points: 588122\n",
      "Number of points without polygon: 11.03%\n",
      "Number of months: 45\n",
      "Number of days: 275\n"
     ]
    },
    {
     "name": "stderr",
     "output_type": "stream",
     "text": [
      "/home/giovani/anaconda3/envs/wavelet_code/lib/python3.10/site-packages/sklearn/base.py:457: UserWarning: X has feature names, but NearestNeighbors was fitted without feature names\n",
      "  warnings.warn(\n",
      "100%|██████████| 588122/588122 [00:54<00:00, 10854.66it/s]\n"
     ]
    },
    {
     "name": "stdout",
     "output_type": "stream",
     "text": [
      "Number of points: 588122\n",
      "Number of points without polygon: 80.55%\n",
      "Number of months: 45\n",
      "Number of days: 275\n"
     ]
    },
    {
     "name": "stderr",
     "output_type": "stream",
     "text": [
      "/home/giovani/anaconda3/envs/wavelet_code/lib/python3.10/site-packages/sklearn/base.py:457: UserWarning: X has feature names, but NearestNeighbors was fitted without feature names\n",
      "  warnings.warn(\n",
      "100%|██████████| 588122/588122 [00:58<00:00, 10107.88it/s]\n"
     ]
    },
    {
     "name": "stdout",
     "output_type": "stream",
     "text": [
      "Number of points: 588122\n",
      "Number of points without polygon: 91.37%\n",
      "Number of months: 45\n",
      "Number of days: 275\n"
     ]
    },
    {
     "name": "stderr",
     "output_type": "stream",
     "text": [
      "/home/giovani/anaconda3/envs/wavelet_code/lib/python3.10/site-packages/sklearn/base.py:457: UserWarning: X has feature names, but NearestNeighbors was fitted without feature names\n",
      "  warnings.warn(\n",
      "100%|██████████| 588122/588122 [00:58<00:00, 10069.86it/s]\n"
     ]
    },
    {
     "name": "stdout",
     "output_type": "stream",
     "text": [
      "Number of points: 588122\n",
      "Number of points without polygon: 84.68%\n",
      "Number of months: 45\n",
      "Number of days: 275\n"
     ]
    }
   ],
   "source": [
    "for poly in [\"SpDistricts\", \"SpGrid\", \"SpCenterCensus2k\", \"SpCenterCensus5k\"]:\n",
    "    gdf = gpd.read_file(f\"data/shapefiles/{poly}.geojson\")\n",
    "    create_sp_timeseries(df, gdf, \"RouboCelular\", poly)"
   ]
  },
  {
   "cell_type": "markdown",
   "metadata": {},
   "source": [
    "### Unify time-series"
   ]
  },
  {
   "cell_type": "code",
   "execution_count": 24,
   "metadata": {},
   "outputs": [],
   "source": [
    "features_naming = {\n",
    "    \"temperature\": \"Temperature\",\n",
    "    \"precipitation\": \"Precipitation\",\n",
    "    \"WazeJAM\": \"Jam\",\n",
    "    \"WazeACCIDENT\": \"Accident\",\n",
    "    \"WazeHAZARD\": \"Hazard\",\n",
    "    \"WazeROADCLOSED\": \"Road Closed\",\n",
    "    \"WazeWEATHERHAZARD\": \"Weather Hazard\",\n",
    "    \"FurtoCelular\": \"Phone Theft\",\n",
    "    \"RouboCelular\": \"Phone Robbery\"\n",
    "}"
   ]
  },
  {
   "cell_type": "code",
   "execution_count": 37,
   "metadata": {},
   "outputs": [],
   "source": [
    "def unity_time_series(poly_division, time_interval):\n",
    "    signals = [\"WazeACCIDENT\", \"WazeHAZARD\", \"WazeJAM\", \"WazeROADCLOSED\", \"WazeWEATHERHAZARD\", \"FurtoCelular\", \"RouboCelular\"]\n",
    "    ts = [\n",
    "        np.load(f\"data/time_series/{signal}_{poly_division}_{time_interval}.npy\") for signal in signals\n",
    "    ]\n",
    "    # drop if all values are 0\n",
    "    ts_sum = [np.sum(t) for t in ts]\n",
    "    ts = [t for i, t in enumerate(ts) if ts_sum[i] > 0]\n",
    "    signals = [s for i, s in enumerate(signals) if ts_sum[i] > 0]\n",
    "    df = []\n",
    "    if time_interval == \"Month\":\n",
    "        date = pd.date_range(start = month_range[0], end = month_range[1], freq = \"ME\")\n",
    "    else:\n",
    "        date = pd.date_range(start = day_range[0], end = day_range[1], freq = \"D\")\n",
    "    poly_id = np.arange(ts[0].shape[0])\n",
    "    for poly in range(ts[0].shape[0]):\n",
    "        for t in range(ts[0].shape[1]):\n",
    "            df.append({\n",
    "                \"date\" : date[t],\n",
    "                \"id_poly\" : poly_id[poly],\n",
    "            })\n",
    "            for i, signal in enumerate(signals):\n",
    "                df[-1][\n",
    "                    features_naming[signal]\n",
    "                ] = ts[i][poly, t]\n",
    "\n",
    "    df = pd.DataFrame(df)\n",
    "    print(df.shape)\n",
    "    df.to_csv(f\"data/polygon_data/{poly_division}_{time_interval}.csv\", index=False)"
   ]
  },
  {
   "cell_type": "code",
   "execution_count": 38,
   "metadata": {},
   "outputs": [
    {
     "name": "stdout",
     "output_type": "stream",
     "text": [
      "(4320, 8)\n"
     ]
    },
    {
     "name": "stdout",
     "output_type": "stream",
     "text": [
      "(112500, 8)\n",
      "(90000, 8)\n",
      "(225000, 8)\n",
      "(26400, 8)\n",
      "(687500, 8)\n",
      "(550000, 8)\n",
      "(1375000, 8)\n"
     ]
    }
   ],
   "source": [
    "for time_interval in [\"Month\", \"Day\"]:\n",
    "    for poly_division in [\"SpDistricts\", \"SpGrid\", \"SpCenterCensus2k\", \"SpCenterCensus5k\"]:\n",
    "        unity_time_series(poly_division, time_interval)"
   ]
  },
  {
   "cell_type": "markdown",
   "metadata": {},
   "source": [
    "### Get 3-day and 5-day time-series"
   ]
  },
  {
   "cell_type": "code",
   "execution_count": 3,
   "metadata": {},
   "outputs": [],
   "source": [
    "def get_three_five_days(poly_division):\n",
    "    n_days = 5\n",
    "    df = pd.read_csv(f\"data/polygon_data/{poly_division}_Day.csv\")\n",
    "    df[\"date_int\"] = pd.to_datetime(df.date).astype(int) / (60*60*24*10**9)\n",
    "    df[\"date_int\"] = df[\"date_int\"].astype(int)\n",
    "    df[\"date_int\"] -= df[\"date_int\"].min()\n",
    "    df[\"date_int\"] = df[\"date_int\"] // n_days\n",
    "    agg_dict = dict([(f, \"sum\") for f in df.columns if f not in [\"date\", \"id_poly\", \"date_int\"]])\n",
    "    agg_dict[\"date\"] = \"max\"\n",
    "\n",
    "    df = df.groupby([\"date_int\", \"id_poly\"]).agg(agg_dict).reset_index()\n",
    "    df = df.drop(columns = [\"date_int\"])\n",
    "    # place id_poly and date as first columns\n",
    "    cols = list(df.columns)\n",
    "    cols.remove(\"id_poly\")\n",
    "    cols.remove(\"date\")\n",
    "    df = df[[\"date\", \"id_poly\"] + cols].sort_values([\"id_poly\", \"date\"])\n",
    "    df.to_csv(f\"data/polygon_data/{poly_division}_5days.csv\", index=False)\n",
    "\n",
    "    n_days = 3\n",
    "    df = pd.read_csv(f\"data/polygon_data/{poly_division}_Day.csv\")\n",
    "    df[\"date_int\"] = pd.to_datetime(df.date).astype(int) / (60*60*24*10**9)\n",
    "    df[\"date_int\"] = df[\"date_int\"].astype(int)\n",
    "    df[\"date_int\"] -= df[\"date_int\"].min()\n",
    "    df[\"date_int\"] = df[\"date_int\"] // n_days\n",
    "    agg_dict = dict([(f, \"sum\") for f in df.columns if f not in [\"date\", \"id_poly\", \"date_int\"]])\n",
    "    agg_dict[\"date\"] = \"max\"\n",
    "\n",
    "    df = df.groupby([\"date_int\", \"id_poly\"]).agg(agg_dict).reset_index()\n",
    "    df = df.drop(columns = [\"date_int\"])\n",
    "    # place id_poly and date as first columns\n",
    "    cols = list(df.columns)\n",
    "    cols.remove(\"id_poly\")\n",
    "    cols.remove(\"date\")\n",
    "    df = df[[\"date\", \"id_poly\"] + cols].sort_values([\"id_poly\", \"date\"])\n",
    "    df.to_csv(f\"data/polygon_data/{poly_division}_3days.csv\", index=False)\n",
    "\n"
   ]
  },
  {
   "cell_type": "code",
   "execution_count": 19,
   "metadata": {},
   "outputs": [],
   "source": [
    "for poly_division in [\"SpDistricts\", \"SpGrid\", \"SpCenterCensus2k\", \"SpCenterCensus5k\"]:\n",
    "    get_three_five_days(poly_division)"
   ]
  }
 ],
 "metadata": {
  "kernelspec": {
   "display_name": "wavelet_code",
   "language": "python",
   "name": "python3"
  },
  "language_info": {
   "codemirror_mode": {
    "name": "ipython",
    "version": 3
   },
   "file_extension": ".py",
   "mimetype": "text/x-python",
   "name": "python",
   "nbconvert_exporter": "python",
   "pygments_lexer": "ipython3",
   "version": "3.10.13"
  }
 },
 "nbformat": 4,
 "nbformat_minor": 2
}
